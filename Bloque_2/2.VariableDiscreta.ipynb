{
 "cells": [
  {
   "cell_type": "markdown",
   "metadata": {},
   "source": [
    "# II.2 Variable Aleatoria Discreta\n",
    "\n",
    "Consideremos que la variable aleatoria $X$ sólo toma valores sobre un conjunto (finito o infinito) numerable de números. Los números Naturales, $\\mathbb{N}$, los números Enteros, $\\mathbb{Z}$, y los números Racionales, $\\mathbb{Q}$, son ejemplos de conjuntos infinitos numerables. Por su parte, los seis números de las caras de un dado constituyen un ejemplo de conjunto numerable finito. \n",
    "\n",
    "Consideremos que $x_i$ son los valores que puede tomar la variable aleatoria, donde $i\\in I$ se refiere a un índice numerable que recorre $I$ para poder indexar todos los valores. Por tanto $\\{X=x_i\\}$ se refiere a un suceso elemental cualquiera. "
   ]
  },
  {
   "cell_type": "markdown",
   "metadata": {},
   "source": [
    "Los sucesos correspondientes a cada valor de una variable discreta pueden tener probabilidades arbitrarias, que interpretaremos con el símil mecánico de *masa*. Podemos entonces definir una **función de masa de probabilidad (fmp)** que asigna una masa de probabilidad a cada suceso elemental representado por un valor posible de la variable aleatoria discreta\n",
    "\n",
    "$$p_X(x_i)=P(\\{X=x_i\\})\\qquad i \\in I$$\n",
    "\n",
    "Considerando las propiedades de la probabilidad, se cumple:\n",
    "$$0\\leq p_X(x_i)\\leq 1 \\qquad \\forall i \\in I$$\n",
    "$$\\sum_{i \\in I} p_X(x_i)=1$$"
   ]
  },
  {
   "cell_type": "markdown",
   "metadata": {},
   "source": [
    "Supongamos un dado trucado, cuya función de masa de probabilidad se representa en la siguiente tabla:\n",
    "\n",
    "$$\n",
    "\\begin{array}{c|cccccc|c}\n",
    "  X & 1 & 2 & 3 & 4 & 5 & 6 &  \\\\ \n",
    "  \\hline\n",
    "  p_X(x_i) & \\frac{1}{24} & \\frac{5}{24} & \\frac{5}{24} & \\frac{3}{24} & \\frac{4}{24} & \\frac{6}{24} & \\sum p_X(x_i)=1\n",
    " \\end{array}\n",
    "$$\n",
    "\n",
    "Podemos fácilmente obtener las probabilidades de sucesos arbitrarios. Por ejemplo, la probabilidad de que salga $3$ ó $5$ es:\n",
    "$$\n",
    "P(X=\\{3,5\\})=P(\\{X=3\\}\\bigcup \\{X=5\\}) = p_X(3)+p_X(5)=\\frac{9}{24}\n",
    "$$"
   ]
  },
  {
   "cell_type": "markdown",
   "metadata": {},
   "source": [
    "Supongamos ahora, sin pérdida de generalidad, que el índice que numera los posibles valores de la variable aleatoria $X$ es el conjunto de todos los números enteros $\\mathbb{Z}$, y que la ordenación es tal que $i<j \\iff x_i < x_j$. \n",
    "\n",
    "Definimos la **función acumulada de probabilidad (fap)**, $F_X(x_i)$, como sigue:\n",
    "\n",
    "$$F_X(x_i)=\\sum_{j=-\\infty}^{i}p_X(x_j)$$\n",
    "\n",
    "Adviértase que $F_X(-\\infty)=0$, $F_X(\\infty)=1$ y que $F_X(x_i)$ es una función *no decreciente* en toda subsucesión de puntos $x_i$.\n",
    "\n",
    "Por su parte, es fácil ver que $p_X(x_i)=F_X(x_i)-F_X(x_{i-1})$"
   ]
  },
  {
   "cell_type": "markdown",
   "metadata": {},
   "source": [
    "Calculemos la FAP para nuestro dado trucado, representándola en una tabla junto con la fmp:\n",
    "\n",
    "$$\n",
    "\\begin{array}{c|cccccccc|c}\n",
    "  X & 0 & 1 & 2 & 3 & 4 & 5 & 6 & 7 & \\\\ \n",
    "  \\hline\n",
    "  p_X(x_i) & 0 & \\frac{1}{24} & \\frac{5}{24} & \\frac{5}{24} & \\frac{3}{24} & \\frac{4}{24} & \\frac{6}{24} & 0 & \\sum p_X(x_i)=1 \\\\\n",
    "  \\hline\n",
    "  F_X(x_i) & 0 & \\frac{1}{24} & \\frac{6}{24} & \\frac{11}{24} & \\frac{14}{24} & \\frac{18}{24} & \\frac{24}{24} & \\frac{24}{24} & \\begin{matrix}  \n",
    "  F_X(x_i\\leq 0)=0\\\\\n",
    "  F_X(x_i\\geq 6)=1 \n",
    " \\end{matrix}\n",
    " \\end{array}\n",
    "$$\n",
    "\n",
    "Donde, para completar la repesentación hemos añadido los valores $0$ y $7$ que, lógicamente, corresponden a sucesos imposibles (como cualquier otro valor distinto de los primeros seis números naturales)."
   ]
  },
  {
   "cell_type": "markdown",
   "metadata": {},
   "source": [
    "## Probabilidad condicionada\n",
    "\n",
    "Considérese un suceso $M$, de probabilidad $P(M)$, del espacio muestral sobre el que se ha definido la variable aleatoria discreta $X$. Definimos la función de masa de probabilidad de $X$ condicionada por $M$ como sigue:\n",
    "\n",
    "$$p_X(x_i/M) = \\frac{P(\\{X=x_i\\}\\bigcap M)}{P(M)} $$\n",
    "\n",
    "Frecuentemente $M$ podrá expresarse por medio de la variable aleatoria $X$, lo que simplifica el cálculo."
   ]
  },
  {
   "cell_type": "markdown",
   "metadata": {},
   "source": [
    "Consideremos los sucesos *Par* e *Impar* en el dado trucado que ya hemos visto y calculemos las funciones de masa de probabilidad condicionadas $p_X(x_i/Par)$ y $p_X(x_i/Impar)$\n",
    "\n",
    "$$\n",
    "\\begin{array}{c|cccccc|c}\n",
    "  X & 1 & 2 & 3 & 4 & 5 & 6 &  \\\\ \n",
    "  \\hline\n",
    "  p_X(x_i) & \\frac{1}{24} & \\frac{5}{24} & \\frac{5}{24} & \\frac{3}{24} & \\frac{4}{24} & \\frac{6}{24} & \\sum p_X(x_i)=1 \\\\\n",
    "  \\hline\n",
    "  P(Impar) & \\frac{1}{24} & + & \\frac{5}{24} & + & \\frac{4}{24} &  & P(Impar) = \\frac{10}{24} \\\\\n",
    "  P(Par)  &  & \\frac{5}{24} & + & \\frac{3}{24} & + & \\frac{6}{24} & P(Par) = \\frac{14}{24}\\\\\n",
    "  \\hline\n",
    "  p_X(x_i/Impar) & \\frac{1}{10} & 0 & \\frac{5}{10} & 0 & \\frac{4}{10} & 0 & \\sum p_X(x_i/Impar)=1 \\\\\n",
    "  p_X(x_i/Par) & 0 & \\frac{5}{14} & 0 & \\frac{3}{14} & 0 & \\frac{6}{14} & \\sum p_X(x_i/Par)=1\n",
    " \\end{array}\n",
    "$$"
   ]
  },
  {
   "cell_type": "markdown",
   "metadata": {},
   "source": [
    "## Teorema de la Probabilidad Total\n",
    "\n",
    "Consideremos una partición del espacio muestral $M_i$ y que conocemos las funciones de masa de probabilidad de una variable aleatoria $X$ definida en el mismo condicionadas por todos los sucesos de dicha partición $p_X(x_i/M_j)$ así como las probabilidades de todos los sucesos condicionantes. \n",
    "\n",
    "La función de masa de probabilidad total (sin condicionar) de la variable aleatoria $X$ es\n",
    "\n",
    "$$p_X(x_i) = \\sum_{j=1}^N p_X(x_i/M_j)P(M_j)$$\n",
    "\n",
    "Adviértase que el teorema permite descomponer una función de masa de probabilidad en *mezcla* (*mixture*) de funciones de masa de probabilidad condicionadas, algo que resulta con frecuencia útil. "
   ]
  },
  {
   "cell_type": "markdown",
   "metadata": {},
   "source": [
    "La probabilidad total también puede aplicarse de forma alternativa, si lo que se conocen son las probabilidades un suceso arbitrario $A$ condicionadas por cada uno de los valores posibles de la variable aleatoria $X$, esto es, si se conocen $P(A/x_i)$. \n",
    "\n",
    "En tal caso, la probabilidad total del suceso $A$ (sin condicionar) es\n",
    "\n",
    "$$P(A) = \\sum_{i=-\\infty}^\\infty P(A/x_i) p_X(x_i)$$"
   ]
  },
  {
   "cell_type": "markdown",
   "metadata": {},
   "source": [
    "## Teorema de Bayes\n",
    "\n"
   ]
  }
 ],
 "metadata": {
  "kernelspec": {
   "display_name": "Python 3",
   "language": "python",
   "name": "python3"
  },
  "language_info": {
   "codemirror_mode": {
    "name": "ipython",
    "version": 3
   },
   "file_extension": ".py",
   "mimetype": "text/x-python",
   "name": "python",
   "nbconvert_exporter": "python",
   "pygments_lexer": "ipython3",
   "version": "3.6.6"
  }
 },
 "nbformat": 4,
 "nbformat_minor": 2
}
