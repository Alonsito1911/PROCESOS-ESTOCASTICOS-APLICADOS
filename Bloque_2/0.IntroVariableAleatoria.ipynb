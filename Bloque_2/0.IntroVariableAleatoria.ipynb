{
 "cells": [
  {
   "cell_type": "markdown",
   "metadata": {
    "slideshow": {
     "slide_type": "slide"
    }
   },
   "source": [
    "# II.0 Introducción al Concepto de Variable Aleatoria\n",
    "\n",
    "Recordemos que llamamos **espacio de probabilidad** a la terna $\\mathscr{E}(\\Omega, \\mathscr{F}, P)$ donde:\n",
    "\n",
    "* $\\Omega$ es el **espacio muestral** o conjunto de todos los resultados posibles del experimento aleatorio, formado por elementos **discretos** o definido de forma **continua**.\n",
    "* $\\mathscr{F}$ es el **conjunto de todos los sucesos** con resultados en $\\Omega$:\n",
    "  * $\\emptyset, \\Omega \\subset \\mathscr{F}$. \n",
    "  * $A, B \\subset \\mathscr{F} \\implies \\left\\{\\begin{matrix}\n",
    "  A \\cup B \\subset \\mathscr{F} \\\\\n",
    " A \\cap B \\subset \\mathscr{F}\n",
    " \\end{matrix}\\right.$\n",
    "  \n",
    "* **P es una ley que asigna probabilidades a los sucesos** de $\\mathscr{F}$\n",
    "\n",
    "$$\\begin{align*}\n",
    "P:  \\mathscr{F} & \\longmapsto [0, 1]\\\\\n",
    "   A, B & \\longmapsto P(A), P(B)\\\\\n",
    "   \\emptyset & \\longmapsto 0\\\\\n",
    "   \\Omega & \\longmapsto 1\n",
    "   \\end{align*}\n",
    "   $$\n",
    "\n",
    "$$P(A \\cup B) = P(A)+P(B)-P(A\\cap B)$$"
   ]
  },
  {
   "cell_type": "markdown",
   "metadata": {
    "slideshow": {
     "slide_type": "slide"
    }
   },
   "source": [
    "## Variable aleatoria\n",
    "\n",
    "Dado el **espacio de probabilidad** $\\mathscr{E}(\\Omega, \\mathscr{F}, P)$, definimos la **variable aleatoria** $X$\n",
    "\n",
    "$$\\begin{align*}\n",
    "X:  \\mathscr{\\Omega} & \\longmapsto \\mathbb{R}\\\\\n",
    "   \\alpha & \\longmapsto X(\\alpha)\n",
    "   \\end{align*}\n",
    "   $$\n",
    "\n",
    "asignando a cada resultado del espacio muestral un número real, con las condiciones:\n",
    "* $\\left\\{X \\leq x \\right\\}$, esto es, el conjunto formado por todos los elementos muestrales que al transformarse por la variable aleatoria son menores que $x$, es un suceso de $\\mathscr{F}$.\n",
    "* Son también sucesos de $\\mathscr{F}$, con la misma interpretación:\n",
    "   * $\\left\\{x_1 \\leq X \\leq x_1 \\right\\}$ \n",
    "   * $\\left\\{X = x \\right\\}$\n",
    "   * Los resultados de todas las operaciones conjuntistas sobre la recta real de sucesos definidos de las maneras anteriores.\n",
    "* Lógicamente, cada uno de los sucesos definidos con intervalos o elementos de la recta real tienen probabilidades asociadas, pues son sucesos del espacio de probabilidad.\n",
    "* Debe cumplirse que $P(\\left\\{X = \\infty \\right\\})=P(\\left\\{X = -\\infty \\right\\})=0$"
   ]
  },
  {
   "cell_type": "markdown",
   "metadata": {
    "slideshow": {
     "slide_type": "subslide"
    }
   },
   "source": [
    "### Ejemplo de variable aleatoria discreta: dado\n",
    "\n",
    "Consideremos un dado bueno (no trucado) cuyas caras están indicadas por las seis primeras letras del abecedario. El espacio de probabilidad es:\n",
    "\n",
    "* Espacio muestral $\\Omega=\\left\\{a, b, c, d, e, f\\right\\}$.\n",
    "* $\\mathscr{F}$ está formado por $2^6 = 64$ sucesos, incluyendo $\\emptyset$ y $\\Omega$, entre ellos, por ejemplo, $\\{a\\}, \\{a, c\\}, \\{d,e,f,\\}, \\{b,c,e,f\\}, \\{b,c,d,e,f\\},\\ldots$\n",
    "* Cada suceso tiene asignada una probabilidad fácilmente obtenible considerando que $P(a)=P(b)=P(c)=P(d)=P(e)=P(f)=1/6$ y aplicando la probabilidad de la unión de sucesos."
   ]
  },
  {
   "cell_type": "markdown",
   "metadata": {
    "slideshow": {
     "slide_type": "subslide"
    }
   },
   "source": [
    "Definamos la variable aleatoria $X: \\Omega \\longmapsto \\mathbb{R}$ \n",
    "$$X(a)=1, X(b)=2, X(c)=3, X(d)=4, X(e)=5, X(f)=6$$ \n",
    "\n",
    "Veamos algunos sucesos y sus probabilidades:\n",
    "* $\\{X > 7\\} = \\emptyset \\implies P(\\{X > 7\\})=0$\n",
    "* $\\{X \\leq 6.001\\} = \\Omega \\implies P(\\{X \\leq 6.001\\})=1$\n",
    "* $\\{X=3\\} = \\{c\\} \\implies P(\\{X=3\\})=1/6$\n",
    "* $\\{3< X \\leq 5\\} = \\{d, e\\} \\implies P(\\{3< X \\leq 5\\})=2/6=1/3$\n",
    "* $\\{X \\leq 3.5\\} = \\{a, b, c\\} \\implies P(\\{X \\leq 3.5\\})=3/6=1/2$\n",
    "* $\\{4 < X \\leq 4.999\\} = \\emptyset \\implies P(\\{4 < X \\leq 4.999\\})=0$\n",
    "* $\\{X \\leq 3.5\\}\\cup \\{X \\leq 5\\} = \\{X \\leq 5\\} = \\{a, b, c, d ,e\\} \\implies$ \n",
    "  * $\\implies P\\left(\\{X \\leq 3.5\\}\\cup \\{X \\leq 5\\}\\right)=P\\left(\\{X \\leq 5\\}\\right)=5/6$\n",
    "* $\\{X \\leq 3.5\\}\\cap \\{X \\leq 5\\} = \\{X \\leq 3.5\\} = \\{a, b, c\\} \\implies$ \n",
    "  * $\\implies P\\left(\\{X \\leq 3.5\\}\\cap \\{X \\leq 5\\}\\right)=P\\left(\\{X \\leq 3.5\\}\\right)=3/6= 1/2$\n",
    "\n",
    "Adviértase que \n",
    "\n",
    "$$P\\left(\\{X \\leq 3.5\\}\\cup \\{X \\leq 5\\}\\right) =\\\\ P\\left(\\{X \\leq 3.5\\}\\right) + P\\left(\\{X \\leq 5\\}\\right) - P\\left(\\{X \\leq 3.5\\}\\cap \\{X \\leq 5\\}\\right)$$"
   ]
  },
  {
   "cell_type": "markdown",
   "metadata": {
    "slideshow": {
     "slide_type": "subslide"
    }
   },
   "source": [
    "### Ejemplo de variable continua: tiempo de llegada\n",
    "\n",
    "Consideremos un hecho que acontece aleatoriamente dentro de un intervalo de tiempo $[T_0, T_1]$. Por ejemplo, una llamada telefónica del padre o la madre que siempre acontece entre las 22h y las 23h. Sabemos que siempre se produce la llamada, pero lo hara de forma igualmente aleatoria a lo largo del intervalo. \n",
    "\n",
    "El espacio muestral $\\Omega$ está formado por el intervalo con los infinitos instantes en los que puede acontecer el hecho, definidos sobre un eje temporal **continuo**, delimitados por los instantes $T_0$ y $T_1$. Los distintos subintervalos dentro del intervalo forman el espacio de sucesos $\\mathscr{F}$, asignándose probabilidades a cada uno como sigue:\n",
    "\n",
    "$$P(\\{t_a,t_b\\})= \\frac{t_b-t_a}{T_1-T_0}$$\n",
    "\n",
    "donde $\\{t_a,t_b\\}$ representa el subintervalo cuya probabilidad se desea calcular. En el ejemplo anterior, la probailidad de que la llamada acontezca entre 22:15h y 22:30h es de 0.25. Adviértase que **la probabilidad del hecho en un único instante es nula**, pues dicho instante se determina estrechando el subintervalo hasta el límite:\n",
    "\n",
    "$$P(\\{(t-\\frac{\\Delta}{2}),(t+\\frac{\\Delta}{2})\\})= \\frac{(t+\\frac{\\Delta}{2})-(t-\\frac{\\Delta}{2})}{T_1-T_0}\n",
    "      \\xrightarrow[\\Delta \\to 0]{} 0$$"
   ]
  },
  {
   "cell_type": "markdown",
   "metadata": {
    "slideshow": {
     "slide_type": "subslide"
    }
   },
   "source": [
    "En este caso, el espacio muestral continuo suele ya estar definido numéricamente, lo que implícitamente define una variable aleatoria. Veamos algunos intervalos para nuestro ejemplo de llamada, definiendo la variable aleatoria $X(t) = t$ sobre todo el eje real, convirtiendo los minutos, segundos y demás subunidades. Por ejemplo, las 22:15 corresponde 22.25, pues quince minutos es un cuarto de hora \n",
    "\n",
    "* $P(\\{X=22.30\\}) = 0$ pues la **probabilidad de cualquier instante siempre es nula**.\n",
    "* $P(\\{X < 22\\})=P(\\emptyset)=0$\n",
    "* $P(\\{X \\leq 22\\})=P(\\{22\\})=0$\n",
    "* $P(\\{X \\leq 22.75\\})=3/4$\n",
    "* $P(\\{X > 22.75\\}) = 1 - P(\\{X \\leq 22.75\\}) = 1/4$\n",
    "* $P(22.25 < X \\leq 22.75) = 1/2$\n",
    "* $P(X \\leq 23) = P(\\Omega) = 1$"
   ]
  }
 ],
 "metadata": {
  "celltoolbar": "Slideshow",
  "kernelspec": {
   "display_name": "Python 3",
   "language": "python",
   "name": "python3"
  },
  "language_info": {
   "codemirror_mode": {
    "name": "ipython",
    "version": 3
   },
   "file_extension": ".py",
   "mimetype": "text/x-python",
   "name": "python",
   "nbconvert_exporter": "python",
   "pygments_lexer": "ipython3",
   "version": "3.7.2"
  }
 },
 "nbformat": 4,
 "nbformat_minor": 2
}
