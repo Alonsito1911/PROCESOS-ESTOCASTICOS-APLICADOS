{
 "cells": [
  {
   "cell_type": "code",
   "execution_count": 1,
   "metadata": {},
   "outputs": [],
   "source": [
    "import matplotlib\n",
    "import matplotlib.pyplot as plt\n",
    "import numpy as np\n",
    "from scipy import stats"
   ]
  },
  {
   "cell_type": "markdown",
   "metadata": {},
   "source": [
    "# Distribuciones Discretas en Python"
   ]
  },
  {
   "cell_type": "markdown",
   "metadata": {},
   "source": [
    "## Distribución Uniforme"
   ]
  },
  {
   "cell_type": "markdown",
   "metadata": {},
   "source": [
    "Modela experimentos aleatorios cuyos resultados son categóricos y equiprobables. Por ejemplo:\n",
    "* \"Lanzar un dado (no trucado) y ver qué cara sale\".\n",
    "* \"Lanzar una moneda y ver qué lado queda a la vista\". \n",
    "\n",
    "Para facilitar el tratamiento como variable aleatoria, a cada resultado posible se le asigna una etiqueta numérica (entero positivo): \n",
    "* En el caso del dado, se asigna a cada cara uno de los números 1 al 6\n",
    "* En el caso de la moneda, se asigna el 0 a la cruz y 1 a la cara"
   ]
  },
  {
   "cell_type": "code",
   "execution_count": 2,
   "metadata": {},
   "outputs": [],
   "source": [
    "randint = stats.randint"
   ]
  },
  {
   "cell_type": "code",
   "execution_count": 3,
   "metadata": {},
   "outputs": [
    {
     "name": "stdout",
     "output_type": "stream",
     "text": [
      "Probabilidad de cada resultado:  0.16666666666666666\n"
     ]
    }
   ],
   "source": [
    "a=1; b=7 # fmp = 1/(b-a) fmp -> Función de masa de probabilidad\n",
    "print('Probabilidad de cada resultado: ', 1/(b-a))"
   ]
  },
  {
   "cell_type": "code",
   "execution_count": 4,
   "metadata": {},
   "outputs": [
    {
     "data": {
      "image/png": "[encoded data removed]",
      "text/plain": [
       "<Figure size 864x288 with 3 Axes>"
      ]
     },
     "metadata": {},
     "output_type": "display_data"
    }
   ],
   "source": [
    "plt.figure(figsize=(12,4))\n",
    "\n",
    "# Visualizar Función de Masa de Probabilidad (FMP)\n",
    "plt.subplot(1,3,1)\n",
    "x = np.arange(a,b)\n",
    "plt.plot(x, randint.pmf(x, low=a, high=b), 'bo', ms=8, label='FMP uniforme')\n",
    "plt.vlines(x, 0, randint.pmf(x, low=a, high=b), colors='b', lw=5, alpha=0.5)\n",
    "plt.legend(loc='best', frameon=True), plt.title('F. Masa Probabilidad (FMP)')\n",
    "plt.xlabel('resultado'), plt.ylabel('Probabilidad')\n",
    "ax = plt.gca() \n",
    "ax.set_xticks(x)\n",
    "\n",
    "# Visualizar Función de Distribución de Probabilidad (FDP)\n",
    "plt.subplot(1,3,2), \n",
    "step_x = .01 \n",
    "x = np.arange(a-1,b+step_x,step_x)\n",
    "plt.plot(x, randint.cdf(x, low=a, high=b), label='FDP uniforme'), plt.grid()\n",
    "plt.legend(loc='best', frameon=True), plt.title('F. Distrib. Probabilidad (FMP)'),\n",
    "plt.xlabel('resultado'), plt.ylabel('Probabilidad')\n",
    "ax = plt.gca() \n",
    "ax.set_xticks(np.arange(a,b))\n",
    "\n",
    "# Visualizar Función Cuantil (inversa de FDP) - Función Punto Porcentual\n",
    "plt.subplot(1,3,3), \n",
    "x = np.linspace(0.01,1,100, endpoint=True)\n",
    "plt.plot(x, randint.ppf(x, low=a, high=b), label='Cuantil uniforme'), plt.grid()\n",
    "plt.legend(loc='best', frameon=True), plt.title('F. Cuantil'),\n",
    "plt.xlabel('Probabilidad'), plt.ylabel('resultado')\n",
    "ax = plt.gca() \n",
    "ax.set_xticks(np.linspace(0.0,1,11, endpoint=True))\n",
    "\n",
    "plt.tight_layout()"
   ]
  },
  {
   "cell_type": "markdown",
   "metadata": {},
   "source": [
    "Momentos: media, varianza, asimetría y curtosis"
   ]
  },
  {
   "cell_type": "code",
   "execution_count": 5,
   "metadata": {},
   "outputs": [
    {
     "name": "stdout",
     "output_type": "stream",
     "text": [
      "media =  3.5 \n",
      "varianza =  2.9166666666666665 \n",
      "coef. asimetría =  0.0 \n",
      "coef. curtosis = -1.2685714285714285\n"
     ]
    }
   ],
   "source": [
    "media, var, asimet, kurt = randint.stats(low=a, high=b, moments='mvsk')\n",
    "print('media = ', media, '\\nvarianza = ', var, \n",
    "      '\\ncoef. asimetría = ', asimet, '\\ncoef. curtosis =', kurt)"
   ]
  },
  {
   "cell_type": "markdown",
   "metadata": {},
   "source": [
    "Mediana y media"
   ]
  },
  {
   "cell_type": "code",
   "execution_count": 6,
   "metadata": {},
   "outputs": [
    {
     "data": {
      "text/plain": [
       "(3.0, 3.5)"
      ]
     },
     "execution_count": 6,
     "metadata": {},
     "output_type": "execute_result"
    }
   ],
   "source": [
    "randint.median(low=a, high=b), randint.mean(low=a, high=b)"
   ]
  },
  {
   "cell_type": "markdown",
   "metadata": {},
   "source": [
    "Desviación típica y varianza"
   ]
  },
  {
   "cell_type": "code",
   "execution_count": 7,
   "metadata": {},
   "outputs": [
    {
     "data": {
      "text/plain": [
       "(1.707825127659933, 2.9166666666666665)"
      ]
     },
     "execution_count": 7,
     "metadata": {},
     "output_type": "execute_result"
    }
   ],
   "source": [
    "randint.std(low=a, high=b), randint.var(low=a, high=b)"
   ]
  },
  {
   "cell_type": "markdown",
   "metadata": {},
   "source": [
    "Entropía"
   ]
  },
  {
   "cell_type": "code",
   "execution_count": 8,
   "metadata": {},
   "outputs": [
    {
     "data": {
      "text/plain": [
       "array(1.79175947)"
      ]
     },
     "execution_count": 8,
     "metadata": {},
     "output_type": "execute_result"
    }
   ],
   "source": [
    "randint.entropy(low=a, high=b)"
   ]
  },
  {
   "cell_type": "markdown",
   "metadata": {},
   "source": [
    "### Experimentación: pruebas equiprobables\n",
    "\n",
    "Lanzamiento de un dado y ver qué cara (número) sale\n",
    "\n",
    "* 1 vez"
   ]
  },
  {
   "cell_type": "code",
   "execution_count": 9,
   "metadata": {},
   "outputs": [
    {
     "data": {
      "text/plain": [
       "array([2])"
      ]
     },
     "execution_count": 9,
     "metadata": {},
     "output_type": "execute_result"
    }
   ],
   "source": [
    "randint.rvs(low=a, high=b, loc=0, size=1, random_state=None)"
   ]
  },
  {
   "cell_type": "markdown",
   "metadata": {},
   "source": [
    "* 100 veces -> secuencia aleatoria independiente"
   ]
  },
  {
   "cell_type": "code",
   "execution_count": 10,
   "metadata": {},
   "outputs": [
    {
     "name": "stdout",
     "output_type": "stream",
     "text": [
      "Secuencia:  [5 6 3 5 3 4 1 2 2 5 1 5 4 4 3 2 4 6 4 1 5 6 2 5 5 5 6 5 6 6 6 6 1 2 1 1 5\n",
      " 2 2 3 4 3 1 3 4 6 6 5 2 4 1 1 5 2 6 2 6 6 1 1 6 6 6 3 1 1 6 5 3 6 4 5 5 4\n",
      " 5 2 3 5 1 6 3 2 1 2 3 6 4 2 5 3 3 3 3 6 6 1 2 3 2 4]\n"
     ]
    }
   ],
   "source": [
    "seq = randint.rvs(low=a, high=b, loc=0, size=100, random_state=None)\n",
    "print('Secuencia: ', seq)"
   ]
  },
  {
   "cell_type": "code",
   "execution_count": 11,
   "metadata": {},
   "outputs": [
    {
     "name": "stdout",
     "output_type": "stream",
     "text": [
      "Probabilidades:  [0.16 0.16 0.16 0.12 0.18 0.22]\n",
      "Media:  3.66    Desviación típica:  1.7844887222955488\n"
     ]
    }
   ],
   "source": [
    "print('Probabilidades: ', np.bincount(seq)[1:]/100)\n",
    "print('Media: ', seq.mean(), '   Desviación típica: ', seq.std())"
   ]
  },
  {
   "cell_type": "markdown",
   "metadata": {},
   "source": [
    "* 1.000 veces -> secuencia aleatoria independiente"
   ]
  },
  {
   "cell_type": "code",
   "execution_count": 12,
   "metadata": {},
   "outputs": [
    {
     "name": "stdout",
     "output_type": "stream",
     "text": [
      "Probabilidades:  [0.161 0.168 0.169 0.166 0.162 0.174]\n",
      "Media:  3.522    Desviación típica:  1.7086591234064215\n"
     ]
    }
   ],
   "source": [
    "seq = randint.rvs(low=a, high=b, loc=0, size=1000, random_state=None)\n",
    "print('Probabilidades: ', np.bincount(seq)[1:]/1000)\n",
    "print('Media: ', seq.mean(), '   Desviación típica: ', seq.std())"
   ]
  },
  {
   "cell_type": "markdown",
   "metadata": {},
   "source": [
    "* 10.000 veces -> secuencia aleatoria independiente"
   ]
  },
  {
   "cell_type": "code",
   "execution_count": 13,
   "metadata": {},
   "outputs": [
    {
     "name": "stdout",
     "output_type": "stream",
     "text": [
      "Probabilidades:  [0.1635 0.162  0.1734 0.1725 0.1599 0.1687]\n",
      "Media:  3.5094    Desviación típica:  1.6990914160221045\n"
     ]
    }
   ],
   "source": [
    "seq = randint.rvs(low=a, high=b, loc=0, size=10000, random_state=None)\n",
    "print('Probabilidades: ', np.bincount(seq)[1:]/10000)\n",
    "print('Media: ', seq.mean(), '   Desviación típica: ', seq.std())"
   ]
  },
  {
   "cell_type": "markdown",
   "metadata": {},
   "source": [
    "* 100.000 veces  -> secuencia aleatoria independiente"
   ]
  },
  {
   "cell_type": "code",
   "execution_count": 14,
   "metadata": {},
   "outputs": [
    {
     "name": "stdout",
     "output_type": "stream",
     "text": [
      "Probabilidades:  [0.16698 0.16622 0.1682  0.16718 0.16695 0.16447]\n",
      "Media:  3.49431    Desviación típica:  1.7044082914313696\n"
     ]
    }
   ],
   "source": [
    "seq = randint.rvs(low=a, high=b, loc=0, size=100000, random_state=None)\n",
    "print('Probabilidades: ', np.bincount(seq)[1:]/100000)\n",
    "print('Media: ', seq.mean(), '   Desviación típica: ', seq.std())"
   ]
  },
  {
   "cell_type": "markdown",
   "metadata": {},
   "source": [
    "* 1.000.000 veces -> secuencia aleatoria independiente"
   ]
  },
  {
   "cell_type": "code",
   "execution_count": 15,
   "metadata": {},
   "outputs": [
    {
     "name": "stdout",
     "output_type": "stream",
     "text": [
      "Probabilidades:  [0.167208 0.166254 0.166176 0.166547 0.1663   0.167515]\n",
      "Media:  3.501022    Desviación típica:  1.7098084557973148\n"
     ]
    }
   ],
   "source": [
    "seq = randint.rvs(low=a, high=b, loc=0, size=1000000, random_state=None)\n",
    "print('Probabilidades: ', np.bincount(seq)[1:]/1000000)\n",
    "print('Media: ', seq.mean(), '   Desviación típica: ', seq.std())"
   ]
  },
  {
   "cell_type": "markdown",
   "metadata": {},
   "source": [
    "## Distribución de Bernoulli (y categórica general)\n",
    "\n",
    "Se generaliza la distribución uniforme asumiendo que las probabilidades pueden ser arbitrarias.\n",
    "\n",
    "En el caso de sólo dos resultados posibles, estamos ante una **prueba o ensayo de Bernoulli**. Por lo general se considera un resultado acertar (se le suele asignar valor 1), con probabilidad p, y otro resultado fallar (se le suele asignar valor 0), con probabilidad q = 1-p "
   ]
  },
  {
   "cell_type": "code",
   "execution_count": 16,
   "metadata": {},
   "outputs": [
    {
     "name": "stdout",
     "output_type": "stream",
     "text": [
      "Probabilidad de acertar, p =  0.7    Probabilidad de fallar q = 1-p =  0.30000000000000004\n"
     ]
    }
   ],
   "source": [
    "bernoulli = stats.bernoulli\n",
    "p = .7\n",
    "print('Probabilidad de acertar, p = ', p, '   Probabilidad de fallar q = 1-p = ', 1-p)"
   ]
  },
  {
   "cell_type": "code",
   "execution_count": 17,
   "metadata": {},
   "outputs": [
    {
     "data": {
      "image/png": "[encoded data removed]",
      "text/plain": [
       "<Figure size 864x288 with 3 Axes>"
      ]
     },
     "metadata": {},
     "output_type": "display_data"
    }
   ],
   "source": [
    "plt.figure(figsize=(12,4))\n",
    "\n",
    "# Visualizar Función de Masa de Probabilidad (FMP)\n",
    "plt.subplot(1,3,1)\n",
    "x = [0, 1]\n",
    "plt.plot(x, bernoulli.pmf(x, p), 'bo', ms=8, label='FMP Bernoulli')\n",
    "plt.vlines(x, 0, bernoulli.pmf(x, p), colors='b', lw=5, alpha=0.5), plt.grid()\n",
    "plt.legend(loc='best', frameon=True), plt.title('F. Masa Probabilidad (FMP)')\n",
    "plt.xlabel('resultado'), plt.ylabel('Probabilidad')\n",
    "ax = plt.gca() \n",
    "ax.set_xticks(x)\n",
    "\n",
    "# Visualizar Función de Distribución de Probabilidad (FDP)\n",
    "plt.subplot(1,3,2), \n",
    "step_x = .01 \n",
    "x = np.arange(-10*step_x,1+10*step_x,step_x)\n",
    "plt.plot(x, bernoulli.cdf(x, p), label='FDP Bernoulli'), plt.grid()\n",
    "plt.legend(loc='best', frameon=True), plt.title('F. Distrib. Probabilidad (FMP)'),\n",
    "plt.xlabel('resultado'), plt.ylabel('Probabilidad')\n",
    "ax = plt.gca() \n",
    "ax.set_xticks([0,1])\n",
    "\n",
    "# Visualizar Función Cuantil (inversa de FDP) - Función Punto Porcentual\n",
    "plt.subplot(1,3,3), \n",
    "x = np.linspace(0.01,1,100, endpoint=True)\n",
    "plt.plot(x, bernoulli.ppf(x, p), label='Cuantil Bernoulli'), plt.grid()\n",
    "plt.legend(loc='best', frameon=True), plt.title('F. Cuantil'),\n",
    "plt.xlabel('Probabilidad'), plt.ylabel('resultado')\n",
    "ax = plt.gca() \n",
    "ax.set_xticks(np.linspace(0.0,1,11, endpoint=True))\n",
    "\n",
    "plt.tight_layout()"
   ]
  },
  {
   "cell_type": "markdown",
   "metadata": {},
   "source": [
    "Momentos: media, varianza, asimetría y curtosis"
   ]
  },
  {
   "cell_type": "code",
   "execution_count": 18,
   "metadata": {},
   "outputs": [
    {
     "name": "stdout",
     "output_type": "stream",
     "text": [
      "media =  0.7 \n",
      "varianza =  0.21000000000000002 \n",
      "coef. asimetría =  -0.8728715609439686 \n",
      "coef. curtosis = -1.238095238095243\n"
     ]
    }
   ],
   "source": [
    "media, var, asimet, kurt = bernoulli.stats(p, moments='mvsk')\n",
    "print('media = ', media, '\\nvarianza = ', var, \n",
    "      '\\ncoef. asimetría = ', asimet, '\\ncoef. curtosis =', kurt)"
   ]
  },
  {
   "cell_type": "markdown",
   "metadata": {},
   "source": [
    "Mediana y media"
   ]
  },
  {
   "cell_type": "code",
   "execution_count": 19,
   "metadata": {},
   "outputs": [
    {
     "data": {
      "text/plain": [
       "(1.0, 0.7)"
      ]
     },
     "execution_count": 19,
     "metadata": {},
     "output_type": "execute_result"
    }
   ],
   "source": [
    "bernoulli.median(p), bernoulli.mean(p)"
   ]
  },
  {
   "cell_type": "markdown",
   "metadata": {},
   "source": [
    "Desviación típica y varianza"
   ]
  },
  {
   "cell_type": "code",
   "execution_count": 20,
   "metadata": {},
   "outputs": [
    {
     "data": {
      "text/plain": [
       "(0.45825756949558405, 0.21000000000000002)"
      ]
     },
     "execution_count": 20,
     "metadata": {},
     "output_type": "execute_result"
    }
   ],
   "source": [
    "bernoulli.std(p), bernoulli.var(p)"
   ]
  },
  {
   "cell_type": "markdown",
   "metadata": {},
   "source": [
    "Entropía"
   ]
  },
  {
   "cell_type": "code",
   "execution_count": 21,
   "metadata": {},
   "outputs": [
    {
     "data": {
      "text/plain": [
       "array(0.6108643)"
      ]
     },
     "execution_count": 21,
     "metadata": {},
     "output_type": "execute_result"
    }
   ],
   "source": [
    "bernoulli.entropy(p)"
   ]
  },
  {
   "cell_type": "markdown",
   "metadata": {},
   "source": [
    "### Experimentación: pruebas de Bernoulli\n",
    "\n",
    "* Lanzamiento de una moneda trucada (cruz -0-: 70%, cara -1-: 30%) - acertar es que salga cara"
   ]
  },
  {
   "cell_type": "code",
   "execution_count": 22,
   "metadata": {},
   "outputs": [
    {
     "data": {
      "text/plain": [
       "1"
      ]
     },
     "execution_count": 22,
     "metadata": {},
     "output_type": "execute_result"
    }
   ],
   "source": [
    "bernoulli.rvs(p)"
   ]
  },
  {
   "cell_type": "markdown",
   "metadata": {},
   "source": [
    "* Lanzamiento de una moneda 100 veces -> secuencia independiente"
   ]
  },
  {
   "cell_type": "code",
   "execution_count": 23,
   "metadata": {},
   "outputs": [
    {
     "name": "stdout",
     "output_type": "stream",
     "text": [
      "Secuencia:  [0 1 1 1 0 0 1 1 1 1 0 1 1 1 1 0 0 1 0 0 1 0 1 1 1 1 0 1 0 1 1 1 1 1 0 1 1\n",
      " 1 0 1 1 0 1 1 1 0 1 1 1 1 1 1 1 1 1 1 1 1 1 1 1 1 0 1 1 1 1 1 0 0 1 1 1 0\n",
      " 1 1 1 1 1 0 1 1 1 1 1 1 1 0 1 1 0 0 1 0 1 1 1 0 1 0]\n"
     ]
    }
   ],
   "source": [
    "seq = bernoulli.rvs(p, loc=0, size=100, random_state=None)\n",
    "print('Secuencia: ', seq)"
   ]
  },
  {
   "cell_type": "code",
   "execution_count": 24,
   "metadata": {},
   "outputs": [
    {
     "name": "stdout",
     "output_type": "stream",
     "text": [
      "Probabilidades:  [0.26 0.74]\n",
      "Media:  0.74    Desviación típica:  0.4386342439892262\n"
     ]
    }
   ],
   "source": [
    "print('Probabilidades: ', np.bincount(seq)/100)\n",
    "print('Media: ', seq.mean(), '   Desviación típica: ', seq.std())"
   ]
  },
  {
   "cell_type": "markdown",
   "metadata": {},
   "source": [
    "* Lanzamiento de una moneda 10.000 veces -> secuencia independiente"
   ]
  },
  {
   "cell_type": "code",
   "execution_count": 25,
   "metadata": {},
   "outputs": [
    {
     "name": "stdout",
     "output_type": "stream",
     "text": [
      "Probabilidades:  [0.3033 0.6967]\n",
      "Media:  0.6967    Desviación típica:  0.45968370647652934\n"
     ]
    }
   ],
   "source": [
    "seq = bernoulli.rvs(p, loc=0, size=10000, random_state=None)\n",
    "print('Probabilidades: ', np.bincount(seq)/10000)\n",
    "print('Media: ', seq.mean(), '   Desviación típica: ', seq.std())"
   ]
  },
  {
   "cell_type": "markdown",
   "metadata": {},
   "source": [
    "## Distribución Binomial\n",
    "\n",
    "Se repite n veces una **prueba o ensayo de Bernoulli**, cada una con probabilidad de acierto p, y probabilidad de fallo q = 1-p y se cuenta el número de aciertos k. \n",
    "\n",
    "Esta repetición suele llamarse **ensayo compuesto de Bernoulli**, y el número de aciertos de modela con una VA Binomial."
   ]
  },
  {
   "cell_type": "code",
   "execution_count": 26,
   "metadata": {},
   "outputs": [
    {
     "name": "stdout",
     "output_type": "stream",
     "text": [
      "Probabilidad de acertar cada prueba de Bernoulli, p =  0.7 \n",
      "Probabilidad de fallar cada prueba de Bernoulli q = 1-p =  0.30000000000000004 \n",
      "FMP de cada Prueba de Bernoulli:  [0.3 0.7] \n",
      "Probabilidades de los números de aciertos en el ensayo compuesto: \n",
      "(FMP Binomial  5  pruebas)\n",
      " [0.00243 0.02835 0.1323  0.3087  0.36015 0.16807]\n"
     ]
    }
   ],
   "source": [
    "binom = stats.binom\n",
    "n, p = 5, .7\n",
    "FMP = np.array([1-p, p])\n",
    "print('Probabilidad de acertar cada prueba de Bernoulli, p = ', p, \n",
    "      '\\nProbabilidad de fallar cada prueba de Bernoulli q = 1-p = ', 1-p,\n",
    "      '\\nFMP de cada Prueba de Bernoulli: ', FMP,\n",
    "      '\\nProbabilidades de los números de aciertos en el ensayo compuesto:',\n",
    "      '\\n(FMP Binomial ', n, ' pruebas)\\n', \n",
    "      binom.pmf(np.arange(n+1),n,p))"
   ]
  },
  {
   "cell_type": "markdown",
   "metadata": {},
   "source": [
    "### Construcción con suma de variables aleatorias\n",
    "\n",
    "El número de aciertos lo obtenemos sumando el resultado de cada prueba de Bernoulli. Se trata, por tanto, de una VA que es suma de cada una de las VAs con el resultado de cada una de dichas pruebas.\n",
    "\n",
    "**Teorema**: la suma de VAs independientes es una nueva VA cuya FMP se obtiene mediante la convolución de las FMPs de las VAs que se suman."
   ]
  },
  {
   "cell_type": "code",
   "execution_count": 27,
   "metadata": {},
   "outputs": [
    {
     "name": "stdout",
     "output_type": "stream",
     "text": [
      "[0.3 0.7]\n",
      "[0.09 0.42 0.49]\n",
      "[0.027 0.189 0.441 0.343]\n",
      "[0.0081 0.0756 0.2646 0.4116 0.2401]\n",
      "[0.00243 0.02835 0.1323  0.3087  0.36015 0.16807]\n"
     ]
    }
   ],
   "source": [
    "resul = 1\n",
    "for i in range(n):\n",
    "    resul = np.convolve(FMP, resul)\n",
    "    print(resul)"
   ]
  },
  {
   "cell_type": "markdown",
   "metadata": {},
   "source": [
    "¡La convolución resultante es la FMP Binomial que acabamos de ver más arriba!"
   ]
  },
  {
   "cell_type": "code",
   "execution_count": 28,
   "metadata": {},
   "outputs": [
    {
     "data": {
      "image/png": "[encoded data removed]",
      "text/plain": [
       "<Figure size 864x288 with 3 Axes>"
      ]
     },
     "metadata": {},
     "output_type": "display_data"
    }
   ],
   "source": [
    "plt.figure(figsize=(12,4))\n",
    "\n",
    "# Visualizar Función de Masa de Probabilidad (FMP)\n",
    "plt.subplot(1,3,1)\n",
    "k = np.arange(n+1)\n",
    "plt.plot(k, binom.pmf(k, n, p), 'bo', ms=8, label='FMP Binomial')\n",
    "plt.vlines(k, 0, binom.pmf(k, n, p), colors='b', lw=5, alpha=0.5), plt.grid()\n",
    "plt.legend(loc='best', frameon=True), plt.title('F. Masa Probabilidad (FMP)')\n",
    "plt.xlabel('resultado'), plt.ylabel('Probabilidad')\n",
    "ax = plt.gca() \n",
    "ax.set_xticks(k)\n",
    "\n",
    "# Visualizar Función de Distribución de Probabilidad (FDP)\n",
    "plt.subplot(1,3,2), \n",
    "step_x = .01 \n",
    "x = np.arange(-10*step_x, n+1,step_x)\n",
    "plt.plot(x, binom.cdf(x, n, p), label='FDP Binomial'), plt.grid()\n",
    "plt.legend(loc='best', frameon=True), plt.title('F. Distrib. Probabilidad (FMP)'),\n",
    "plt.xlabel('resultado'), plt.ylabel('Probabilidad')\n",
    "ax = plt.gca() \n",
    "ax.set_xticks(k)\n",
    "\n",
    "# Visualizar Función Cuantil (inversa de FDP) - Función Punto Porcentual\n",
    "plt.subplot(1,3,3), \n",
    "x = np.linspace(0.000001,1,100, endpoint=True)\n",
    "plt.plot(x, binom.ppf(x, n, p), label='Cuantil Bernoulli'), plt.grid()\n",
    "plt.legend(loc='best', frameon=True), plt.title('F. Cuantil'),\n",
    "plt.xlabel('Probabilidad'), plt.ylabel('resultado')\n",
    "ax = plt.gca() \n",
    "ax.set_xticks(np.linspace(0.0,1,11, endpoint=True))\n",
    "\n",
    "plt.tight_layout()"
   ]
  },
  {
   "cell_type": "markdown",
   "metadata": {},
   "source": [
    "Momentos: media, varianza, asimetría y curtosis"
   ]
  },
  {
   "cell_type": "code",
   "execution_count": 29,
   "metadata": {},
   "outputs": [
    {
     "name": "stdout",
     "output_type": "stream",
     "text": [
      "media =  3.5 \n",
      "varianza =  1.0500000000000003 \n",
      "coef. asimetría =  -0.39036002917941315 \n",
      "coef. curtosis = -0.24761904761904757\n"
     ]
    }
   ],
   "source": [
    "media, var, asimet, kurt = binom.stats(n,p, moments='mvsk')\n",
    "print('media = ', media, '\\nvarianza = ', var, \n",
    "      '\\ncoef. asimetría = ', asimet, '\\ncoef. curtosis =', kurt)"
   ]
  },
  {
   "cell_type": "markdown",
   "metadata": {},
   "source": [
    "Mediana y media"
   ]
  },
  {
   "cell_type": "code",
   "execution_count": 30,
   "metadata": {},
   "outputs": [
    {
     "data": {
      "text/plain": [
       "(4.0, 3.5)"
      ]
     },
     "execution_count": 30,
     "metadata": {},
     "output_type": "execute_result"
    }
   ],
   "source": [
    "binom.median(n,p), binom.mean(n,p)"
   ]
  },
  {
   "cell_type": "markdown",
   "metadata": {},
   "source": [
    "Desviación típica y varianza"
   ]
  },
  {
   "cell_type": "code",
   "execution_count": 31,
   "metadata": {},
   "outputs": [
    {
     "data": {
      "text/plain": [
       "(1.02469507659596, 1.0500000000000003)"
      ]
     },
     "execution_count": 31,
     "metadata": {},
     "output_type": "execute_result"
    }
   ],
   "source": [
    "binom.std(n,p), binom.var(n,p)"
   ]
  },
  {
   "cell_type": "markdown",
   "metadata": {},
   "source": [
    "Entropía"
   ]
  },
  {
   "cell_type": "code",
   "execution_count": 32,
   "metadata": {},
   "outputs": [
    {
     "data": {
      "text/plain": [
       "array(1.41361486)"
      ]
     },
     "execution_count": 32,
     "metadata": {},
     "output_type": "execute_result"
    }
   ],
   "source": [
    "binom.entropy(n,p)"
   ]
  },
  {
   "cell_type": "markdown",
   "metadata": {},
   "source": [
    "### Experimentación: pruebas repetidas de Bernoulli"
   ]
  },
  {
   "cell_type": "code",
   "execution_count": 58,
   "metadata": {},
   "outputs": [
    {
     "name": "stdout",
     "output_type": "stream",
     "text": [
      "Resultados pruueba repetida Bernoulli:  [1 1 0 1 0]  ->  3  aciertos\n"
     ]
    }
   ],
   "source": [
    "n, p = 5, .7\n",
    "seq = bernoulli.rvs(p, loc=0, size=n, random_state=None)\n",
    "print('Resultados prueba repetida Bernoulli: ', seq, ' -> ', seq.sum(), ' aciertos')"
   ]
  },
  {
   "cell_type": "markdown",
   "metadata": {},
   "source": [
    "**Estimación de p por Máxima Verosimilitud (MLE)**"
   ]
  },
  {
   "cell_type": "code",
   "execution_count": 59,
   "metadata": {},
   "outputs": [
    {
     "data": {
      "image/png": "[encoded data removed]",
      "text/plain": [
       "<Figure size 432x288 with 1 Axes>"
      ]
     },
     "metadata": {},
     "output_type": "display_data"
    }
   ],
   "source": [
    "pp = np.linspace(0,1,100,endpoint=True)\n",
    "mle = binom.pmf(seq.sum(), n, pp)\n",
    "\n",
    "plt.plot(pp, mle, label='F Versosimilitud Binomial'), plt.grid()\n",
    "plt.legend(loc='best', frameon=True), plt.title('F. Verosimilitud'),\n",
    "plt.xlabel('probabilidad'), plt.ylabel('Verosimilitud')\n",
    "ax = plt.gca() \n",
    "#ax.set_xticks(k);\n"
   ]
  },
  {
   "cell_type": "markdown",
   "metadata": {},
   "source": [
    "* Reiteramos 10 veces la prueba repetida de Bernoulli"
   ]
  },
  {
   "cell_type": "code",
   "execution_count": 34,
   "metadata": {},
   "outputs": [
    {
     "name": "stdout",
     "output_type": "stream",
     "text": [
      "Resultados prueba repetida Bernoulli:  [1 1 1 1 1]  ->  5  aciertos\n",
      "Resultados prueba repetida Bernoulli:  [1 1 1 1 1]  ->  5  aciertos\n",
      "Resultados prueba repetida Bernoulli:  [1 0 1 1 1]  ->  4  aciertos\n",
      "Resultados prueba repetida Bernoulli:  [1 1 1 0 1]  ->  4  aciertos\n",
      "Resultados prueba repetida Bernoulli:  [1 0 1 1 1]  ->  4  aciertos\n",
      "Resultados prueba repetida Bernoulli:  [1 1 1 1 1]  ->  5  aciertos\n",
      "Resultados prueba repetida Bernoulli:  [0 0 0 0 0]  ->  0  aciertos\n",
      "Resultados prueba repetida Bernoulli:  [1 0 1 1 1]  ->  4  aciertos\n",
      "Resultados prueba repetida Bernoulli:  [1 1 1 1 1]  ->  5  aciertos\n",
      "Resultados prueba repetida Bernoulli:  [1 1 1 1 1]  ->  5  aciertos\n",
      "Resultados prueba repetida Bernoulli:  [0 0 1 1 1]  ->  3  aciertos\n"
     ]
    }
   ],
   "source": [
    "for i in range(11):\n",
    "    seq = bernoulli.rvs(p, loc=0, size=n, random_state=None)\n",
    "    print('Resultados prueba repetida Bernoulli: ', seq, ' -> ', seq.sum(), ' aciertos')"
   ]
  },
  {
   "cell_type": "markdown",
   "metadata": {},
   "source": [
    "* Reiteramos N = 1000 veces y estimamos probabilidades y estadísticos\n",
    "\n",
    "(comparar con valores teóricos, vistos más arriba)"
   ]
  },
  {
   "cell_type": "code",
   "execution_count": 35,
   "metadata": {},
   "outputs": [],
   "source": [
    "N = 10000\n",
    "seq=np.zeros((N,n),dtype='int64')\n",
    "for i in range(N):\n",
    "    seq[i]=bernoulli.rvs(p, loc=0, size=n, random_state=None)"
   ]
  },
  {
   "cell_type": "code",
   "execution_count": 36,
   "metadata": {},
   "outputs": [
    {
     "name": "stdout",
     "output_type": "stream",
     "text": [
      "Probabilidades:  [0.0033 0.0268 0.1245 0.3106 0.3594 0.1754]\n",
      "Media:  3.5222    Desviación típica:  1.024552175342964\n"
     ]
    }
   ],
   "source": [
    "print('Probabilidades: ', np.bincount(seq.sum(1))/N)\n",
    "print('Media: ', seq.sum(1).mean(), '   Desviación típica: ', seq.sum(1).std())"
   ]
  },
  {
   "cell_type": "markdown",
   "metadata": {},
   "source": [
    "## Distribución de Poisson"
   ]
  },
  {
   "cell_type": "markdown",
   "metadata": {},
   "source": [
    "Modela el número de ocurrencias independientes (una ocurrencia no afecta a la siguiente) de un suceso en un intervalo temporal o espacial determinado, considerándose un valor medio &lambda; de ocurrencias fijo o, equivalentemente,una tasa constante de ocurrencias. Si se preporciona una tasa *r* y un intervalo *t*, $$\\lambda = r t$$ \n",
    "\n",
    "Correspond;e al caso límite de un ensayo repetido de Bernoulli, cuando el número de repticiones n es muy grande y la probabilidad de acierto muy pequeña, pero se mantiene constante el producto de ambos $$\\lambda = pn$$ "
   ]
  },
  {
   "cell_type": "code",
   "execution_count": 38,
   "metadata": {},
   "outputs": [
    {
     "data": {
      "text/plain": [
       "array([0.00673795, 0.03368973, 0.08422434, 0.1403739 , 0.17546737,\n",
       "       0.17546737, 0.14622281, 0.10444486, 0.06527804, 0.03626558])"
      ]
     },
     "execution_count": 38,
     "metadata": {},
     "output_type": "execute_result"
    }
   ],
   "source": [
    "poisson = stats.poisson\n",
    "lda = 5\n",
    "\n",
    "poisson.pmf(range(10),lda)"
   ]
  },
  {
   "cell_type": "code",
   "execution_count": 41,
   "metadata": {},
   "outputs": [
    {
     "data": {
      "image/png": "[encoded data removed]",
      "text/plain": [
       "<Figure size 864x288 with 3 Axes>"
      ]
     },
     "metadata": {},
     "output_type": "display_data"
    }
   ],
   "source": [
    "n=10\n",
    "plt.figure(figsize=(12,4))\n",
    "\n",
    "# Visualizar Función de Masa de Probabilidad (FMP)\n",
    "plt.subplot(1,3,1)\n",
    "k = np.arange(n+1)\n",
    "plt.plot(k, poisson.pmf(k, lda), 'bo', ms=8, label='FMP Poisson')\n",
    "plt.vlines(k, 0, poisson.pmf(k, lda), colors='b', lw=5, alpha=0.5), plt.grid()\n",
    "plt.legend(loc='best', frameon=True), plt.title('F. Masa Probabilidad (FMP)')\n",
    "plt.xlabel('resultado'), plt.ylabel('Probabilidad')\n",
    "ax = plt.gca() \n",
    "ax.set_xticks(k);\n",
    "\n",
    "# Visualizar Función de Distribución de Probabilidad (FDP)\n",
    "plt.subplot(1,3,2), \n",
    "step_x = .01 \n",
    "x = np.arange(-10*step_x, n+1,step_x)\n",
    "plt.plot(x, poisson.cdf(x, lda), label='FDP Poisson'), plt.grid()\n",
    "plt.legend(loc='best', frameon=True), plt.title('F. Distrib. Probabilidad (FMP)'),\n",
    "plt.xlabel('resultado'), plt.ylabel('Probabilidad')\n",
    "ax = plt.gca() \n",
    "ax.set_xticks(k);\n",
    "\n",
    "# Visualizar Función Cuantil (inversa de FDP) - Función Punto Porcentual\n",
    "plt.subplot(1,3,3), \n",
    "x = np.linspace(0.000001,1,100, endpoint=True)\n",
    "plt.plot(x, poisson.ppf(x, lda), label='Cuantil Poisson'), plt.grid()\n",
    "plt.legend(loc='best', frameon=True), plt.title('F. Cuantil'),\n",
    "plt.xlabel('Probabilidad'), plt.ylabel('resultado')\n",
    "ax = plt.gca() \n",
    "ax.set_xticks(np.linspace(0.0,1,11, endpoint=True))\n",
    "\n",
    "plt.tight_layout()"
   ]
  },
  {
   "cell_type": "markdown",
   "metadata": {},
   "source": [
    "Momentos: media, varianza, asimetría y curtosis"
   ]
  },
  {
   "cell_type": "code",
   "execution_count": 42,
   "metadata": {},
   "outputs": [
    {
     "name": "stdout",
     "output_type": "stream",
     "text": [
      "media =  5.0 \n",
      "varianza =  5.0 \n",
      "coef. asimetría =  0.4472135954999579 \n",
      "coef. curtosis = 0.2\n"
     ]
    }
   ],
   "source": [
    "media, var, asimet, kurt = poisson.stats(lda, moments='mvsk')\n",
    "print('media = ', media, '\\nvarianza = ', var, \n",
    "      '\\ncoef. asimetría = ', asimet, '\\ncoef. curtosis =', kurt)"
   ]
  },
  {
   "cell_type": "markdown",
   "metadata": {},
   "source": [
    "Mediana y media"
   ]
  },
  {
   "cell_type": "code",
   "execution_count": 43,
   "metadata": {},
   "outputs": [
    {
     "data": {
      "text/plain": [
       "(5.0, 10.7)"
      ]
     },
     "execution_count": 43,
     "metadata": {},
     "output_type": "execute_result"
    }
   ],
   "source": [
    "poisson.median(lda), poisson.mean(n,p)"
   ]
  },
  {
   "cell_type": "markdown",
   "metadata": {},
   "source": [
    "Desviación típica y varianza"
   ]
  },
  {
   "cell_type": "code",
   "execution_count": 45,
   "metadata": {},
   "outputs": [
    {
     "data": {
      "text/plain": [
       "(3.1622776601683795, 10.0)"
      ]
     },
     "execution_count": 45,
     "metadata": {},
     "output_type": "execute_result"
    }
   ],
   "source": [
    "poisson.std(n,p), poisson.var(n,p)"
   ]
  },
  {
   "cell_type": "markdown",
   "metadata": {},
   "source": [
    "Entropía"
   ]
  },
  {
   "cell_type": "code",
   "execution_count": 46,
   "metadata": {},
   "outputs": [
    {
     "data": {
      "text/plain": [
       "array(2.56140994)"
      ]
     },
     "execution_count": 46,
     "metadata": {},
     "output_type": "execute_result"
    }
   ],
   "source": [
    "poisson.entropy(n,p)"
   ]
  },
  {
   "cell_type": "markdown",
   "metadata": {},
   "source": [
    "## Experimentación: distribución de Poisson"
   ]
  },
  {
   "cell_type": "code",
   "execution_count": 70,
   "metadata": {},
   "outputs": [
    {
     "name": "stdout",
     "output_type": "stream",
     "text": [
      "Resultados experimento Poisson:  [7]  aciertos\n"
     ]
    }
   ],
   "source": [
    "lda, n = 5, 1\n",
    "seq = poisson.rvs(lda, loc=0, size=n, random_state=None)\n",
    "print('Resultados experimento Poisson: ', seq, ' aciertos')"
   ]
  },
  {
   "cell_type": "markdown",
   "metadata": {},
   "source": [
    "**Estimación de &lambda; por máxima verosilmilitud**"
   ]
  },
  {
   "cell_type": "code",
   "execution_count": 72,
   "metadata": {},
   "outputs": [
    {
     "data": {
      "image/png": "[encoded data removed]",
      "text/plain": [
       "<Figure size 432x288 with 1 Axes>"
      ]
     },
     "metadata": {},
     "output_type": "display_data"
    }
   ],
   "source": [
    "pp = np.linspace(0,20,100,endpoint=True)\n",
    "mle = poisson.pmf(seq, pp)\n",
    "\n",
    "plt.plot(pp, mle, label='F Versosimilitud Poisson'), plt.grid()\n",
    "plt.legend(loc='best', frameon=True), plt.title('F. Verosimilitud'),\n",
    "plt.xlabel('lambda'), plt.ylabel('Verosimilitud')\n",
    "ax = plt.gca() \n",
    "#ax.set_xticks(k);"
   ]
  },
  {
   "cell_type": "code",
   "execution_count": null,
   "metadata": {},
   "outputs": [],
   "source": []
  }
 ],
 "metadata": {
  "kernelspec": {
   "display_name": "Python 3",
   "language": "python",
   "name": "python3"
  },
  "language_info": {
   "codemirror_mode": {
    "name": "ipython",
    "version": 3
   },
   "file_extension": ".py",
   "mimetype": "text/x-python",
   "name": "python",
   "nbconvert_exporter": "python",
   "pygments_lexer": "ipython3",
   "version": "3.6.6"
  }
 },
 "nbformat": 4,
 "nbformat_minor": 2
}
