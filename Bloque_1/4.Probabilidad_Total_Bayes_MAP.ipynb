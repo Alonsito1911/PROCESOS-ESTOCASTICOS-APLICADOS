{
 "cells": [
  {
   "cell_type": "markdown",
   "metadata": {
    "slideshow": {
     "slide_type": "slide"
    }
   },
   "source": [
    "# Teorema de la Probabilidad Total. Teorema de Bayes y probabilidad a posteriori\n",
    "\n",
    "## Teorema de la Probabilidad Total\n",
    "\n",
    "Consideremos una partición $\\mathscr{P}$ del espacio muestral $\\Omega$, constituida por $K$ sucesos disjuntos $B_i$:\n",
    "\n",
    "$$B_i \\in \\mathscr{P}(\\Omega) \\, i=1\\ldots K \\iff  \\begin{matrix}\n",
    "  \\bigcup_{i=1}^K B_i = \\Omega &  \\\\\n",
    "  B_i \\cap B_j = \\emptyset & i\\neq j  \n",
    " \\end{matrix}$$\n",
    "\n",
    "Consideremos ahora un suceso $A \\in \\Omega$. Es fácil ver que:\n",
    "\n",
    "$$\\begin{align*}\n",
    "P(A) &= P(A \\cap B_1) + P(A \\cap B_2) + \\ldots  P(A \\cap B_K)\\\\\n",
    "     &= P(A/B_1)P(B_1) + P(A/B_2)P(B_2)+ \\ldots P(A/B_K)P(B_K)\\\\\n",
    "     &= \\sum_{i=1}^K P(A/B_i)P(B_i)\n",
    "\\end{align*}$$\n"
   ]
  },
  {
   "cell_type": "markdown",
   "metadata": {
    "slideshow": {
     "slide_type": "subslide"
    }
   },
   "source": [
    "Apliquemos el **Teorema de la Probabilidad Total** al experimento de lanzar un dado bueno, sin trucar, para calcular las probabilidades de los sucesos vistos antes,  $A =\\{2\\}, \\, B=\\{5\\}, \\, C=A\\cup B =\\{2, 5\\}, \\, D=\\{3, 4, 6\\}$, considerando la partición en los sucesos $par$ e $impar$. **La partición la determina el problema**. Podríamos utilizar otras, por ejemplo $divisible por 3$ y $no divisible por 3$, y los resultados no variarían.\n",
    "\n",
    "$$\\begin{align*}\n",
    "P(A) &= P(A/par)P(par)+P(A/impar)P(impar)=\\frac{1}{3}\\frac{1}{2}+0\\frac{1}{2}=\\frac{1}{6}\\\\\n",
    "P(B) &= P(B/par)P(par)+P(B/impar)P(impar)=0\\frac{1}{2}+\\frac{1}{3}\\frac{1}{2}=\\frac{1}{6}\\\\\n",
    "P(C) &= P(C/par)P(par)+P(C/impar)P(impar)=\\frac{1}{3}\\frac{1}{2}+\\frac{1}{3}\\frac{1}{2}=\\frac{1}{3}\\\\\n",
    "P(D) &= P(D/par)P(par)+P(D/impar)P(impar)=\\frac{2}{3}\\frac{1}{2}+\\frac{1}{3}\\frac{1}{2}=\\frac{1}{2}\n",
    "\\end{align*}$$\n",
    "\n"
   ]
  },
  {
   "cell_type": "code",
   "execution_count": 1,
   "metadata": {
    "slideshow": {
     "slide_type": "skip"
    },
    "tags": [
     "remove_input"
    ]
   },
   "outputs": [],
   "source": [
    "import numpy as np\n",
    "import matplotlib\n",
    "import matplotlib.pyplot as plt\n",
    "from matplotlib_venn import venn2, venn3, venn2_circles, venn3_circles\n",
    "import scipy.stats as stats"
   ]
  },
  {
   "cell_type": "code",
   "execution_count": 2,
   "metadata": {
    "slideshow": {
     "slide_type": "skip"
    },
    "tags": [
     "remove_input"
    ]
   },
   "outputs": [],
   "source": [
    "caras  = np.array([1,2,3,4,5,6])\n",
    "P_dado = np.array([1/6, 1/6, 1/6, 1/6, 1/6, 1/6])\n",
    "P_dadoTrucado    = np.array([1/12, 1/12, 1/12, 1/12, 1/3, 1/3]).round(decimals=10)\n",
    "P_dadoTrucado[5] = 1-P_dadoTrucado[0:5].sum()\n",
    "\n",
    "elementos = ['uno','dos','tres','cuatro','cinco','seis']\n",
    "uno, dos, tres, cuatro, cinco, seis = 0,1,2,3,4,5\n",
    "\n",
    "S = np.array([[1,0,0,0,0,0],\n",
    "              [0,1,0,0,0,0],\n",
    "              [0,0,1,0,0,0],\n",
    "              [0,0,0,1,0,0],\n",
    "              [0,0,0,0,1,0],\n",
    "              [0,0,0,0,0,1]])\n",
    "\n",
    "sucesos = ['nulo','par','impar','div3','nodiv3','seguro']\n",
    "nulo, par, impar, div3, nodiv3, seguro = 0,1,2,3,4,5\n",
    "\n",
    "F = np.array([[0,0,0,0,0,0],\n",
    "              [0,1,0,1,0,1],\n",
    "              [1,0,1,0,1,0],\n",
    "              [0,0,1,0,0,1],\n",
    "              [1,1,0,1,1,0],\n",
    "              [1,1,1,1,1,1]]);\n",
    "\n",
    "P_suc        = np.zeros(6)\n",
    "P_sucTrucado = np.zeros(6)\n",
    "#print('Probabilidades sucesos singulares:\\n')\n",
    "for i,suc in enumerate(sucesos):\n",
    "    P_suc[i] = (F[i]*P_dado).sum().round(decimals=15)\n",
    "#    print('Probabilidad dado bueno(', F[i], suc, ') ->', P_suc[i])\n",
    "    P_sucTrucado[i] = (F[i]*P_dadoTrucado).sum()\n",
    "#    print('Probabilidad dado trucado(', F[i], suc, ') ->', P_sucTrucado[i],'\\n')"
   ]
  },
  {
   "cell_type": "code",
   "execution_count": 3,
   "metadata": {
    "slideshow": {
     "slide_type": "skip"
    },
    "tags": [
     "remove_input"
    ]
   },
   "outputs": [],
   "source": [
    "tres_cuatro_cinco = np.array([0,0,1,1,1,0]);\n",
    "P_tres_cuatro_cinco = (tres_cuatro_cinco*P_dado).sum().round(decimals=15)\n",
    "\n",
    "# Probabilidad del suceso \"tres o cuatro o cinco\" condicionado por el suceso \"resultado par\"\n",
    "\n",
    "parOtres_cuatro_cinco   = np.logical_or(F[par], tres_cuatro_cinco).astype(int)\n",
    "P_parOtres_cuatro_cinco = (parOtres_cuatro_cinco*P_dado).sum().round(decimals=15)\n",
    "\n",
    "parYtres_cuatro_cinco   = np.logical_and(F[par], tres_cuatro_cinco).astype(int)\n",
    "P_parYtres_cuatro_cinco = (parYtres_cuatro_cinco*P_dado).sum().round(decimals=15)\n",
    "\n",
    "P_tres_cuatro_cincoCONDpar = P_parYtres_cuatro_cinco/P_suc[par]\n",
    "\n",
    "# Probabilidad del suceso \"tres o cuatro o cinco\" condicionado por el suceso \"resultado impar\"\n",
    "\n",
    "imparOtres_cuatro_cinco   = np.logical_or(F[impar], tres_cuatro_cinco).astype(int)\n",
    "P_imparOtres_cuatro_cinco = (imparOtres_cuatro_cinco*P_dado).sum()\n",
    "\n",
    "imparYtres_cuatro_cinco   = np.logical_and(F[impar], tres_cuatro_cinco).astype(int)\n",
    "P_imparYtres_cuatro_cinco = (imparYtres_cuatro_cinco*P_dado).sum()\n",
    "\n",
    "P_tres_cuatro_cincoCONDimpar = P_imparYtres_cuatro_cinco/P_suc[impar]\n",
    "\n",
    "# Probabilidad del suceso \"tres o cuatro o cinco\" condicionado por el suceso \"resultado divisible por 3\"\n",
    "\n",
    "div3Otres_cuatro_cinco   = np.logical_or(F[div3], tres_cuatro_cinco).astype(int)\n",
    "P_div3Otres_cuatro_cinco = (div3Otres_cuatro_cinco*P_dado).sum().round(decimals=15)\n",
    "\n",
    "div3Ytres_cuatro_cinco   = np.logical_and(F[div3], tres_cuatro_cinco).astype(int)\n",
    "P_div3Ytres_cuatro_cinco = (div3Ytres_cuatro_cinco*P_dado).sum().round(decimals=15)\n",
    "\n",
    "\n",
    "P_tres_cuatro_cincoCONDdiv3 = P_div3Ytres_cuatro_cinco/P_suc[div3]\n",
    "\n",
    "# Probabilidad del suceso \"tres o cuatro o cinco\" condicionado por el suceso \"resultado no divisible por 3\"\n",
    "\n",
    "nodiv3Otres_cuatro_cinco   = np.logical_or(F[nodiv3], tres_cuatro_cinco).astype(int)\n",
    "P_nodiv3Otres_cuatro_cinco = (nodiv3Otres_cuatro_cinco*P_dado).sum()\n",
    "\n",
    "nodiv3Ytres_cuatro_cinco   = np.logical_and(F[nodiv3], tres_cuatro_cinco).astype(int)\n",
    "P_nodiv3Ytres_cuatro_cinco = (nodiv3Ytres_cuatro_cinco*P_dado).sum()\n",
    "\n",
    "\n",
    "P_tres_cuatro_cincoCONDnodiv3 = P_nodiv3Ytres_cuatro_cinco/P_suc[nodiv3]"
   ]
  },
  {
   "cell_type": "code",
   "execution_count": 4,
   "metadata": {
    "slideshow": {
     "slide_type": "subslide"
    },
    "tags": [
     "remove_input"
    ]
   },
   "outputs": [
    {
     "name": "stdout",
     "output_type": "stream",
     "text": [
      "Probabilidad de que salga tres o cuatro o cinco: 0.5 \n",
      "P(tres o cuatro o cinco / par:)  0.333333333333334 \n",
      "\tProbabilidad de que salga par: 0.5 \n",
      "P(tres o cuatro o cinco / impar) =  0.6666666666666666 \n",
      "\tProbabilidad de que salga impar: 0.5 \n",
      "Probabilidad total tres o cuatro o cinco: 0.5000000000000003\n"
     ]
    }
   ],
   "source": [
    "print('Probabilidad de que salga tres o cuatro o cinco:', P_tres_cuatro_cinco,\n",
    "      '\\nP(tres o cuatro o cinco / par:) ', P_tres_cuatro_cincoCONDpar,\n",
    "     '\\n\\tProbabilidad de que salga par:', P_suc[par],\n",
    "     '\\nP(tres o cuatro o cinco / impar) = ', P_tres_cuatro_cincoCONDimpar,\n",
    "     '\\n\\tProbabilidad de que salga impar:', P_suc[impar],\n",
    "     '\\nProbabilidad total tres o cuatro o cinco:',\n",
    "      P_tres_cuatro_cincoCONDpar*P_suc[par]+\n",
    "      P_tres_cuatro_cincoCONDimpar*P_suc[impar])"
   ]
  },
  {
   "cell_type": "code",
   "execution_count": 5,
   "metadata": {
    "slideshow": {
     "slide_type": "fragment"
    },
    "tags": [
     "remove_input"
    ]
   },
   "outputs": [
    {
     "name": "stdout",
     "output_type": "stream",
     "text": [
      "Probabilidad de que salga tres o cuatro o cinco: 0.5 \n",
      "P(tres o cuatro o cinco / divisible por tres:)  0.5000000000000016 \n",
      "\tProbabilidad de que salga divisible por tres: 0.333333333333333 \n",
      "P(tres o cuatro o cinco / no divisible por tres) =  0.4999999999999998 \n",
      "\tProbabilidad de que salga no divisible por tres: 0.666666666666667 \n",
      "Probabilidad total tres o cuatro o cinco: 0.5000000000000003\n"
     ]
    }
   ],
   "source": [
    "print('Probabilidad de que salga tres o cuatro o cinco:', P_tres_cuatro_cinco,\n",
    "      '\\nP(tres o cuatro o cinco / divisible por tres:) ',\n",
    "     P_tres_cuatro_cincoCONDdiv3,\n",
    "     '\\n\\tProbabilidad de que salga divisible por tres:', P_suc[div3],\n",
    "     '\\nP(tres o cuatro o cinco / no divisible por tres) = ',\n",
    "      P_tres_cuatro_cincoCONDnodiv3,\n",
    "     '\\n\\tProbabilidad de que salga no divisible por tres:', P_suc[nodiv3],\n",
    "     '\\nProbabilidad total tres o cuatro o cinco:',\n",
    "      P_tres_cuatro_cincoCONDdiv3*P_suc[div3]+\n",
    "      P_tres_cuatro_cincoCONDnodiv3*P_suc[nodiv3])"
   ]
  },
  {
   "cell_type": "markdown",
   "metadata": {
    "slideshow": {
     "slide_type": "slide"
    }
   },
   "source": [
    "## Teorema de Bayes\n",
    "\n",
    "Recordemos que la **probabilidad del suceso $A$ condicionada por el suceso $B$** es\n",
    "\n",
    "$$P(A/B) = \\frac{P(A\\cap B)}{P(B)}$$\n",
    "\n",
    "La interpretación es que, si ambos sucesos $A$ y $B$ no son independientes, que acontezca $B$ supone una información adicional en relación a la certidumbre de $A$, cuya probabilidad $P(A)$ pasa ahora a ser $P(A/B)$.\n",
    "\n",
    "Supongamos que conocemos $P(A/B)$ y que acontece el suceso $A$. Nos preguntamos cuál es la $P(B/A)$. \n",
    "\n",
    "Es muy importante **no caer en una falacia argumental**. Por ejemplo, si sabe que cuando alguien tiene una enfermedad la probabilidad del test positivo es $P(T^+/S_E)$, en particular que el test da positivo el $99\\%$ de las veces para alguien que tiene cáncer, esto es $P(T^+/S_E)=0.99$, y el test da positivo, ¿quiere es decir que tiene cáncer con una probabibilidad $P(S_E/T^+)=0.99$?"
   ]
  },
  {
   "cell_type": "markdown",
   "metadata": {
    "slideshow": {
     "slide_type": "subslide"
    }
   },
   "source": [
    "El **Teorema de Bayes** nos permite dar una respuesta:\n",
    "\n",
    "$$P(B/A) = \\frac{P(B\\cap A)}{P(A)}=\\frac{P(A/B)P(B)}{P(A)}$$\n",
    "\n",
    "Si $B_i \\in \\mathscr{P}(\\Omega)$, combinando con el **Teorema de la Probabilidad Total** obtenemos la formulación habitual del **Teorema de Bayes**:\n",
    "\n",
    "$$P(B_i/A) =\\frac{P(A/B_i)P(B_i)}{P(A)} = \\frac{P(A/B_i)P(B_i)}{\\sum_{i=1}^K P(A/B_i)P(B_i)}$$\n",
    "\n",
    "* $P(B_i/A)$ es la **probabilidad *a posteriori*** del suceso $B_i$ una vez que sabemos que $A$ ha acontecido.\n",
    "* $P(B_i)$ es la **probabilidad *a priori*** del suceso $B_i$, conocida de antemano.\n",
    "* $P(A/B_i)$ es la **probabilidad de transición**, también conocida de antemano."
   ]
  },
  {
   "cell_type": "markdown",
   "metadata": {
    "slideshow": {
     "slide_type": "subslide"
    }
   },
   "source": [
    "Apliquemos el **Teorema de Bayes** para calcular $P(par)$ cuando acontecen los sucesos ya conocidos, $A =\\{2\\}, \\, B=\\{5\\}, \\, C=A\\cup B =\\{2, 5\\}, \\, D=\\{3, 4, 6\\}$. La **probabilidad *a priori*** del dado bueno es $P(par)=P(impar)=1/2$. Las **probabilidades *a posteriori*** son:\n",
    "\n",
    "$$\\begin{align*}\n",
    "P(par/A) &=\\frac{P(A/par)P(par)}{P(A)} =\\frac{(1/3)(1/2)}{1/6}=1&\\neq P(A/par)\\\\\n",
    "P(par/B) &=\\frac{P(B/par)P(par)}{P(B)} =\\frac{0(1/2)}{1/2}=0 &=P(B/par)\\\\\n",
    "P(par/C) &=\\frac{P(C/par)P(par)}{P(C)} =\\frac{(1/3)(1/2)}{1/3}=\\frac{1}{2}&\\neq P(C/par)\\\\\n",
    "P(par/D) &=\\frac{P(D/par)P(par)}{P(D)} =\\frac{(2/3)(1/2)}{1/2}=\\frac{2}{3}&=P(D/par)\n",
    "\\end{align*}$$\n",
    "\n"
   ]
  },
  {
   "cell_type": "markdown",
   "metadata": {
    "slideshow": {
     "slide_type": "slide"
    }
   },
   "source": [
    "## Probabilidad *a posteriori*\n",
    "\n",
    "Obtenemos las **probabilidades *a posteriori*** de los sucesos condicionantes, esto es, después de observarse el suceso. <u>Ahora no se trata de estimar una verosimilitud, sino una probabilidad condicionada</u>. Para ello necesitamos conocer:\n",
    "* **Probabilidades *a priori***: probabilidades incondicionadas de los sucesos condicionantes, que forman una partición del espacio muestral.\n",
    "* **Probabilidades de transición**: probabilidades condicionadas del suceso observado, por el suceso condicionante que forma una partición del espacio muestral."
   ]
  },
  {
   "cell_type": "markdown",
   "metadata": {
    "slideshow": {
     "slide_type": "subslide"
    }
   },
   "source": [
    "Con tal información, haciendo uso del **Teorema de Bayes**, obtenemos las **probabilidades *a posteriori***, esto es, las probabilidades de los sucesos condicionantes (que forman la partición), condicionadas por el suceso que se observa.\n",
    "\n",
    "* Decisión **Máximo A Posteriori (MAP)**: La decisión se toma seleccionando el suceso condicionante cuya probabilidad a posteriori es máxima\n",
    "* <u>No confundir</u> con decisión de **Máxima Verosimilitud (ML)**: no se utilizan las probabilidades a priori, y tomamos la decisión sobre las probabilidades de transición."
   ]
  },
  {
   "cell_type": "markdown",
   "metadata": {
    "slideshow": {
     "slide_type": "subslide"
    }
   },
   "source": [
    "Veamos varios casos:\n",
    "\n",
    "**El resultado observado es tres, cuatro o cinco. ¿Será par o impar el resultado?**\n",
    "\n",
    "* Probabilidad del resultado par condicionado por que haya salido tres, cuatro o cinco"
   ]
  },
  {
   "cell_type": "code",
   "execution_count": 6,
   "metadata": {
    "slideshow": {
     "slide_type": "fragment"
    },
    "tags": [
     "remove_input"
    ]
   },
   "outputs": [
    {
     "name": "stdout",
     "output_type": "stream",
     "text": [
      "P(par / tres_cuatro_cinco) 0.333333333333334\n"
     ]
    }
   ],
   "source": [
    "P_parCONDtres_cuatro_cinco = P_tres_cuatro_cincoCONDpar*P_suc[par]/P_tres_cuatro_cinco\n",
    "print('P(par / tres_cuatro_cinco)', P_parCONDtres_cuatro_cinco)"
   ]
  },
  {
   "cell_type": "markdown",
   "metadata": {
    "slideshow": {
     "slide_type": "fragment"
    }
   },
   "source": [
    "* Probabilidad del resultado impar condicionado por que haya salido tres, cuatro o cinco"
   ]
  },
  {
   "cell_type": "code",
   "execution_count": 7,
   "metadata": {
    "slideshow": {
     "slide_type": "fragment"
    },
    "tags": [
     "remove_input"
    ]
   },
   "outputs": [
    {
     "name": "stdout",
     "output_type": "stream",
     "text": [
      "P(impar / tres_cuatro_cinco) 0.6666666666666666\n"
     ]
    }
   ],
   "source": [
    "P_imparCONDtres_cuatro_cinco = P_tres_cuatro_cincoCONDimpar*P_suc[impar]/P_tres_cuatro_cinco\n",
    "print('P(impar / tres_cuatro_cinco)', P_imparCONDtres_cuatro_cinco)"
   ]
  },
  {
   "cell_type": "markdown",
   "metadata": {
    "slideshow": {
     "slide_type": "subslide"
    }
   },
   "source": [
    "La probabilidad a posteriori de que salga impar es superior a que salga par, si el resultado visto es tres, cuatro o cinco.\n",
    "\n",
    "Como las probabilidades a priori son iguales, la decisión MAP coincide con la ML.\n",
    "\n",
    "**El resultado observado es tres, cuatro o cinco. ¿Será divisible por tres o no el resultado?**\n",
    "\n",
    "* Probabilidad del resultado divisible por tres condicionado por que haya salido tres, cuatro o cinco"
   ]
  },
  {
   "cell_type": "code",
   "execution_count": 41,
   "metadata": {
    "slideshow": {
     "slide_type": "fragment"
    },
    "tags": [
     "remove_input"
    ]
   },
   "outputs": [
    {
     "name": "stdout",
     "output_type": "stream",
     "text": [
      "P(divisible por tres / tres_cuatro_cinco) 0.33333333333333404\n"
     ]
    }
   ],
   "source": [
    "P_div3CONDtres_cuatro_cinco = P_tres_cuatro_cincoCONDdiv3*P_suc[div3]/P_tres_cuatro_cinco\n",
    "print('P(divisible por tres / tres_cuatro_cinco)', P_div3CONDtres_cuatro_cinco)"
   ]
  },
  {
   "cell_type": "markdown",
   "metadata": {
    "slideshow": {
     "slide_type": "fragment"
    }
   },
   "source": [
    "* Probabilidad del resultado no divisible por tres condicionado por que haya salido tres, cuatro o cinco"
   ]
  },
  {
   "cell_type": "code",
   "execution_count": 8,
   "metadata": {
    "slideshow": {
     "slide_type": "fragment"
    },
    "tags": [
     "remove_input"
    ]
   },
   "outputs": [
    {
     "name": "stdout",
     "output_type": "stream",
     "text": [
      "P(no divisible por tres / tres_cuatro_cinco) 0.6666666666666666\n"
     ]
    }
   ],
   "source": [
    "P_nodiv3CONDtres_cuatro_cinco = P_tres_cuatro_cincoCONDnodiv3*P_suc[nodiv3]/P_tres_cuatro_cinco\n",
    "print('P(no divisible por tres / tres_cuatro_cinco)', P_nodiv3CONDtres_cuatro_cinco)"
   ]
  },
  {
   "cell_type": "markdown",
   "metadata": {
    "slideshow": {
     "slide_type": "fragment"
    }
   },
   "source": [
    "La probabilidad a posteriori de que no sea divisible por tres es superior a que sí lo sea. El decisor MAP permite tomar una decisión cuando el ML no permitía discriminar, gracias a que las probabilidades a priori son diferentes."
   ]
  }
 ],
 "metadata": {
  "celltoolbar": "Slideshow",
  "kernelspec": {
   "display_name": "Python 3",
   "language": "python",
   "name": "python3"
  },
  "language_info": {
   "codemirror_mode": {
    "name": "ipython",
    "version": 3
   },
   "file_extension": ".py",
   "mimetype": "text/x-python",
   "name": "python",
   "nbconvert_exporter": "python",
   "pygments_lexer": "ipython3",
   "version": "3.6.6"
  }
 },
 "nbformat": 4,
 "nbformat_minor": 2
}
