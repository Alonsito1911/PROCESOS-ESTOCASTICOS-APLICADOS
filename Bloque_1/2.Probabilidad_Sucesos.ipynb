{
 "cells": [
  {
   "cell_type": "markdown",
   "metadata": {
    "slideshow": {
     "slide_type": "slide"
    }
   },
   "source": [
    "# I.2 Probabilidad y Álgebra de Sucesos\n",
    "\n",
    "Llamamos **experimento aleatorio** a *todo experimento del que tenemos una incertidumbre en su resultado*, aun cuando conocemos las condiciones bajo las que se realiza. Por el contrario, en un **experimento determinista** podemos conocer el resultado de antemano, si tenemos suficiente información sobre las condiciones de experimentación\n",
    "\n",
    "Por ejemplo, la cara resultante de lanzar un dado es un experimento aleatorio. Sin embargo, el tiempo que tarda en caer un cuerpo soltándolo desde una situación de reposo a una altura determinada es determinista.\n",
    "\n",
    "La Historia de la Ciencia ha mostrado una controversia en relación a la existencia de experimentos aleatorios. Con suficiente información de las condiciones experimentales y computadores potentes, ¿podríamos determinar de forma determinista el resultado de cualquier experimento? La *Mecánica Cuántica* nos dice que hay una aleatoriedad consustancial a la Naturaleza. Sin embargo, para nuestros propósitos, añadiremos también experimentos cuya completa determinación no resulta práctica tales como, por ejemplo, el lanzamiento de un dado."
   ]
  },
  {
   "cell_type": "markdown",
   "metadata": {
    "slideshow": {
     "slide_type": "subslide"
    }
   },
   "source": [
    "Cada vez que realizamos un experimento aleatorio obtenemos una **observación** de la **variable estadística** o **muestral** de interés. Como ya sabemos, denominamos **espacio muestral** al *conjunto de resultados posibles de un experimento aleatorio*.\n",
    "\n",
    "Que el resultado de un experimento aleatorio sea incierto, no quiere decir que todos los resultados posibles del espacio muestral sean total e igualmente inciertos. Por ejemplo, no sabemos en qué momento caerá la primera nevada del año en las cumbres de Canarias y tampoco esperamos que eso pueda suceder en verano en la playa.\n",
    "\n",
    "Aunque no podamos determinar por adelantado los resultados de un experimento aleatorio, podemos saber mucho de ellos. Por ejemplo, si un dado de seis caras no está trucado, sabemos que los resultados posibles al lanzarlo son sus seis caras y que no tenemos razón para pensar que saldrá una más que otra."
   ]
  },
  {
   "cell_type": "markdown",
   "metadata": {
    "slideshow": {
     "slide_type": "subslide"
    }
   },
   "source": [
    "**¿Cómo podemos obtener información de los resultados de un experimento aleatorio?** Básicamente tenemos dos posibilidades para ello:\n",
    "\n",
    "- La primera posibilidad es **aprender de la experiencia**: en verano nunca nieva en las playas canarias, como vemos año tras año. Sin embargo, vemos que en invierno nieva varias veces en las cumbres más elevadas de las islas, y, aunque no es frecuente, a veces lo hace incluso en otoño y en primavera.\n",
    "  - Una posibilidad relacionada con la anterior es crear artificalmente la experiencia mediante la **experimentación**. Por ejemplo, podemos lanzar nosotros un dado para observar qué recurrrencias tenemos.\n",
    "- La segunda posibilidad es disponer de un **modelo teórico** que nos indique qué resultados son posibles y con qué frecuencia sucede cada uno. Ciertamente, si un dado no está trucado, podemos esperar que cada cara salga una sexta parte de las veces.\n",
    "\n",
    "En la práctica, ambas posibilidades están relacionadas. El aprendizaje a partir de la experiencia es la fase inductiva a partir de la cual establecemos una hipótesis. Una vez contrastada mediante la experimentación, tendremos una teoría que podremos utilizar de forma deductiva."
   ]
  },
  {
   "cell_type": "markdown",
   "metadata": {
    "slideshow": {
     "slide_type": "slide"
    }
   },
   "source": [
    "La **probabilidad** cuantifica el grado de certidumbre de cada resultado posible del experimento. Se trata, por tanto, de una medida asociada a cada resultado del espacio muestral: \n",
    "* Cuando un **resultado es imposible**, esto es, se tiene certidumbre absoluta de que no sucederá, se le asigna la **probabilidad 0**.\n",
    "* Cuando un **resultado es seguro**, esto es, se tiene certidumbre absoluta de que sucederá, se le asigna la **probabilidad 1**.\n",
    "* Entre estos dos situaciones extremas, se asignan **probabilidades entre 0 y 1** a todos los resultados del espacio muestral, dependiendo de la menor o mayor certidumbre que se tenga sobre los mismos. \n",
    "\n",
    "**La medida de la certidumbre que proporciona la probabilidad corresponde al modelo teórico a partir del cual podemos hacer deducciones relativas a cómo se comportarán los resultados de un experimento aleatorio. La construcción de tal modelo mediante la observación corresponde a la estadística**."
   ]
  },
  {
   "cell_type": "markdown",
   "metadata": {
    "slideshow": {
     "slide_type": "subslide"
    }
   },
   "source": [
    "#### Relación entre población estadística y probabilidad\n",
    "\n",
    "En la fase inductiva, de aprendizaje mediante la experiencia de un modelo, contamos con observaciones consistentes en una **subpoblación muestral** de la población estadística que estamos interesados en conocer: los resultados que obtendríamos si repitiéramos infinitas veces el experimento, recorriendo al hacerlo todas las posibilidades experimentales sin favorecer unas en relación a otras. Lógicamente, esperamos que la subpoblación estadística sea representativa del conjunto de la población.\n",
    "\n",
    "Realmente tal población estadística es una abstracción y proporciona el vínculo entre la estadística y la probabilidad. Aprender las características de la población estadística significa inducir una hipótesis sobre un modelo matemático (probabilístico) que representa el comportamiento de las observaciones si se repitiera infinitamente el experimento.\n",
    "\n",
    "Una vez disponemos un modelo probailístico adecuadamente contrastado, es decir, que representa el comportamiento de los experimentos aleatorios, no necesitamos continuar realizando experimentos para hacer predicciones sobre nuevos resultados experimentales. Tan solo es necesario realizar deducciones a partir de la teoría que hemos construido."
   ]
  },
  {
   "cell_type": "code",
   "execution_count": 1,
   "metadata": {
    "slideshow": {
     "slide_type": "skip"
    }
   },
   "outputs": [],
   "source": [
    "import numpy as np\n",
    "import matplotlib\n",
    "import matplotlib.pyplot as plt\n",
    "from matplotlib_venn import venn2, venn3, venn2_circles, venn3_circles\n",
    "import scipy.stats as stats"
   ]
  },
  {
   "cell_type": "markdown",
   "metadata": {
    "slideshow": {
     "slide_type": "slide"
    }
   },
   "source": [
    "## Álgebra de sucesos\n",
    "\n",
    "Un **conjunto** $A$ es una reunión de objetos distintos $\\{a_i\\}$ llamados **elementos**. El número de elementos puede ser infinito.\n",
    "* El conjunto sin elementos se llama **vacío**: $\\emptyset$\n",
    "* El conjunto de todos los elementos de interés, sin dejar ninguno fuera se llama **universal**: $\\Omega$.\n",
    "* Si $a$ es un elemento de $A$ decimos que $a$ **pertenece** a $A$: $a \\in A$. En caso contrario diremos que **no pertenece**: $a \\notin A$. \n",
    "* $B$ es un **subconjunto** de $A$, o $B$ está **incluido** en $A$, si todos los elementos de $B$ también lo son de $A$: $A\\subset B$. En caso contrario, diremos que **no está incluido**.\n",
    "* Dos conjuntos $A$ y $B$ son iguales, $A = B$, si $A\\subset B$ y $B \\subset A$."
   ]
  },
  {
   "cell_type": "markdown",
   "metadata": {
    "slideshow": {
     "slide_type": "subslide"
    }
   },
   "source": [
    "**El espacio muestral $\\Omega$ es el conjunto cuyos elementos son todos los resultados posibles de un experimento aleatorio**. Por tanto, si $x$ es un resultado posible del experimento aleatorio: $x \\in S$.\n",
    "\n",
    "Llamamos **suceso** a cualquier conjunto $A$ de resultados posibles de un experimento aleatorio. \n",
    "* **Un suceso acontece siempre que se satisfaga uno de sus elementos**. \n",
    "* Todo suceso está incluido en el espacio muestral: $A\\subset \\Omega$.\n",
    "* Un suceso con un único resultado se llama ** suceso elemental**.\n",
    "* El espacio muestral se llama **suceso seguro** pues acontece siempre.\n",
    "* El suceso vacío $\\emptyset$ no acontece nunca y se llama, por ello, **suceso imposible**."
   ]
  },
  {
   "cell_type": "markdown",
   "metadata": {
    "slideshow": {
     "slide_type": "subslide"
    }
   },
   "source": [
    "Consideremos el experimento aleatorio *lanzar un dado de seis caras* identificadas por las letras 'a' hasta 'f':\n",
    "* El espacio muestral es $\\Omega = \\{a, b, c, d, e, f\\}$. Es el **suceso seguro**, pues siempre saldrá uno de sus elementos.\n",
    "* El suceso $A = \\{b, c, e\\}$ corresponde a que salga 'b', 'c' o 'e': $b, c, e \\in A$, $A \\subset \\Omega$\n",
    "* El suceso $B = \\{c, d\\}$ corresponde a que salga 'c' o 'd': $c, d \\in B$, $B \\subset \\Omega$"
   ]
  },
  {
   "cell_type": "code",
   "execution_count": 38,
   "metadata": {
    "slideshow": {
     "slide_type": "fragment"
    },
    "tags": [
     "remove_input"
    ]
   },
   "outputs": [
    {
     "data": {
      "image/png": "[encoded data removed]",
      "text/plain": [
       "<Figure size 432x288 with 1 Axes>"
      ]
     },
     "metadata": {},
     "output_type": "display_data"
    }
   ],
   "source": [
    "S = {'a', 'b', 'c', 'd', 'e', 'f'}\n",
    "A = {'b', 'c', 'e'}\n",
    "B = {'c', 'd'}\n",
    "\n",
    "v = venn3([S, A, B], set_labels = ('$\\Omega$', 'A', 'B'))\n",
    "v.get_label_by_id('100').set_text('a f')\n",
    "v.get_label_by_id('110').set_text('b e')\n",
    "v.get_label_by_id('101').set_text('d')\n",
    "v.get_label_by_id('111').set_text('c')"
   ]
  },
  {
   "cell_type": "markdown",
   "metadata": {
    "slideshow": {
     "slide_type": "slide"
    }
   },
   "source": [
    "**Operaciones** entre los subconjuntos del conjunto universal (o entre los sucesos del espacio muestral):\n",
    "* **Complemento**, $\\overline A$: subconjunto de $\\Omega$ que no tiene elementos en $A$. Se cumple $\\overline \\emptyset = \\Omega$, $\\overline \\Omega = \\emptyset$.\n",
    "* **Unión**, $A \\cup B$: conjunto formado por elementos que pertenecen a $A$ **o** a $B$. Se cumple:\n",
    "  * Propiedades conmutativa $A \\cup B = B \\cup A$ y asociativa $(A \\cup B) \\cup C = A \\cup (B\\cup C)$.\n",
    "  * $A\\cup\\emptyset = A$, $A\\cup\\Omega=\\Omega$.\n",
    "* **Intersección**, $A \\cap B$: conjunto formado por elementos que simultáneamente pertenecen a $A$ **y** a $B$. Se cumple:\n",
    "  * Propiedades conmutativa $A \\cap B = B \\cap A$ y asociativa $(A \\cap B) \\cap C = A \\cap (B\\cap C)$.\n",
    "  * $A\\cap\\emptyset = \\emptyset$, $A\\cap\\Omega=A$.\n",
    "  * Si $A\\cap B = \\emptyset$ los **sucesos son incompatibles**.\n",
    "* **Diferencia**, $A-B$: conjunto formado por los elementos de $A$ que no pertenecen a $B$.\n",
    "  * Adviértase que $\\overline A = \\Omega - A$."
   ]
  },
  {
   "cell_type": "markdown",
   "metadata": {
    "slideshow": {
     "slide_type": "subslide"
    }
   },
   "source": [
    "Otras propiedades de las operaciones conjuntistas:\n",
    "\n",
    "* **Propiedades distributivas**\n",
    "  * $A\\cup(B\\cap C) = (A\\cup B)\\cap(A\\cup C)$\n",
    "  * $A\\cap(B\\cup C) = (A\\cap B)\\cup(A\\cap C)$\n",
    "* **Leyes de Morgan**\n",
    "  * $\\overline{A\\cup B} = \\overline{A}\\cap \\overline{B}$\n",
    "  * $\\overline{A\\cap B} = \\overline{A}\\cup \\overline{B}$\n",
    "* **Principio de dualidad**: si en una igualdad conjuntista se reemplazan la uniones por intersecciones, las intersecciones por uniones, $\\Omega$ por $\\emptyset$ y $\\emptyset$ por $\\Omega$, la igualdad se mantiene."
   ]
  },
  {
   "cell_type": "code",
   "execution_count": 65,
   "metadata": {
    "slideshow": {
     "slide_type": "subslide"
    },
    "tags": [
     "remove_input"
    ]
   },
   "outputs": [
    {
     "data": {
      "image/png": "[encoded data removed]",
      "text/plain": [
       "<Figure size 720x288 with 2 Axes>"
      ]
     },
     "metadata": {},
     "output_type": "display_data"
    }
   ],
   "source": [
    "plt.figure(figsize=(10,4))\n",
    "plt.subplot(121) \n",
    "v = venn3([S, A, B], set_labels = ('$\\Omega$', 'A', 'B'))\n",
    "v.get_label_by_id('100').set_text('a f')\n",
    "v.get_label_by_id('110').set_text('b e')\n",
    "v.get_label_by_id('101').set_text('d')\n",
    "v.get_label_by_id('111').set_text('c')\n",
    "\n",
    "plt.subplot(122)\n",
    "v = venn3([S, A, B], set_labels = ('$\\Omega$', 'A', 'B'))\n",
    "v.get_label_by_id('100').set_text('a f')\n",
    "v.get_label_by_id('110').set_text('b e')\n",
    "v.get_label_by_id('101').set_text('d')\n",
    "v.get_label_by_id('111').set_text('c')\n",
    "\n",
    "v.get_patch_by_id('110').set_color('blue')\n",
    "v.get_patch_by_id('101').set_color('blue')\n",
    "v.get_patch_by_id('111').set_color('blue')\n",
    "plt.title('$A \\cup B = \\{b, c, d, e\\}$');"
   ]
  },
  {
   "cell_type": "code",
   "execution_count": 68,
   "metadata": {
    "slideshow": {
     "slide_type": "fragment"
    },
    "tags": [
     "remove_input"
    ]
   },
   "outputs": [
    {
     "data": {
      "image/png": "[encoded data removed]",
      "text/plain": [
       "<Figure size 720x288 with 2 Axes>"
      ]
     },
     "metadata": {},
     "output_type": "display_data"
    }
   ],
   "source": [
    "plt.figure(figsize=(10,4))\n",
    "plt.subplot(121) \n",
    "v = venn3([S, A, B], set_labels = ('$\\Omega$', 'A', 'B'))\n",
    "v.get_label_by_id('100').set_text('a f')\n",
    "v.get_label_by_id('110').set_text('b e')\n",
    "v.get_label_by_id('101').set_text('d')\n",
    "v.get_label_by_id('111').set_text('c')\n",
    "\n",
    "v.get_patch_by_id('111').set_color('blue')\n",
    "plt.title('$A \\cap B = \\{c\\}$');\n",
    "\n",
    "plt.subplot(122)\n",
    "v = venn3([S, A, B], set_labels = ('$\\Omega$', 'A', 'B'))\n",
    "v.get_label_by_id('100').set_text('a f')\n",
    "v.get_label_by_id('110').set_text('b e')\n",
    "v.get_label_by_id('101').set_text('d')\n",
    "v.get_label_by_id('111').set_text('c')\n",
    "\n",
    "v.get_patch_by_id('111').set_alpha(1.0)\n",
    "v.get_patch_by_id('110').set_alpha(1.0)\n",
    "v.get_patch_by_id('111').set_color('white')\n",
    "v.get_patch_by_id('110').set_color('white')\n",
    "v.get_patch_by_id('100').set_color('blue')\n",
    "v.get_patch_by_id('101').set_color('blue')\n",
    "plt.title('$\\overline{A} = \\Omega - A = \\{a,d,f\\}$');"
   ]
  },
  {
   "cell_type": "markdown",
   "metadata": {
    "slideshow": {
     "slide_type": "slide"
    }
   },
   "source": [
    "Una **partición** $\\mathscr{P}$ del conjunto universal (en nuestro caso, el suceso seguro) lo reparte en varios subconjuntos disjuntos (sucesos incompatibles) que, al unirse, reconstruye el conjunto universal.\n",
    "\n",
    "$$A_i \\in \\mathscr{P}(\\Omega) \\, i=1\\ldots K \\iff  \\begin{matrix}\n",
    "  \\bigcup_{i=1}^K A_i = \\Omega &  \\\\\n",
    "  A_i \\cap A_j = \\emptyset & i\\neq j  \n",
    " \\end{matrix}$$"
   ]
  },
  {
   "cell_type": "code",
   "execution_count": 119,
   "metadata": {
    "slideshow": {
     "slide_type": "fragment"
    },
    "tags": [
     "remove_input"
    ]
   },
   "outputs": [
    {
     "data": {
      "image/png": "[encoded data removed]",
      "text/plain": [
       "<Figure size 720x288 with 2 Axes>"
      ]
     },
     "metadata": {},
     "output_type": "display_data"
    }
   ],
   "source": [
    "S = {'1','2','3','4','5','6'}\n",
    "Par = {'2', '4', '6'}\n",
    "Impar = {'1', '3', '5'}\n",
    "\n",
    "plt.figure(figsize=(10,4))\n",
    "plt.subplot(121) \n",
    "v = venn2([Par, Impar], set_labels = ('Par', 'Impar'))\n",
    "v.get_label_by_id('10').set_text('2 4 6')\n",
    "v.get_label_by_id('01').set_text('1 3 5')\n",
    "plt.title('Partición')\n",
    "\n",
    "plt.subplot(122)\n",
    "v = venn2([S, S], set_labels = ('$\\Omega$ = Par', ' $\\cup$ Impar'))\n",
    "v.get_label_by_id('11').set_text('1 2 3 4 5 6')\n",
    "v.get_label_by_id('10').set_text('')\n",
    "v.get_label_by_id('01').set_text('')"
   ]
  },
  {
   "cell_type": "markdown",
   "metadata": {
    "slideshow": {
     "slide_type": "slide"
    }
   },
   "source": [
    "## Definiciones de probabilidad\n",
    "\n",
    "Dependiendo de la estrategia que se utilice para medición de la incertidumbre, tendremos diferentes **interpretaciones de probabilidad** que dan lugar a distintas definiciones:\n",
    "\n",
    "* **Definición frecuencial de probabilidad**\n",
    "* **Definición clásica de probabilidad**\n",
    "* **Definición axiomática de probabilidad**"
   ]
  },
  {
   "cell_type": "markdown",
   "metadata": {
    "slideshow": {
     "slide_type": "subslide"
    }
   },
   "source": [
    "### Definición frecuencial de probabilidad\n",
    "\n",
    "La **interpretación frecuencial de la probabilidad** nos da la primera definición, que se fundamenta en conceptos estadísticos. La probabilidad de un suceso se estima experimentalmente, repitiendo muchas veces el mismo experimento y calculando sus **frecuencias relativas**. La definición matemática de **probabilidad muestral** requiere repetir infinitas veces el experimento, asegurándonos de muestrear el espacio muestral sin beneficiar a unos resultados en relación a otros: \n",
    "\n",
    "$$P(A) = \\lim_{N \\to \\infty}\\frac{N_A}{N}\\; ,$$\n",
    "\n",
    "donde $N_A$ es el número de veces que acontece el suceso $A$ y $N$ es el número de veces que se repite el experimento. En la práctica no podemos pasar al límite, y nos debemos conformar con una **estimación de la probabilidad muestral** de cada resultado posible, esto es, de cada elemento del espacio muestral. Tal estimación será mejor cuanto mayor sea el número de veces que repetimos el experimento.\n",
    "\n",
    "En particular, estamos interesados en conocer las frecuencias relativas, y, en el límite, las probabilidades, de todos y cada uno de los sucesos elementales, esto es, de todos y cada uno de los resultados que componen del espacio muestral. Las frecuencias relativas y, con ello, las probabilidades de todos sucesos se obtienen inmediatamente a partir de las de los sucesos elementales del espacio muestral."
   ]
  },
  {
   "cell_type": "markdown",
   "metadata": {
    "slideshow": {
     "slide_type": "subslide"
    }
   },
   "source": [
    "Algunas **propiedades** obtenidas de la definición y del álgebra de sucesos:\n",
    "* Dado que $0\\leq N_A \\leq N$, siempre se cumple que $0\\leq P(A)\\leq 1$.\n",
    "* El suceso imposible $\\emptyset$ nunca acontece, por lo que $N_\\emptyset = 0$ y $P(\\emptyset)=0$.\n",
    "* El suceso seguro $\\Omega$ siempre acontece, por lo que $N_\\Omega =N$ y $P(\\Omega)=1$.\n",
    "* Si $A$ acontece $N_A$ veces su complementario, $\\overline A$ acontece $N_{\\overline A}=N-N_A$ veces, por lo que $P(\\overline A)=1-P(A)$."
   ]
  },
  {
   "cell_type": "markdown",
   "metadata": {
    "slideshow": {
     "slide_type": "subslide"
    }
   },
   "source": [
    "* Si dos sucesos, $A$ y $B$, no tienen resultados en común, $A\\cap B =\\emptyset$, son **incompatibles** y no pueden verificarse al mismo tiempo, por lo que $P(A\\cap B)=0$. En este caso, el suceso $A\\cup B$ acontece cuando lo hace uno sólo de los dos, por lo que $N_{A\\cup B}=N_A + N_B$ y $P(A\\cup B)=P(A)+P(B)$. Esto es:\n",
    "$$P(A\\cap B)=0 \\implies P(A\\cup B) = \\lim_{N\\to \\infty}\\frac{N_A+N_B}{N}=P(A)+P(B)$$\n",
    "* Si dos sucesos, $A$ y $B$, tienen resultados en común, $A\\cap B \\neq\\emptyset$, pueden verificarse al mismo tiempo, por lo que $N_{A\\cup B}=N_A + N_B - N_{A\\cap B}$, pues debemos evitar contar dos veces los resultados de la intersección, y $P(A\\cup B)=P(A)+P(B)-P(A\\cap B)$. Esto es:\n",
    "$$P(A\\cap B)\\neq 0 \\implies P(A\\cup B) = \\lim_{N\\to \\infty}\\frac{N_A+N_B-N_{A\\cap B}}{N}=P(A)+P(B)-P(A\\cap B)$$"
   ]
  },
  {
   "cell_type": "markdown",
   "metadata": {
    "slideshow": {
     "slide_type": "slide"
    }
   },
   "source": [
    "Experimentemos lanzando un dado para obtener las probabilidades muestrales. Modelamos cada sucesión de lanzamientos mediante una **secuencia discreta**. Lanzaremos un dado bueno y otro trucado, éste con la característica de que pesan más las caras 5 y 6 y que, por lo tanto, saldrán más veces."
   ]
  },
  {
   "cell_type": "code",
   "execution_count": 69,
   "metadata": {
    "slideshow": {
     "slide_type": "fragment"
    },
    "tags": [
     "remove_input"
    ]
   },
   "outputs": [
    {
     "name": "stdout",
     "output_type": "stream",
     "text": [
      "Probabilidades caras dado bueno:\n",
      " [0.16666667 0.16666667 0.16666667 0.16666667 0.16666667 0.16666667]\n",
      "Suma de probabilidades: 1.0\n",
      "Probabilidades caras dado trucado:\n",
      " [0.08333333 0.08333333 0.08333333 0.08333333 0.33333333 0.33333333]\n",
      "Suma de probabilidades: 1.0\n"
     ]
    }
   ],
   "source": [
    "caras  = np.array([1,2,3,4,5,6])\n",
    "P_dado = np.array([1/6, 1/6, 1/6, 1/6, 1/6, 1/6])\n",
    "print('Probabilidades caras dado bueno:\\n', P_dado)\n",
    "print('Suma de probabilidades:', P_dado.sum().round(decimals=15))\n",
    "P_dadoTrucado    = np.array([1/12, 1/12, 1/12, 1/12, 1/3, 1/3]).round(decimals=10)\n",
    "P_dadoTrucado[5] = 1-P_dadoTrucado[0:5].sum()\n",
    "print('Probabilidades caras dado trucado:\\n', P_dadoTrucado)\n",
    "print('Suma de probabilidades:', P_dadoTrucado.sum())\n",
    "dadoTrucado      = stats.rv_discrete(values=(caras, P_dadoTrucado), name='dadoTrucado') "
   ]
  },
  {
   "cell_type": "markdown",
   "metadata": {
    "slideshow": {
     "slide_type": "skip"
    }
   },
   "source": [
    "* **Un lanzamiento**:"
   ]
  },
  {
   "cell_type": "code",
   "execution_count": 71,
   "metadata": {
    "slideshow": {
     "slide_type": "skip"
    },
    "tags": [
     "remove_input"
    ]
   },
   "outputs": [
    {
     "name": "stdout",
     "output_type": "stream",
     "text": [
      "Dado bueno:  [2]\n",
      "Dado trucado:  [5]\n"
     ]
    }
   ],
   "source": [
    "print('Dado bueno: ', np.random.randint(1,7,1))\n",
    "print('Dado trucado: ', dadoTrucado.rvs(loc=0, size=1, random_state=None))"
   ]
  },
  {
   "cell_type": "markdown",
   "metadata": {
    "slideshow": {
     "slide_type": "fragment"
    }
   },
   "source": [
    "* **Cien lanzamientos**:"
   ]
  },
  {
   "cell_type": "code",
   "execution_count": 80,
   "metadata": {
    "slideshow": {
     "slide_type": "fragment"
    },
    "tags": [
     "remove_input"
    ]
   },
   "outputs": [
    {
     "name": "stdout",
     "output_type": "stream",
     "text": [
      "Dado bueno (100 lanzamientos):\n",
      " [2 1 2 2 5 1 1 2 4 6 1 3 2 2 5 5 3 5 4 5 3 3 6 2 4 2 1 2 5 1 4 2 2 2 4 4 6\n",
      " 1 2 3 3 2 6 4 6 6 1 4 5 6 6 2 2 3 3 5 2 4 6 3 5 5 2 2 4 1 6 3 6 4 1 2 6 1\n",
      " 1 2 5 1 1 2 6 3 1 4 2 4 5 4 2 3 6 2 5 1 1 5 4 6 1 5]\n",
      "Dado trucado (100 lanzamientos):\n",
      " [1 5 6 6 6 4 5 6 6 5 5 5 6 5 6 6 5 1 5 6 5 5 6 6 5 6 6 5 6 5 1 5 6 6 6 2 6\n",
      " 5 5 5 6 1 3 5 5 5 6 5 4 3 5 2 1 6 3 5 6 4 5 5 5 5 6 6 6 1 1 6 6 5 6 5 2 3\n",
      " 5 2 5 1 6 6 4 5 5 5 6 5 6 6 5 6 5 4 6 5 1 1 5 3 6 5]\n"
     ]
    }
   ],
   "source": [
    "N=100\n",
    "seq100 = np.random.randint(1,7,N)\n",
    "print('Dado bueno (100 lanzamientos):\\n', seq100)\n",
    "seq100Trucado = dadoTrucado.rvs(loc=0, size=100, random_state=None)\n",
    "print('Dado trucado (100 lanzamientos):\\n', seq100Trucado)"
   ]
  },
  {
   "cell_type": "code",
   "execution_count": 81,
   "metadata": {
    "slideshow": {
     "slide_type": "subslide"
    },
    "tags": [
     "remove_input"
    ]
   },
   "outputs": [
    {
     "data": {
      "image/png": "[encoded data removed]",
      "text/plain": [
       "<Figure size 864x576 with 2 Axes>"
      ]
     },
     "metadata": {
      "needs_background": "light"
     },
     "output_type": "display_data"
    }
   ],
   "source": [
    "plt.figure(figsize=(12,8))\n",
    "plt.subplot(2,1,1)\n",
    "x=np.arange(1,N+1)\n",
    "plt.plot(x,seq100,'ok')\n",
    "plt.vlines(x,0,seq100);\n",
    "xt,loc=plt.xticks()\n",
    "xt[xt==0]=1\n",
    "xt=xt[(xt<=N)&(xt>=1)]\n",
    "plt.xticks(xt);\n",
    "plt.title('Dado bueno (100 lanzamientos)')\n",
    "\n",
    "plt.subplot(2,1,2)\n",
    "plt.plot(x,seq100Trucado,'ok')\n",
    "plt.vlines(x,0,seq100Trucado);\n",
    "xt,loc=plt.xticks()\n",
    "xt[xt==0]=1\n",
    "xt=xt[(xt<=N)&(xt>=1)]\n",
    "plt.xticks(xt);\n",
    "plt.title('Dado trucado (100 lanzamientos)');"
   ]
  },
  {
   "cell_type": "code",
   "execution_count": 82,
   "metadata": {
    "slideshow": {
     "slide_type": "subslide"
    },
    "tags": [
     "remove_input"
    ]
   },
   "outputs": [
    {
     "data": {
      "image/png": "[encoded data removed]",
      "text/plain": [
       "<Figure size 864x288 with 2 Axes>"
      ]
     },
     "metadata": {
      "needs_background": "light"
     },
     "output_type": "display_data"
    }
   ],
   "source": [
    "repet100        = np.bincount(seq100)[1:]\n",
    "repet100Trucado = np.bincount(seq100Trucado)[1:]\n",
    "\n",
    "plt.figure(figsize=(12,4))\n",
    "plt.subplot(1,2,1)\n",
    "plt.bar(range(1,7),repet100/100)\n",
    "plt.xticks([1,2,3,4,5,6])\n",
    "plt.title('Dado bueno - Frecuencias relativas (100 lanz.)');\n",
    "\n",
    "plt.subplot(1,2,2)\n",
    "plt.bar(range(1,7),repet100Trucado/100)\n",
    "plt.xticks([1,2,3,4,5,6])\n",
    "plt.title('Dado trucado - Frecuencias relativas (100 lanz.)');"
   ]
  },
  {
   "cell_type": "code",
   "execution_count": 83,
   "metadata": {
    "slideshow": {
     "slide_type": "fragment"
    },
    "tags": [
     "remove_input"
    ]
   },
   "outputs": [
    {
     "name": "stdout",
     "output_type": "stream",
     "text": [
      "Probabilidades muestrales dado bueno: \n",
      "\t [0.18 0.25 0.12 0.15 0.15 0.15]\n",
      "Probabilidades muestrales dado trucado:\n",
      "\t [0.1  0.04 0.05 0.05 0.4  0.36]\n"
     ]
    }
   ],
   "source": [
    "print('Probabilidades muestrales dado bueno: \\n\\t', repet100/N)\n",
    "print('Probabilidades muestrales dado trucado:\\n\\t', repet100Trucado/N)"
   ]
  },
  {
   "cell_type": "markdown",
   "metadata": {
    "slideshow": {
     "slide_type": "subslide"
    }
   },
   "source": [
    "* ***Mil lanzamientos***"
   ]
  },
  {
   "cell_type": "code",
   "execution_count": 86,
   "metadata": {
    "slideshow": {
     "slide_type": "fragment"
    },
    "tags": [
     "remove_input"
    ]
   },
   "outputs": [
    {
     "data": {
      "image/png": "[encoded data removed]",
      "text/plain": [
       "<Figure size 864x288 with 2 Axes>"
      ]
     },
     "metadata": {
      "needs_background": "light"
     },
     "output_type": "display_data"
    }
   ],
   "source": [
    "N=1000\n",
    "seq1000          = np.random.randint(1,7,N)\n",
    "repet1000        = np.bincount(seq1000)[1:]\n",
    "seq1000Trucado   = dadoTrucado.rvs(loc=0, size=1000, random_state=None)\n",
    "repet1000Trucado = np.bincount(seq1000Trucado)[1:]\n",
    "\n",
    "plt.figure(figsize=(12,4))\n",
    "plt.subplot(1,2,1)\n",
    "plt.bar(range(1,7),repet1000/1000)\n",
    "plt.title('Dado bueno - Frecuencias relativas (1000 lanz.)');\n",
    "\n",
    "plt.subplot(1,2,2)\n",
    "plt.bar(range(1,7),repet1000Trucado/1000)\n",
    "plt.title('Dado trucado - Frecuencias relativas (1000 lanz.)');"
   ]
  },
  {
   "cell_type": "code",
   "execution_count": 87,
   "metadata": {
    "slideshow": {
     "slide_type": "fragment"
    },
    "tags": [
     "remove_input"
    ]
   },
   "outputs": [
    {
     "name": "stdout",
     "output_type": "stream",
     "text": [
      "Probabilidades muestrales dado bueno: \n",
      "\t [0.151 0.192 0.177 0.155 0.159 0.166]\n",
      "Probabilidades muestrales dado trucado:\n",
      "\t [0.088 0.073 0.095 0.074 0.325 0.345]\n"
     ]
    }
   ],
   "source": [
    "print('Probabilidades muestrales dado bueno: \\n\\t', repet1000/N)\n",
    "print('Probabilidades muestrales dado trucado:\\n\\t', repet1000Trucado/N)"
   ]
  },
  {
   "cell_type": "markdown",
   "metadata": {
    "slideshow": {
     "slide_type": "subslide"
    }
   },
   "source": [
    "* **Un millón de lanzamientos**"
   ]
  },
  {
   "cell_type": "code",
   "execution_count": 88,
   "metadata": {
    "slideshow": {
     "slide_type": "fragment"
    },
    "tags": [
     "remove_input"
    ]
   },
   "outputs": [
    {
     "data": {
      "image/png": "[encoded data removed]",
      "text/plain": [
       "<Figure size 864x288 with 2 Axes>"
      ]
     },
     "metadata": {
      "needs_background": "light"
     },
     "output_type": "display_data"
    }
   ],
   "source": [
    "N=1000000\n",
    "seq1000000          = np.random.randint(1,7,N)\n",
    "repet1000000        = np.bincount(seq1000000)[1:]\n",
    "seq1000000Trucado   = dadoTrucado.rvs(loc=0, size=1000000, random_state=None)\n",
    "repet1000000Trucado = np.bincount(seq1000000Trucado)[1:]\n",
    "\n",
    "plt.figure(figsize=(12,4))\n",
    "plt.subplot(1,2,1)\n",
    "plt.bar(range(1,7),repet1000000/1000000)\n",
    "plt.title('Dado bueno - Frecuencias relativas (1000000 lanz.)');\n",
    "\n",
    "plt.subplot(1,2,2)\n",
    "plt.bar(range(1,7),repet1000000Trucado/1000000)\n",
    "plt.title('Dado trucado - Frecuencias relativas (1000000 lanz.)');"
   ]
  },
  {
   "cell_type": "code",
   "execution_count": 89,
   "metadata": {
    "slideshow": {
     "slide_type": "fragment"
    },
    "tags": [
     "remove_input"
    ]
   },
   "outputs": [
    {
     "name": "stdout",
     "output_type": "stream",
     "text": [
      "Probabilidades muestrales dado bueno: \n",
      "\t [0.167033 0.166452 0.167016 0.166249 0.166948 0.166302]\n",
      "Probabilidades muestrales dado trucado:\n",
      "\t [0.083474 0.083177 0.083105 0.083191 0.333624 0.333429]\n"
     ]
    }
   ],
   "source": [
    "print('Probabilidades muestrales dado bueno: \\n\\t', repet1000000/N)\n",
    "print('Probabilidades muestrales dado trucado:\\n\\t', repet1000000Trucado/N)"
   ]
  },
  {
   "cell_type": "markdown",
   "metadata": {
    "slideshow": {
     "slide_type": "slide"
    }
   },
   "source": [
    "### Definición clásica probabilidad \n",
    "\n",
    "La definición frecuencial de probabilidad se ajusta a nuestra experiencia, y proporciona un vínculo entre la estadística y la probabilidad mediante las frecuencias relativas de los resultados experimentales. Sin embargo, no siempre podemos repetir los experimentos suficientes veces para poder hacer una estimación aceptable de las probabilidades muestrales. Además, si el número de resultados posibles es infinito, no podremos recorrer todo el espacio muestral en nuestros experimentos repetidos y tendremos que conformarnos con estimaciones de probabilidad muestral a partir de intervalos.\n",
    "\n",
    "Sin embargo, nuestro conocimiento del problema, en algunos casos, puede permitirnos establecer un modelo teórico para las probabilidades, sin necesidad de experimentación.\n",
    "\n",
    "Por ejemplo, <u>al lanzar un dado de seis caras hay seis resultados posibles, y la probabilidad de que salga cada una de ellas es de 1/6</u>. No es necesario recurrir a la experimentación para saberlo."
   ]
  },
  {
   "cell_type": "markdown",
   "metadata": {
    "slideshow": {
     "slide_type": "subslide"
    }
   },
   "source": [
    "La definición clásica de probabilidad aborda parcialmente los problemas mencionados, calculando analíticamente (sin experimentación) las probabilidades de cada resultado. En particular presupone \n",
    "* Un número finito de resultados experimentales en el espacio muestral $N$.\n",
    "* Equiprobabilidad de todos los sucesos elementales: $P_1 = P_2 \\ldots = P_N = \\frac{1}{N}$.\n",
    "\n",
    "La probabilidad de un suceso es el cociente de las posibilidades teóricas de que acontezca, $N_A$ y de todos los resultados posibles $N$:\n",
    "\n",
    "$$P(A) = \\frac{N_A}{N}$$\n",
    "\n",
    "Por ejemplo, la probabilidad de que resulte par el lanzamiento de un dado es 1/2, pues de seis resultados posibles (1 a 6) tan sólo tres (2, 4, 6) nos valen: $P(par) = \\frac{3}{6}=\\frac{1}{2}$. **Esta definición de probabilidad satisface las propiedades derivadas del álgebra de sucesos, ya vistas para la probabilidad muestral**.\n",
    "\n",
    "Las *limitaciones de la definición clásica* son muchas, pues los resultados elementales no suelen ser equiprobables y el espacio muestral puede ser infinito. No obstante, la idea de modelar teóricamente la probabilidad a partir del conocimiento del problema se extiende a situaciones muy complejas, más allá de la definición clásica."
   ]
  },
  {
   "cell_type": "markdown",
   "metadata": {
    "slideshow": {
     "slide_type": "slide"
    }
   },
   "source": [
    "### Definición axiomática de probabilidad\n",
    "\n",
    "En este caso se introduce una estructura matemática, el **espacio de probabilidad**, que formaliza teóricamente el experimento aleatorio en el que estamos interesados. Llamamos **espacio de probabilidad** a la terna $(\\Omega, \\mathscr{F}, P)$ donde:\n",
    "\n",
    "* $\\Omega$ es el **espacio muestral** o conjunto de todos los resultados posibles del experimento aleatorio.\n",
    "* $\\mathscr{F}$ es el **conjunto de todos los sucesos** de interés. Es un *conjunto de conjuntos*, pues todo suceso es un conjunto de resultados contenidos en $\\Omega$.\n",
    "  * $\\mathscr{F}$ debe contener a $\\emptyset$ y $\\Omega$. \n",
    "  * $\\mathscr{F}$ debe contener el resultado de cualquier operación conjuntista de sus elementos. Por ejemplo, si $A, B \\subset \\mathscr{F} \\implies A \\cup B \\subset \\mathscr{F}$\n",
    "* **P es una ley que asigna probabilidades a los sucesos** de $\\mathscr{F}$. Si $A, B \\subset \\mathscr{F}$, $P(A), P(B)$ son las probabilidades de $A$ y de $B$. Se satisfacen los siguientes **axiomas**:\n",
    "    1. $P(A), P(B)\\geq 0$\n",
    "    2. $P(\\Omega)=1$\n",
    "    3. $P(A \\cup B) = P(A)+P(B)$ si $A \\cap B = \\emptyset$\n"
   ]
  },
  {
   "cell_type": "markdown",
   "metadata": {
    "slideshow": {
     "slide_type": "subslide"
    }
   },
   "source": [
    "La definición axiomátima de la probabilidad establece unos axiomas que hacen que el cálculo de probabilidades sobre sucesos que se combinan mediante operaciones conjuntistas satisfaga las mismas propiedades que la definición frecuencial y clásica.\n",
    "\n",
    "De los axiomas podemos derivar otrar propiedades de la probabilidad utilizando operaciones conjuntistas:\n",
    "* $P(\\overline A) = 1 - P(A)$.\n",
    "* $P(\\emptyset) = 0$.\n",
    "* Si $A\\cap B \\neq 0\\implies P(A\\cup B) =P(A)+P(B)-P(A\\cap B)$.\n",
    "* Si $A\\subset B \\implies P(A) \\leq P(B)$."
   ]
  },
  {
   "cell_type": "markdown",
   "metadata": {
    "slideshow": {
     "slide_type": "slide"
    }
   },
   "source": [
    "## Experimento aleatorio: lanzar un dado\n",
    "\n",
    "Aplicaremos ahora algunos de los conceptos vistos a un caso sencillo pero muy ilustrativo: el lanzamiento de un dado (normal y trucado). Estos contenidos deben trabajarse también como problemas y en el laboratorio. \n",
    "\n",
    "* **Espacio muestral**: 1, 2, 3, 4, 5, 6\n",
    "* **Probabilidades elementales**: \n",
    "  * Normal: P(1) = P(2) = P(3) = P(4) = P(5) = P(6) = 1/6\n",
    "  * Trucado: P(1) = P(2) = P(3) = P(4) = 1/12 ; P(5) = P(6) = 1/3\n",
    "* **Sucesos**: son todos los subconjuntos que se puedan formar con los elementos del espacio muestral. A partir de la probabilidades elementales se asignan probabilidades a cada suceso conforme a las leyes conjuntistas de la probabilidad. <u>El suceso acontece si se verifica cualquiera de sus elementos</u>.\n",
    "\n",
    "Siendo el espacio muestral finito de dimensión N=6, hay 2<sup>N</sup> = 2<sup>6</sup> = 64 sucesos posibles, que codificamos con palabras binarias de 6 bits. El bit más significativo corresponde al 1 y el menos al 6. Por ejemplo, el suceso \"ha salido un número par, esto es, 2, 4 ó 6, se codifica como [0, 1, 0, 1, 0, 1].\n"
   ]
  },
  {
   "cell_type": "code",
   "execution_count": 12,
   "metadata": {
    "slideshow": {
     "slide_type": "subslide"
    },
    "tags": [
     "remove_input"
    ]
   },
   "outputs": [
    {
     "name": "stdout",
     "output_type": "stream",
     "text": [
      "Probabilidades elementales del espacio muestral:\n",
      "\n",
      "Probabilidad dado bueno( [1 0 0 0 0 0] uno ) -> 0.16666666666666666\n",
      "Probabilidad dado trucado( [1 0 0 0 0 0] uno ) -> 0.0833333333 \n",
      "\n",
      "Probabilidad dado bueno( [0 1 0 0 0 0] dos ) -> 0.16666666666666666\n",
      "Probabilidad dado trucado( [0 1 0 0 0 0] dos ) -> 0.0833333333 \n",
      "\n",
      "Probabilidad dado bueno( [0 0 1 0 0 0] tres ) -> 0.16666666666666666\n",
      "Probabilidad dado trucado( [0 0 1 0 0 0] tres ) -> 0.0833333333 \n",
      "\n",
      "Probabilidad dado bueno( [0 0 0 1 0 0] cuatro ) -> 0.16666666666666666\n",
      "Probabilidad dado trucado( [0 0 0 1 0 0] cuatro ) -> 0.0833333333 \n",
      "\n",
      "Probabilidad dado bueno( [0 0 0 0 1 0] cinco ) -> 0.16666666666666666\n",
      "Probabilidad dado trucado( [0 0 0 0 1 0] cinco ) -> 0.3333333333 \n",
      "\n",
      "Probabilidad dado bueno( [0 0 0 0 0 1] seis ) -> 0.16666666666666666\n",
      "Probabilidad dado trucado( [0 0 0 0 0 1] seis ) -> 0.33333333349999994 \n",
      "\n"
     ]
    }
   ],
   "source": [
    "elementos = ['uno','dos','tres','cuatro','cinco','seis']\n",
    "uno, dos, tres, cuatro, cinco, seis = 0,1,2,3,4,5\n",
    "\n",
    "S = np.array([[1,0,0,0,0,0],\n",
    "              [0,1,0,0,0,0],\n",
    "              [0,0,1,0,0,0],\n",
    "              [0,0,0,1,0,0],\n",
    "              [0,0,0,0,1,0],\n",
    "              [0,0,0,0,0,1]])\n",
    "\n",
    "print('Probabilidades elementales del espacio muestral:\\n')\n",
    "for i, cara in enumerate(elementos):\n",
    "    print('Probabilidad dado bueno(',S[i], cara, ') ->', P_dado[i])\n",
    "    print('Probabilidad dado trucado(',S[i], cara, ') ->', P_dadoTrucado[i],'\\n')"
   ]
  },
  {
   "cell_type": "markdown",
   "metadata": {
    "slideshow": {
     "slide_type": "slide"
    }
   },
   "source": [
    "### Aplicación de leyes conjuntistas de la probabilidad"
   ]
  },
  {
   "cell_type": "code",
   "execution_count": 13,
   "metadata": {
    "slideshow": {
     "slide_type": "fragment"
    },
    "tags": [
     "remove_input"
    ]
   },
   "outputs": [
    {
     "name": "stdout",
     "output_type": "stream",
     "text": [
      "Dado bueno:\n",
      "Probabilidad de que NO salga uno: 0.8333333333333334\n",
      "Probabilidad de que salga dos, tres, cuatro, cinco o seis 0.8333333333333333\n",
      "\n",
      "Dado trucado:\n",
      "Probabilidad de que NO salga uno: 0.9166666667\n",
      "Probabilidad de que salga dos, tres, cuatro, cinco o seis 0.9166666667\n"
     ]
    }
   ],
   "source": [
    "print('Dado bueno:')\n",
    "print('Probabilidad de que NO salga uno:', 1-P_dado[uno])\n",
    "suc_bin = np.array([0,1,1,1,1,1]) # codificación binaria suceso dos, tres, cuatro, cinco o seis\n",
    "print('Probabilidad de que salga dos, tres, cuatro, cinco o seis', \n",
    "       (suc_bin*P_dado).sum())\n",
    "\n",
    "print('\\nDado trucado:')\n",
    "print('Probabilidad de que NO salga uno:', 1-P_dadoTrucado[uno])\n",
    "print('Probabilidad de que salga dos, tres, cuatro, cinco o seis', \n",
    "       (suc_bin*P_dadoTrucado).sum())"
   ]
  },
  {
   "cell_type": "markdown",
   "metadata": {
    "slideshow": {
     "slide_type": "fragment"
    }
   },
   "source": [
    "Comparemos con probabilidades muestrales, obtenidas con lanzamientos repetidos:"
   ]
  },
  {
   "cell_type": "code",
   "execution_count": 14,
   "metadata": {
    "slideshow": {
     "slide_type": "fragment"
    },
    "tags": [
     "remove_input"
    ]
   },
   "outputs": [
    {
     "name": "stdout",
     "output_type": "stream",
     "text": [
      "Dado bueno:\n",
      "Probabilidad de que NO salga uno (100 repeticiones): 0.86\n",
      "suceso -> 1,2,3,4,5,6 =  [False  True  True  True  True  True]\n",
      "Probabilidad de que salga dos, tres, cuatro, cinco o seis (100 repeticiones) 0.86\n",
      "\n",
      "Dado trucado:\n",
      "Probabilidad de que NO salga uno (100 repeticiones): 0.94\n",
      "suceso -> 1,2,3,4,5,6 =  [False  True  True  True  True  True]\n",
      "Probabilidad de que salga dos, tres, cuatro, cinco o seis (100 repeticiones) 0.94\n"
     ]
    }
   ],
   "source": [
    "print('Dado bueno:')\n",
    "print('Probabilidad de que NO salga uno (100 repeticiones):', 1-repet100[uno]/100)\n",
    "suc_muestral = suc_bin.astype(bool)\n",
    "print('suceso -> 1,2,3,4,5,6 = ',suc_muestral)\n",
    "print('Probabilidad de que salga dos, tres, cuatro, cinco o seis (100 repeticiones)', \n",
    "       (repet100[suc_muestral].sum())/100)\n",
    "\n",
    "print('\\nDado trucado:')\n",
    "print('Probabilidad de que NO salga uno (100 repeticiones):', 1-repet100Trucado[uno]/100)\n",
    "print('suceso -> 1,2,3,4,5,6 = ',suc_muestral)\n",
    "print('Probabilidad de que salga dos, tres, cuatro, cinco o seis (100 repeticiones)', \n",
    "       (repet100Trucado[suc_muestral].sum())/100)"
   ]
  },
  {
   "cell_type": "markdown",
   "metadata": {
    "slideshow": {
     "slide_type": "subslide"
    }
   },
   "source": [
    "**Sucesos complementarios y particiones**"
   ]
  },
  {
   "cell_type": "code",
   "execution_count": 15,
   "metadata": {
    "slideshow": {
     "slide_type": "fragment"
    },
    "tags": [
     "remove_input"
    ]
   },
   "outputs": [
    {
     "name": "stdout",
     "output_type": "stream",
     "text": [
      "Probabilidades sucesos singulares:\n",
      "\n",
      "Probabilidad dado bueno( [0 0 0 0 0 0] nulo ) -> 0.0\n",
      "Probabilidad dado trucado( [0 0 0 0 0 0] nulo ) -> 0.0 \n",
      "\n",
      "Probabilidad dado bueno( [0 1 0 1 0 1] par ) -> 0.5\n",
      "Probabilidad dado trucado( [0 1 0 1 0 1] par ) -> 0.5000000001 \n",
      "\n",
      "Probabilidad dado bueno( [1 0 1 0 1 0] impar ) -> 0.5\n",
      "Probabilidad dado trucado( [1 0 1 0 1 0] impar ) -> 0.4999999999 \n",
      "\n",
      "Probabilidad dado bueno( [0 0 1 0 0 1] div3 ) -> 0.333333333333333\n",
      "Probabilidad dado trucado( [0 0 1 0 0 1] div3 ) -> 0.4166666668 \n",
      "\n",
      "Probabilidad dado bueno( [1 1 0 1 1 0] nodiv3 ) -> 0.666666666666667\n",
      "Probabilidad dado trucado( [1 1 0 1 1 0] nodiv3 ) -> 0.5833333332 \n",
      "\n",
      "Probabilidad dado bueno( [1 1 1 1 1 1] seguro ) -> 1.0\n",
      "Probabilidad dado trucado( [1 1 1 1 1 1] seguro ) -> 1.0 \n",
      "\n"
     ]
    }
   ],
   "source": [
    "sucesos = ['nulo','par','impar','div3','nodiv3','seguro']\n",
    "nulo, par, impar, div3, nodiv3, seguro = 0,1,2,3,4,5\n",
    "\n",
    "F = np.array([[0,0,0,0,0,0],\n",
    "              [0,1,0,1,0,1],\n",
    "              [1,0,1,0,1,0],\n",
    "              [0,0,1,0,0,1],\n",
    "              [1,1,0,1,1,0],\n",
    "              [1,1,1,1,1,1]]);\n",
    "\n",
    "P_suc        = np.zeros(6)\n",
    "P_sucTrucado = np.zeros(6)\n",
    "print('Probabilidades sucesos singulares:\\n')\n",
    "for i,suc in enumerate(sucesos):\n",
    "    P_suc[i] = (F[i]*P_dado).sum().round(decimals=15)\n",
    "    print('Probabilidad dado bueno(', F[i], suc, ') ->', P_suc[i])\n",
    "    P_sucTrucado[i] = (F[i]*P_dadoTrucado).sum()\n",
    "    print('Probabilidad dado trucado(', F[i], suc, ') ->', P_sucTrucado[i],'\\n')"
   ]
  },
  {
   "cell_type": "markdown",
   "metadata": {
    "slideshow": {
     "slide_type": "subslide"
    }
   },
   "source": [
    "Probabilidades muestrales"
   ]
  },
  {
   "cell_type": "code",
   "execution_count": 16,
   "metadata": {
    "slideshow": {
     "slide_type": "fragment"
    },
    "tags": [
     "remove_input"
    ]
   },
   "outputs": [
    {
     "name": "stdout",
     "output_type": "stream",
     "text": [
      "Suceso par -> ['dos' 'cuatro' 'seis'] -> Prob. muestral (100 repeticiones): 0.51\n"
     ]
    }
   ],
   "source": [
    "suc_muestral = F[par].astype(bool)\n",
    "print('Suceso par ->', np.array(elementos)[suc_muestral], \n",
    "      '-> Prob. muestral (100 repeticiones):', repet100[suc_muestral].sum()/100)"
   ]
  },
  {
   "cell_type": "code",
   "execution_count": 17,
   "metadata": {
    "slideshow": {
     "slide_type": "fragment"
    },
    "tags": [
     "remove_input"
    ]
   },
   "outputs": [
    {
     "name": "stdout",
     "output_type": "stream",
     "text": [
      "Suceso impar -> ['uno' 'tres' 'cinco'] \n",
      "\t Prob. muestral (100 repeticiones): 0.49\n"
     ]
    }
   ],
   "source": [
    "suc_muestral = F[impar].astype(bool)\n",
    "print('Suceso impar ->', np.array(elementos)[suc_muestral], \n",
    "      '\\n\\t Prob. muestral (100 repeticiones):', repet100[suc_muestral].sum()/100)"
   ]
  },
  {
   "cell_type": "code",
   "execution_count": 18,
   "metadata": {
    "slideshow": {
     "slide_type": "fragment"
    },
    "tags": [
     "remove_input"
    ]
   },
   "outputs": [
    {
     "name": "stdout",
     "output_type": "stream",
     "text": [
      "Suceso divisible por tres -> ['tres' 'seis'] \n",
      "\t Prob. muestral (100 repeticiones): 0.36\n"
     ]
    }
   ],
   "source": [
    "suc_muestral = F[div3].astype(bool)\n",
    "print('Suceso divisible por tres ->', np.array(elementos)[suc_muestral], \n",
    "      '\\n\\t Prob. muestral (100 repeticiones):', repet100[suc_muestral].sum()/100)"
   ]
  },
  {
   "cell_type": "code",
   "execution_count": 19,
   "metadata": {
    "slideshow": {
     "slide_type": "fragment"
    },
    "tags": [
     "remove_input"
    ]
   },
   "outputs": [
    {
     "name": "stdout",
     "output_type": "stream",
     "text": [
      "Suceso no divisible por tres -> ['uno' 'dos' 'cuatro' 'cinco'] \n",
      "\t Prob. muestral (100 repeticiones): 0.64\n"
     ]
    }
   ],
   "source": [
    "suc_muestral = F[nodiv3].astype(bool)\n",
    "print('Suceso no divisible por tres ->', np.array(elementos)[suc_muestral], \n",
    "      '\\n\\t Prob. muestral (100 repeticiones):', repet100[suc_muestral].sum()/100)"
   ]
  },
  {
   "cell_type": "markdown",
   "metadata": {
    "slideshow": {
     "slide_type": "subslide"
    }
   },
   "source": [
    "**Sucesos seguro y nulo**"
   ]
  },
  {
   "cell_type": "code",
   "execution_count": 20,
   "metadata": {
    "slideshow": {
     "slide_type": "fragment"
    },
    "tags": [
     "remove_input"
    ]
   },
   "outputs": [
    {
     "name": "stdout",
     "output_type": "stream",
     "text": [
      "suceso nulo INTERSECCIÓN suceso seguro: \t [0 0 0 0 0 0]\n",
      "COMPLEMENTARIO suceso nulo == suceso seguro: \t True\n",
      "suceso nulo UNIÓN suceso seguro: \t\t [1 1 1 1 1 1]\n"
     ]
    }
   ],
   "source": [
    "print('suceso nulo INTERSECCIÓN suceso seguro: \\t',\n",
    "      np.logical_and(F[nulo], F[seguro]).astype(int)) # mutuamente excluyentes\n",
    "print('COMPLEMENTARIO suceso nulo == suceso seguro: \\t',\n",
    "      np.array_equal(np.logical_not(F[nulo]),F[seguro])) # complementarios\n",
    "print('suceso nulo UNIÓN suceso seguro: \\t\\t',\n",
    "      np.logical_or(F[nulo], F[seguro]).astype(int))"
   ]
  },
  {
   "cell_type": "markdown",
   "metadata": {
    "slideshow": {
     "slide_type": "subslide"
    }
   },
   "source": [
    "**Sucesos resultado par y resultado impar**"
   ]
  },
  {
   "cell_type": "code",
   "execution_count": 21,
   "metadata": {
    "slideshow": {
     "slide_type": "fragment"
    },
    "tags": [
     "remove_input"
    ]
   },
   "outputs": [
    {
     "name": "stdout",
     "output_type": "stream",
     "text": [
      "suceso par INTERSECCIÓN suceso impar: \t\t [0 0 0 0 0 0]\n",
      "COMPLEMENTARIO suceso par == suceso impar: \t True\n",
      "suceso par UNIÓN suceso impar: \t\t\t [1 1 1 1 1 1]\n"
     ]
    }
   ],
   "source": [
    "print('suceso par INTERSECCIÓN suceso impar: \\t\\t',\n",
    "      np.logical_and(F[par], F[impar]).astype(int)) # mutuamente excluyentes\n",
    "print('COMPLEMENTARIO suceso par == suceso impar: \\t',\n",
    "      np.array_equal(np.logical_not(F[par]),F[impar])) # complementarios\n",
    "print('suceso par UNIÓN suceso impar: \\t\\t\\t',\n",
    "      np.logical_or(F[par], F[impar]).astype(int))"
   ]
  },
  {
   "cell_type": "markdown",
   "metadata": {
    "slideshow": {
     "slide_type": "subslide"
    }
   },
   "source": [
    "**Sucesos resultado divisible por tres y resultado no divisble por tres**"
   ]
  },
  {
   "cell_type": "code",
   "execution_count": 22,
   "metadata": {
    "slideshow": {
     "slide_type": "fragment"
    },
    "tags": [
     "remove_input"
    ]
   },
   "outputs": [
    {
     "name": "stdout",
     "output_type": "stream",
     "text": [
      "suceso divisible por tres INTERSECCIÓN suceso no divisible por tres:\t [0 0 0 0 0 0]\n",
      "COMPLEMENTARIO suceso divisible por tres == suceso no divisible por tres: \t True\n",
      "suceso divisible por tres UNIÓN suceso no divisible por tres: \t\t [1 1 1 1 1 1]\n"
     ]
    }
   ],
   "source": [
    "print('suceso divisible por tres INTERSECCIÓN suceso no divisible por tres:\\t',\n",
    "      np.logical_and(F[div3], F[nodiv3]).astype(int)) # mutuamente excluyentes\n",
    "print('COMPLEMENTARIO suceso divisible por tres == suceso no divisible por tres: \\t',\n",
    "      np.array_equal(np.logical_not(F[div3]),F[nodiv3])) # complementarios\n",
    "print('suceso divisible por tres UNIÓN suceso no divisible por tres: \\t\\t',\n",
    "      np.logical_or(F[div3], F[nodiv3]).astype(int))"
   ]
  },
  {
   "cell_type": "markdown",
   "metadata": {
    "slideshow": {
     "slide_type": "slide"
    }
   },
   "source": [
    "**Unión e intersección de sucesos**"
   ]
  },
  {
   "cell_type": "code",
   "execution_count": 23,
   "metadata": {
    "slideshow": {
     "slide_type": "fragment"
    },
    "tags": [
     "remove_input"
    ]
   },
   "outputs": [
    {
     "name": "stdout",
     "output_type": "stream",
     "text": [
      "Probabilidad de que salga tres o cuatro o cinco:\t 0.5\n",
      "Probabilidad de que NO salga tres o cuatro o cinco:\t 0.5\n",
      "Probabilidad de que salga uno, dos o seis:\t\t 0.5\n"
     ]
    }
   ],
   "source": [
    "tres_cuatro_cinco = np.array([0,0,1,1,1,0]);\n",
    "P_tres_cuatro_cinco = (tres_cuatro_cinco*P_dado).sum().round(decimals=15)\n",
    "print('Probabilidad de que salga tres o cuatro o cinco:\\t', P_tres_cuatro_cinco)\n",
    "print('Probabilidad de que NO salga tres o cuatro o cinco:\\t', 1-P_tres_cuatro_cinco)\n",
    "print('Probabilidad de que salga uno, dos o seis:\\t\\t', (np.array([1,1,0,0,0,1])*P_dado).sum())"
   ]
  },
  {
   "cell_type": "code",
   "execution_count": 24,
   "metadata": {
    "slideshow": {
     "slide_type": "fragment"
    },
    "tags": [
     "remove_input"
    ]
   },
   "outputs": [
    {
     "name": "stdout",
     "output_type": "stream",
     "text": [
      "Suceso tres, cuatro o cinco -> ['tres' 'cuatro' 'cinco'] \n",
      "\t Prob. muestral (100 repeticiones): 0.49\n"
     ]
    }
   ],
   "source": [
    "suc_muestral = tres_cuatro_cinco.astype(bool)\n",
    "print('Suceso tres, cuatro o cinco ->', np.array(elementos)[suc_muestral], \n",
    "      '\\n\\t Prob. muestral (100 repeticiones):', repet100[suc_muestral].sum()/100)"
   ]
  },
  {
   "cell_type": "code",
   "execution_count": 25,
   "metadata": {
    "slideshow": {
     "slide_type": "fragment"
    },
    "tags": [
     "remove_input"
    ]
   },
   "outputs": [
    {
     "name": "stdout",
     "output_type": "stream",
     "text": [
      "Suceso que salga par UNIÓN que salga tres o cuatro o cinco [0 1 1 1 1 1] \n",
      "\tProbabilidad: 0.833333333333333\n",
      "\n",
      "Suceso que salga par INTERSECCIÓN que salga tres o cuatro o cinco [0 0 0 1 0 0] \n",
      "\tProbabilidad: 0.166666666666667\n",
      "\n",
      "Probabilidad de que salga par ( 0.5 ) + \n",
      "Probabilidad de que salga tres o cuatro o cinco ( 0.5 ) - \n",
      "Probabilidad intersección ( 0.166666666666667 ) = \n",
      "\t= 0.833333333333333\n"
     ]
    }
   ],
   "source": [
    "parOtres_cuatro_cinco   = np.logical_or(F[par], tres_cuatro_cinco).astype(int)\n",
    "P_parOtres_cuatro_cinco = (parOtres_cuatro_cinco*P_dado).sum().round(decimals=15)\n",
    "print('Suceso que salga par UNIÓN que salga tres o cuatro o cinco', parOtres_cuatro_cinco, \n",
    "      '\\n\\tProbabilidad:', P_parOtres_cuatro_cinco)\n",
    "\n",
    "parYtres_cuatro_cinco   = np.logical_and(F[par], tres_cuatro_cinco).astype(int)\n",
    "P_parYtres_cuatro_cinco = (parYtres_cuatro_cinco*P_dado).sum().round(decimals=15)\n",
    "print('\\nSuceso que salga par INTERSECCIÓN que salga tres o cuatro o cinco', \n",
    "      parYtres_cuatro_cinco, \n",
    "      '\\n\\tProbabilidad:', P_parYtres_cuatro_cinco)\n",
    "\n",
    "print('\\nProbabilidad de que salga par (', P_suc[par], ') +',\n",
    "      '\\nProbabilidad de que salga tres o cuatro o cinco (', P_tres_cuatro_cinco, ') -',\n",
    "      '\\nProbabilidad intersección (', P_parYtres_cuatro_cinco,') =',\n",
    "      '\\n\\t=',P_suc[par]+P_tres_cuatro_cinco-P_parYtres_cuatro_cinco)"
   ]
  },
  {
   "cell_type": "code",
   "execution_count": 26,
   "metadata": {
    "slideshow": {
     "slide_type": "subslide"
    },
    "tags": [
     "remove_input"
    ]
   },
   "outputs": [
    {
     "name": "stdout",
     "output_type": "stream",
     "text": [
      "Suceso que salga impar UNIÓN que salga tres o cuatro o cinco [1 0 1 1 1 0] \n",
      "\tProbabilidad: 0.6666666666666666\n",
      "\n",
      "Suceso que salga impar INTERSECCIÓN que salga tres o cuatro o cinco [0 0 1 0 1 0] \n",
      "\tProbabilidad: 0.3333333333333333\n",
      "\n",
      "Probabilidad de que salga impar ( 0.5 ) + \n",
      "Probabilidad de que salga tres o cuatro o cinco ( 0.5 ) - \n",
      "Probabilidad intersección ( 0.3333333333333333 ) = \n",
      "\t= 0.6666666666666667\n"
     ]
    }
   ],
   "source": [
    "imparOtres_cuatro_cinco   = np.logical_or(F[impar], tres_cuatro_cinco).astype(int)\n",
    "P_imparOtres_cuatro_cinco = (imparOtres_cuatro_cinco*P_dado).sum()\n",
    "print('Suceso que salga impar UNIÓN que salga tres o cuatro o cinco', imparOtres_cuatro_cinco, \n",
    "      '\\n\\tProbabilidad:', P_imparOtres_cuatro_cinco)\n",
    "\n",
    "imparYtres_cuatro_cinco   = np.logical_and(F[impar], tres_cuatro_cinco).astype(int)\n",
    "P_imparYtres_cuatro_cinco = (imparYtres_cuatro_cinco*P_dado).sum()\n",
    "print('\\nSuceso que salga impar INTERSECCIÓN que salga tres o cuatro o cinco', \n",
    "      imparYtres_cuatro_cinco, \n",
    "      '\\n\\tProbabilidad:', P_imparYtres_cuatro_cinco)\n",
    "\n",
    "print('\\nProbabilidad de que salga impar (', P_suc[impar], ') +',\n",
    "      '\\nProbabilidad de que salga tres o cuatro o cinco (', P_tres_cuatro_cinco, ') -',\n",
    "      '\\nProbabilidad intersección (', P_imparYtres_cuatro_cinco,') =',\n",
    "      '\\n\\t=',P_suc[impar]+P_tres_cuatro_cinco-P_imparYtres_cuatro_cinco)"
   ]
  },
  {
   "cell_type": "code",
   "execution_count": 27,
   "metadata": {
    "slideshow": {
     "slide_type": "subslide"
    },
    "tags": [
     "remove_input"
    ]
   },
   "outputs": [
    {
     "name": "stdout",
     "output_type": "stream",
     "text": [
      "Suceso que salga divisible por tres UNIÓN que salga tres o cuatro o cinco [0 0 1 1 1 1] \n",
      "\tProbabilidad: 0.666666666666667\n",
      "\n",
      "Suceso que salga divisible por 3 INTERSECCIÓN que salga tres o cuatro o cinco [0 0 1 0 0 0] \n",
      "\tProbabilidad: 0.166666666666667\n",
      "\n",
      "Probabilidad de que salga divisible por tres ( 0.333333333333333 ) + \n",
      "Probabilidad de que salga tres o cuatro o cinco ( 0.5 ) - \n",
      "Probabilidad intersección ( 0.166666666666667 ) = \n",
      "\t= 0.6666666666666661\n"
     ]
    }
   ],
   "source": [
    "div3Otres_cuatro_cinco   = np.logical_or(F[div3], tres_cuatro_cinco).astype(int)\n",
    "P_div3Otres_cuatro_cinco = (div3Otres_cuatro_cinco*P_dado).sum().round(decimals=15)\n",
    "print('Suceso que salga divisible por tres UNIÓN que salga tres o cuatro o cinco', \n",
    "      div3Otres_cuatro_cinco, \n",
    "      '\\n\\tProbabilidad:', P_div3Otres_cuatro_cinco)\n",
    "\n",
    "div3Ytres_cuatro_cinco   = np.logical_and(F[div3], tres_cuatro_cinco).astype(int)\n",
    "P_div3Ytres_cuatro_cinco = (div3Ytres_cuatro_cinco*P_dado).sum().round(decimals=15)\n",
    "print('\\nSuceso que salga divisible por 3 INTERSECCIÓN que salga tres o cuatro o cinco', \n",
    "      div3Ytres_cuatro_cinco, \n",
    "      '\\n\\tProbabilidad:', P_div3Ytres_cuatro_cinco)\n",
    "\n",
    "print('\\nProbabilidad de que salga divisible por tres (', P_suc[div3], ') +',\n",
    "      '\\nProbabilidad de que salga tres o cuatro o cinco (', P_tres_cuatro_cinco, ') -',\n",
    "      '\\nProbabilidad intersección (', P_div3Ytres_cuatro_cinco,') =',\n",
    "      '\\n\\t=',P_suc[div3]+P_tres_cuatro_cinco-P_div3Ytres_cuatro_cinco)"
   ]
  },
  {
   "cell_type": "code",
   "execution_count": 28,
   "metadata": {
    "slideshow": {
     "slide_type": "fragment"
    },
    "tags": [
     "remove_input"
    ]
   },
   "outputs": [
    {
     "name": "stdout",
     "output_type": "stream",
     "text": [
      "Suceso que salga no divisible por tres UNIÓN que salga tres o cuatro o cinco [1 1 1 1 1 0] \n",
      "\tProbabilidad: 0.8333333333333333\n",
      "\n",
      "Suceso que salga no divisible por 3 INTERSECCIÓN que salga tres o cuatro o cinco [0 0 0 1 1 0] \n",
      "\tProbabilidad: 0.3333333333333333\n",
      "\n",
      "Probabilidad de que salga no divisible por tres ( 0.666666666666667 ) + \n",
      "Probabilidad de que salga tres o cuatro o cinco ( 0.5 ) - \n",
      "Probabilidad intersección ( 0.3333333333333333 ) = \n",
      "\t= 0.8333333333333337\n"
     ]
    }
   ],
   "source": [
    "nodiv3Otres_cuatro_cinco   = np.logical_or(F[nodiv3], tres_cuatro_cinco).astype(int)\n",
    "P_nodiv3Otres_cuatro_cinco = (nodiv3Otres_cuatro_cinco*P_dado).sum()\n",
    "print('Suceso que salga no divisible por tres UNIÓN que salga tres o cuatro o cinco', \n",
    "      nodiv3Otres_cuatro_cinco, \n",
    "      '\\n\\tProbabilidad:', P_nodiv3Otres_cuatro_cinco)\n",
    "\n",
    "nodiv3Ytres_cuatro_cinco   = np.logical_and(F[nodiv3], tres_cuatro_cinco).astype(int)\n",
    "P_nodiv3Ytres_cuatro_cinco = (nodiv3Ytres_cuatro_cinco*P_dado).sum()\n",
    "print('\\nSuceso que salga no divisible por 3 INTERSECCIÓN que salga tres o cuatro o cinco', \n",
    "      nodiv3Ytres_cuatro_cinco, \n",
    "      '\\n\\tProbabilidad:', P_nodiv3Ytres_cuatro_cinco)\n",
    "\n",
    "print('\\nProbabilidad de que salga no divisible por tres (', P_suc[nodiv3], ') +',\n",
    "      '\\nProbabilidad de que salga tres o cuatro o cinco (', P_tres_cuatro_cinco, ') -',\n",
    "      '\\nProbabilidad intersección (', P_nodiv3Ytres_cuatro_cinco,') =',\n",
    "      '\\n\\t=',P_suc[nodiv3]+P_tres_cuatro_cinco-P_nodiv3Ytres_cuatro_cinco)"
   ]
  }
 ],
 "metadata": {
  "celltoolbar": "Slideshow",
  "kernelspec": {
   "display_name": "Python 3",
   "language": "python",
   "name": "python3"
  },
  "language_info": {
   "codemirror_mode": {
    "name": "ipython",
    "version": 3
   },
   "file_extension": ".py",
   "mimetype": "text/x-python",
   "name": "python",
   "nbconvert_exporter": "python",
   "pygments_lexer": "ipython3",
   "version": "3.6.6"
  }
 },
 "nbformat": 4,
 "nbformat_minor": 2
}
