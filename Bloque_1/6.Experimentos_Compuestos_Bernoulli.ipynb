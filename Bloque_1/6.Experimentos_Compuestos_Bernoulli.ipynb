{
 "cells": [
  {
   "cell_type": "markdown",
   "metadata": {
    "slideshow": {
     "slide_type": "slide"
    }
   },
   "source": [
    "# 6. Experimentos Compuestos. Pruebas de Bernoulli\n",
    "\n",
    "## Experimentos Compuestos\n",
    "\n",
    "Consideramos que realizamos los experimentos $\\epsilon_1$: \"lanzar un dado\" y $\\epsilon_2$: \"lanzar una moneda\". Tanto el dado como la moneda son buenos (no están trucados). Ambos experimentos inducen sendos espacios de probabilidad:\n",
    "\n",
    "* $\\epsilon_1 (\\Omega_1, \\mathscr{F_1}, P_1)$, donde $\\Omega_1=\\{1,2,3,4,5,6\\}$, $P_1(1)=P_1(2)=\\ldots =P(6)=1/$ y $\\mathscr{F_1}$ es el conjunto con los $2^6=128$ sucesos posibles.\n",
    "* $\\epsilon_2 (\\Omega_2, \\mathscr{F_2}, P_2)$, donde $\\Omega_2=\\{c,x\\}$, $P_2(c)=P_2(x)=1/2$ y $\\mathscr{F_2}$ es el conjunto con los $2^2=4$ sucesos posibles."
   ]
  },
  {
   "cell_type": "markdown",
   "metadata": {
    "slideshow": {
     "slide_type": "subslide"
    }
   },
   "source": [
    "Definimos el **experimento compuesto** $\\epsilon_1 \\times \\epsilon_2$ correspondiente al lanzamiento del dado y la moneda, que denominamos **experimentos marginales**:\n",
    "\n",
    "$$\\epsilon_1 \\times \\epsilon_2 (\\Omega_1 \\times \\Omega_2, \\mathscr{F_1}\\times \\mathscr{F_2}, P)$$\n",
    "\n",
    "donde $\\times$ denota el **producto cartesiano** de dos conjuntos, esto es, el conjunto formado por todos los **pares ordenados** que podemos obtener a partir de ambos:\n",
    "\n",
    "$$\\begin{align*}\n",
    "\\Omega_1 \\times \\Omega_2 = \\{&(1,c), (2,c), (3,c), (4,c), (5,c), (6,c),\\\\ &(1,x), (2,x), (3,x), (4,x), (5,x), (6,x)\\}\n",
    "\\end{align*}\n",
    "$$\n",
    "\n",
    "Si $A \\in \\mathscr{F_1}$ y $B \\in \\mathscr{F_2}$, entonces $A\\times \\Omega_2,\\, \\Omega_1 \\times B,\\, A \\times B \\in \\mathscr{F_1}\\times \\mathscr{F_2}$.\n",
    "\n",
    "$P$ asigna probabilidades a cada suceso de $\\mathscr{F_1}\\times \\mathscr{F_2}$ y, en particular, a los sucesos elementales de nuevo espacio muestral $\\Omega_1 \\times \\Omega_2$."
   ]
  },
  {
   "cell_type": "markdown",
   "metadata": {
    "slideshow": {
     "slide_type": "subslide"
    }
   },
   "source": [
    "Las probabilidades de los sucesos correspondientes **espacios muestrales marginales** se obtienen fácilmente como sigue\n",
    "\n",
    "$$P(A\\times \\Omega_2) = P_1(A) \\qquad\n",
    "P(\\Omega_1\\times B)= P_2(B)$$\n",
    "\n",
    "En general, **no podemos obtener** las **probabilidades conjuntas** de sucesos $A \\times B$ a partir de las **probaibilidades marginales** $P_1$ y $P_2$. Adviértase que \n",
    "\n",
    "$$A\\times B = A\\times \\Omega_2 \\bigcap \\Omega_1\\times B$$\n",
    "\n",
    "Por tanto, una excepción es cuando los sucesos $A\\times \\Omega_2$ y $\\Omega_1\\times B$ son **independientes**, en cuyo caso obtenemos la probabilidad conjunta a partir de las marginales\n",
    "\n",
    "$$\\begin{align*}\n",
    "P(A\\times B)&=P(A\\times \\Omega_2 \\bigcap \\Omega_1\\times B)\\\\\n",
    "&= P(A\\times \\Omega_2) P(\\Omega_1\\times B) = P_1(A)P_2(B)\n",
    "\\end{align*}$$"
   ]
  },
  {
   "cell_type": "markdown",
   "metadata": {
    "slideshow": {
     "slide_type": "slide"
    }
   },
   "source": [
    "En el caso de nuestro ejemplo de experimento compuesto:\n",
    "\n",
    "$$P(\\{3\\}\\times \\Omega_2) = P_1(1)=1/6 \\qquad\n",
    "P(\\Omega_1\\times\\{c\\})= P_2(c) =1/2$$\n",
    "\n",
    "Y las probabilidades de elementos arbitrarios del espacio muestral:\n",
    "\n",
    "$$P((3,c))= P(\\{3\\}\\times \\Omega_2 \\bigcap \\Omega_1\\times\\{c\\})$$\n",
    "\n",
    "En este experimento compuesto **podemos asumir independencia**, por tanto:\n",
    "\n",
    "$$P((3,c))= P(\\{3\\}\\times \\Omega_2) P(\\Omega_1\\times\\{c\\})=P_1(3)P_2(c)=\\frac{1}{6}\\frac{1}{2}=\\frac{1}{12}$$"
   ]
  },
  {
   "cell_type": "markdown",
   "metadata": {
    "slideshow": {
     "slide_type": "slide"
    }
   },
   "source": [
    "### Pruebas repetidas\n",
    "\n",
    "Podemos pensar en experimentos compuestos por más de dos experimentos marginales. Un caso habitual es cuando se repite de forma **independiente** $N$ veces un mismo experimento\n",
    "\n",
    "$$\\epsilon \\times \\ldots \\times \\epsilon (\\Omega \\times\\ldots \\Omega, \\mathscr{F}\\times \\ldots \\times \\mathscr{F}, P)$$\n",
    "\n",
    "En este caso, podemos fácilmente asignar probabilidades:\n",
    "\n",
    "$$P(A_1 \\times \\ldots A_N) = P(A_1)\\ldots P(A_N)$$\n"
   ]
  }
 ],
 "metadata": {
  "celltoolbar": "Slideshow",
  "kernelspec": {
   "display_name": "Python 3",
   "language": "python",
   "name": "python3"
  },
  "language_info": {
   "codemirror_mode": {
    "name": "ipython",
    "version": 3
   },
   "file_extension": ".py",
   "mimetype": "text/x-python",
   "name": "python",
   "nbconvert_exporter": "python",
   "pygments_lexer": "ipython3",
   "version": "3.6.6"
  }
 },
 "nbformat": 4,
 "nbformat_minor": 2
}
