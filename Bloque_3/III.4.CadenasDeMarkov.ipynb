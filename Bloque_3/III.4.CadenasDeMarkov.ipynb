{
 "cells": [
  {
   "cell_type": "markdown",
   "metadata": {
    "slideshow": {
     "slide_type": "slide"
    }
   },
   "source": [
    "# Cadenas de Markov\n",
    "\n",
    "## Caracterización conjunta de procesos estocásticos y secuencias aleatorias\n",
    "\n",
    "Ya hemos visto los conceptos de secuencias aleatorias y de procesos estocásticos, así como su caracterizaciones marginales. A modo de recordatorio, sean $X(t)$ y $X[n]$ un proceso estocástico y una secuencia aleatoria que, respectivamente, se modelan mediante sendas variables aleatorias para cada instante de tiempo u muestra. La **caracterización marginal** es:\n",
    "\n",
    "$$F_X(x; t) = P\\{X(t)\\leq x\\} \\qquad F_X(x; n) = P\\{X[n]\\leq x\\}$$\n",
    "\n",
    "Para en que el proceso o secuencia tome valores continuos, las funciones de densidad marginales son:\n",
    "\n",
    "$$f_X(x; t) \\qquad f_X(x; n)$$\n",
    "\n",
    "En el caso en que tomen valores discretos, asociamos cada valor posible a un **estado** y nos hallamos en presencia de **cadenas**. Por tanto, <u>una cadena evoluciona entre estados discretos a lo largo de un índice continuo</u>. En este caso recurrimos a las funciones de masa de probabilidad:\n",
    "\n",
    "$$p_X(x_i; t) \\qquad p_X(x_i; n)$$"
   ]
  },
  {
   "cell_type": "markdown",
   "metadata": {
    "slideshow": {
     "slide_type": "subslide"
    }
   },
   "source": [
    "La **caracterización conjunta** puede definirse conforme a lo visto para variables aleatorias multidimensionales, si bien alteramos levemente la notación para simplificarla. La caracterización conjunta requiere poder conocerla en instantes o muestras arbitrarias:\n",
    "\n",
    "$$\n",
    "F_X(x_M ,\\ldots x_1 ; t_M , \\ldots t_1) = P(X(t_M)\\leq x_M , \\ldots X(t_1)\\leq x_1)\n",
    "$$\n",
    "\n",
    "Sin embargo, a diferencia de lo visto en el caso de variables aleatorios multidimensionales, ahora <u>la ordenación de las variables suele tener un sentido causal</u> (*flecha del tiempo*), cuestión particularmente relevante a la hora de obtener caracterizaciones condicionadas, donde, en términos prácticos, el futuro está condicionado por el presente y el pasado, pero no al revés. Por ejemplo:\n",
    "\n",
    "$$\n",
    "F_X(x_r | x_q , x_p; t_r | t_q , t_p) \\qquad t_p \\leq t_q \\leq t_r\n",
    "$$\n",
    "\n",
    "La funciones de densidad y de masa de probabilidad conjuntas se expresan:\n",
    "\n",
    "$$\n",
    "f_X(x_M ,\\ldots x_1 ; t_M , \\ldots t_1)\n",
    "$$\n",
    "\n",
    "$$\n",
    "p_X(x_{M_i} ,\\ldots x_{1_i} ; t_M , \\ldots t_1)\n",
    "$$"
   ]
  },
  {
   "cell_type": "markdown",
   "metadata": {
    "slideshow": {
     "slide_type": "slide"
    }
   },
   "source": [
    "### Propiedad de Markov\n",
    "\n",
    "Sabemos que en un proceso o secuencia independiente se caracteriza porque las variables aleatorias correspondientes a dos instantes o muestras diferentes no tienen dependencia probbailística entre sí. Ya hemos visto que tales procesos o secuencias suelen denominarse **blancos**.\n",
    "\n",
    "La generalización más sencilla que puede hacerse a partir de tales procesos o secuencias es que, en vez de ser independientes, cumplan la **propiedad de Markov**. La propiedad de Markov establece que la variable aleatoria correspondiente al instante o muestra actual depende probabilísticamente sólo de la inmediatamente anterior pero, dada ésta, no de las que sean más antiguas. De forma equivalente, si conocemos el presente el pasado no nos interesa para realizar predicciones sobre el futuro.\n",
    "\n",
    "$$\n",
    "F_X(x_r | x_q x_p; t_r | t_q , t_p) = F_X(x_r | x_q ; t_r | t_q) \\qquad t_p \\leq t_q \\leq t_r\n",
    "$$\n",
    "\n",
    "La propiedad de Markov puede aplicarse a las funciones de densidad y, en su caso, a las funciones de masa de probabilidad, como haremos en lo sucesivo."
   ]
  },
  {
   "cell_type": "markdown",
   "metadata": {
    "slideshow": {
     "slide_type": "subslide"
    }
   },
   "source": [
    "La propiedad de Markov puede también enunciarse diciendo que **dado el presente el pasado y el futuro son condicionalmente independientes**, si bien ello requiere una formulación que no es causal:\n",
    "\n",
    "$$\n",
    "f_X(x_r , x_p| x_q; t_r , t_p | t_q) = f_X(x_p | x_r , x_q ; t_p | t_r , t_q) f_X(x_r | x_q ; t_r | t_q) =\\\\\n",
    "= f_X(x_p | x_q ; t_p | t_q) f_X(x_r | x_q ; t_r | t_q) \\qquad t_p \\leq t_q \\leq t_r\n",
    "$$\n",
    "\n",
    "La propiedad de Markov nos permite **simplificar la regla** de la cadena para obtener la caracterización conjunta a partir de las condicionadas:\n",
    "\n",
    "$$\n",
    "f_X(x_m, \\ldots x_1; t_m \\ldots t_1) =\\\\ \n",
    "f_X(x_M | x_{M-1} ,\\ldots x_1 ; t_M ,\\ldots t_1) f_X(x_{M-1} | x_{M-2} ,\\ldots x_1 ; t_{M-1} ,\\ldots t_1) \\ldots f_X(x_2 | x_1 ; t_2 , t_1) f_X(x_1 ; t_1) =\\\\\n",
    "=f_X(x_M | x_{M-1} ; t_M , t_{M-1}) f_X(x_{M-1} | x_{M-2} ; t_{M-1},t_{M-2}) \\ldots f_X(x_2 | x_1 ; t_2 , t_1) f_X(x_1 ; t_1) \n",
    "$$\n",
    "\n",
    "Según se vio en la parte introductoria, el proceso o secuencia de Markov es **estacionario** si la caracterización conjunta es **invariable frente a desplazamientos temporales**:\n",
    "\n",
    "$$\n",
    "f_X(x_m, \\ldots x_1; t_m \\ldots t_1) = f_X(x_m, \\ldots x_1; t_m -\\tau ,\\ldots t_1 - \\tau)\n",
    "$$"
   ]
  },
  {
   "cell_type": "markdown",
   "metadata": {
    "slideshow": {
     "slide_type": "slide"
    }
   },
   "source": [
    "### Cadenas discretas de Markov\n",
    "\n",
    "En lo que sigue nos restringiremos al estudio de cadenas discretas de Markov, que por tanto **toman valores en un conjunto discreto de estados, obtenidas muestreando la variable temporal** con un periodo $T_0$, de modo que $X[n] = X(nT_0)$. Para simplificar la nomenclatura, vamos a suponer que los valores o **estados** que puede alcanzar la cadena son $e_1, \\ldots e_n \\ldots$ Además:\n",
    "\n",
    "* $p_i(n) \\equiv p_X(e_i ; n) = P(X[n]=e_i)$\n",
    "* Si el número de estados $E$ es finito pueden representarse las probabilidades de cada estado en cada instante $n$ mediante un vector fila: $\\boldsymbol{\\pi}(n) = [p_1(n) \\ldots p_E(n)]$ \n",
    "* La probabilidad de pasar del estado $e_i$ en el instante $m$ al estado $e_j$ en el instante $n$ se representa mediante la probabilidad de transición $p_{ij}(m,n) \\equiv p_X(e_j | e_i ; n | m) = P(X[n] = e_j | X[m] = e_i)$\n",
    "* La tabla con todas las probablidades de transición entre el instante $m$ y el $n$ puede expresarse mediante una matriz estocástica (sus filas suman uno) $\\Pi_{n | m} \\equiv P(m,n)$ cuyos elementos en la fila $i$ y columna $j$ son $p_{ij}(m,n)$\n",
    "* Conforme al Teorema de la Probabilidad Total: $\\pi(n) = \\pi(m) \\Pi_{n | m} \\equiv \\pi(m)\\mathbf{P}(m,n)$ (adviértase que se opera en esta fomulación con vectores fila de probabilidades)"
   ]
  },
  {
   "cell_type": "markdown",
   "metadata": {
    "slideshow": {
     "slide_type": "subslide"
    }
   },
   "source": [
    "$$\n",
    "\\boldsymbol{\\Pi}_{n | m} \\equiv \\mathbf{P}(m,n) = \n",
    "\\begin{bmatrix}\n",
    "  P(X[n] = e_1 | X[m] = e_1) & \\ldots & P(X[n] = e_E | X[m] = e_1)\\\\\n",
    "  \\vdots & \\ddots & \\vdots\\\\\n",
    "  P(X[n] = e_M | X[m] = e_1) & \\ldots & P(X[n] = e_M | X[m] = e_M) \n",
    "\\end{bmatrix} =\\\\\n",
    "\\begin{bmatrix}\n",
    "  p_{11}(m,n) & \\ldots & p_{1E}(m,n)\\\\\n",
    "  \\vdots & \\ddots & \\vdots\\\\\n",
    "  p_{E1}(m,n) & \\ldots & p_{EE}(m,n)\n",
    " \\end{bmatrix}\n",
    "$$\n",
    "\n",
    "Pueden combinarse dos o más transiciones, dando lugar a una versión matricial de las ecuaciones de Chapman-Kolmogorov. Considerando $p < q < r$:\n",
    "\n",
    "$$\n",
    "\\left. \\begin{array}{c}\n",
    "\\boldsymbol{\\pi}(q) = \\boldsymbol{\\pi}(p)\\mathbf{P}(p,q)\\\\\n",
    "\\boldsymbol{\\pi}(r) = \\boldsymbol{\\pi}(q)\\mathbf{P}(q,r)\n",
    "\\end{array} \\right\\} \n",
    "\\boldsymbol{\\pi}(r) =  \\boldsymbol{\\pi}(p)\\left(\\mathbf{P}(p,q)\\mathbf{P}(q,r)\\right) = \n",
    "\\boldsymbol{\\pi}(p)\\mathbf{P}(p,r)\n",
    "$$"
   ]
  },
  {
   "cell_type": "markdown",
   "metadata": {
    "slideshow": {
     "slide_type": "subslide"
    }
   },
   "source": [
    "Una cadena de Markov se denomina **homogénea** si la matriz de transición $\\mathbf{P}(m,n)$ entre dos instantes arbitrarios $m$, $n$, depende sólo de su separación $k = n-m$ y no de los instantes concretos. Es un concepto que no debe confundirse con la estacionariedad, que se aplica a la caracterización conjunta en vez de a las transiciones. Por tanto, si la cadena es homogénea:\n",
    "\n",
    "$$\\mathbf{P}(m, n)\\equiv \\mathbf{P}(n-m) = \\mathbf{P}(k)\\\\\n",
    "\\mathbf{P}(m, m+1)\\equiv \\mathbf{P}(1) \\equiv \\mathbf{P}$$\n",
    "\n",
    "Por tanto,\n",
    "\n",
    "$$\n",
    "\\mathbf{P}(k) = \\mathbf{P}^k\\\\\n",
    "\\boldsymbol{\\pi}(m+k) = \\boldsymbol{\\pi}(m) \\mathbf{P}^k\n",
    "$$\n",
    "\n",
    "Adviértse que, en general, la distribución de probabilidades de los estados varía en cada instante de tiempo, $\\boldsymbol{\\pi}(m+1) = \\boldsymbol{\\pi}(m) \\mathbf{P}$. Puede, no obstante, alcanzarse una distribución de estados $\\boldsymbol{\\pi_\\infty}$, que se mantenga estacionaria en el tiempo, si se cumple:\n",
    "\n",
    "$$\n",
    "\\boldsymbol{\\pi_\\infty} = \\boldsymbol{\\pi_\\infty} \\mathbf{P}\n",
    "$$"
   ]
  },
  {
   "cell_type": "markdown",
   "metadata": {
    "slideshow": {
     "slide_type": "subslide"
    }
   },
   "source": [
    "Es habitual representar gráficamente las cadenas homogéneas de Markov mediante **grafos dirigidos**, donde los vértices representan los estados y las aristas las transiciones, estando etiquetadas por las respectivas probabilidades. \n",
    "\n",
    "#### Ejemplo\n",
    "\n",
    "Supóngase un modelo meteorológico en el que los días pueden ser sólo soleados o lluviosos. El tiempo del día presente se modela como una cadena de Markov homogénea, considerando sólo el día anterior. Si este fue soleado, la probabilidad de que el día actual también lo sea es de 4/5. Sin embargo, si el día anterior fue lluvioso, la probabilidad de que el actual sea soleado es de ½.\n",
    "\n",
    "1. Modele los estados, probabilidades y matriz de transición de la cadena de Markov\n",
    "2. Si ayer fue soleado, ¿cuál es la probabilidad de que mañana también lo sea? ¿Y si fue lluvioso? Hoy todavía no he abierto la ventana y no sé qué día hace.\n",
    "3. Suponga que un día tiene una probabilidad de ser soleado de 2/3. ¿Cuál será la probabilidad de que al día siguiente también haga sol? ¿Y de que llueva?\n",
    "4. ¿Existe la distribución estacionaria para esta cadena de Markov? ¿Por qué?"
   ]
  },
  {
   "attachments": {
    "diagramaEstados.svg": {
     "image/svg+xml": [
      "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"
     ]
    }
   },
   "cell_type": "markdown",
   "metadata": {
    "slideshow": {
     "slide_type": "subslide"
    }
   },
   "source": [
    "![diagramaEstados.svg](attachment:diagramaEstados.svg)"
   ]
  },
  {
   "cell_type": "markdown",
   "metadata": {
    "slideshow": {
     "slide_type": "subslide"
    }
   },
   "source": [
    "Adviértase que:\n",
    "\n",
    "* La cadena es homogénea. Por tanto, la matriz de transición (de un solo salto) se mantiene constante a lo largo del tiempo\n",
    "\n",
    "$$\n",
    "\\mathbf{P} = \n",
    "\\begin{bmatrix}\n",
    "p(S\\ |\\ S) & p(Ll\\ |\\ S)\\\\\n",
    "p(S\\ |\\ Ll) & p(Ll\\ |\\ Ll)\n",
    "\\end{bmatrix} = \n",
    "\\begin{bmatrix}\n",
    "\\frac{4}{5} & \\frac{1}{5}\\\\\n",
    "\\frac{1}{2} & \\frac{1}{2}\n",
    "\\end{bmatrix}\n",
    "$$\n",
    "\n",
    "* La matriz para $k$ saltos sería, por tanto, $\\mathbf{P}(k)=\\mathbf{P}^k$\n",
    "* Las probabilidades de los estados en cada instante $n$ se recogen en el vector $\\boldsymbol{\\pi}(n)=[P(S; n), P(Ll;n)]$\n",
    "* La secuencia no tiene por qué ser estacionaria, esto es, las probabilidades de los estados van variando conforme sea la matriz de transición\n",
    "\n",
    "$$\n",
    "\\boldsymbol{\\pi}(n+1) = \\boldsymbol{\\pi}(n+1)\\mathbf{P}\n",
    "$$\n"
   ]
  },
  {
   "cell_type": "markdown",
   "metadata": {
    "slideshow": {
     "slide_type": "subslide"
    }
   },
   "source": [
    "\n",
    "La probabilidad de que un día $n$ sea soleado es $P(S; n) = \\frac{2}{3}$. Por tanto, la probabilidad de que sea lluvioso es  $P(Ll; n) = 1-P(S; n) = \\frac{1}{3}$, esto es:\n",
    "\n",
    "$$\n",
    "\\boldsymbol{\\pi}(n) = [\\frac{2}{3}, \\frac{1}{3}]\n",
    "$$\n",
    "\n",
    "Y, por tanto, las probabilidades de los estados al día siguiente es\n",
    "\n",
    "$$\n",
    "\\boldsymbol{\\pi}(n+1) = [\\frac{2}{3}, \\frac{1}{3}] \\begin{bmatrix}\n",
    "\\frac{4}{5} & \\frac{1}{5}\\\\\n",
    "\\frac{1}{2} & \\frac{1}{2}\n",
    "\\end{bmatrix} = \n",
    "[\\frac{21}{30}, \\frac{9}{30}]\n",
    "$$\n",
    "\n",
    "Y a los dos días:\n",
    "\n",
    "$$\n",
    "\\boldsymbol{\\pi}(n+2) = [\\frac{2}{3}, \\frac{1}{3}] \\begin{bmatrix}\n",
    "\\frac{4}{5} & \\frac{1}{5}\\\\\n",
    "\\frac{1}{2} & \\frac{1}{2}\n",
    "\\end{bmatrix}^2 = \n",
    "[\\frac{2}{3}, \\frac{1}{3}]\n",
    "\\begin{bmatrix}\n",
    "\\frac{37}{50} & \\frac{13}{50}\\\\\n",
    "\\frac{13}{20} & \\frac{7}{20}\n",
    "\\end{bmatrix} \n",
    "$$"
   ]
  },
  {
   "cell_type": "markdown",
   "metadata": {
    "slideshow": {
     "slide_type": "subslide"
    }
   },
   "source": [
    "En el apartado (2) del enunciado hay tres instantes de tiempo que considerar: Ayer, Hoy,  Mañana\n",
    "\n",
    "* La matrices de transición de ayer a hoy y de hoy a mañana son la misma: $\\mathbf{P}$\n",
    "* La matriz de transción de ayer a mañana es $\\mathbf{P}^2$\n",
    "\n",
    "Por tanto\n",
    "\n",
    "* La probabilidad de que mañana haga sol si ayer también hizo sol es $\\frac{37}{50}$\n",
    "* La probabilidad de que mañana haga sol si ayer llovió es $\\frac{13}{20}$\n",
    "\n",
    "En el apartado (3) simplemente nos preguntan las probabilidades totales de sol y de lluvia de un  día, dadas las probabilidades totales del día anterior:\n",
    "\n",
    "* La probabilidad total de que haga sol es $\\frac{21}{30}=\\frac{7}{10}$ \n",
    "* La probabilidad total de que haga sol es $\\frac{9}{30}=\\frac{3}{10}$ "
   ]
  },
  {
   "cell_type": "markdown",
   "metadata": {
    "slideshow": {
     "slide_type": "subslide"
    }
   },
   "source": [
    "La distribución estacionaria $\\boldsymbol{\\pi_\\infty}=[P(S;\\infty), P(Ll;\\infty)]$ debe cumplir:\n",
    "\n",
    "$$\n",
    "\\boldsymbol{\\pi_\\infty} = \\boldsymbol{\\pi_\\infty}\\mathbf{P}\n",
    "$$\n",
    "\n",
    "Sujeto a que $[P(S;\\infty), P(Ll;\\infty)] = 1$:\n",
    "\n",
    "Resolviendo la ecuación resulta que\n",
    "\n",
    "$$\n",
    "P(S;\\infty) = \\frac{5}{7}\\\\\n",
    "P(Ll;\\infty) = \\frac{2}{7}  \n",
    "$$\n",
    "\n",
    "Y, por tanto, existe la distribución estacionaria $\\boldsymbol{\\pi_\\infty}=[\\frac{5}{7}, \\frac{2}{7}]$"
   ]
  }
 ],
 "metadata": {
  "celltoolbar": "Slideshow",
  "kernelspec": {
   "display_name": "Python 3",
   "language": "python",
   "name": "python3"
  },
  "language_info": {
   "codemirror_mode": {
    "name": "ipython",
    "version": 3
   },
   "file_extension": ".py",
   "mimetype": "text/x-python",
   "name": "python",
   "nbconvert_exporter": "python",
   "pygments_lexer": "ipython3",
   "version": "3.7.2"
  }
 },
 "nbformat": 4,
 "nbformat_minor": 2
}
