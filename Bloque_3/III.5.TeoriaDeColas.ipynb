{
 "cells": [
  {
   "attachments": {
    "Mm1_queue.svg": {
     "image/svg+xml": [
      "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"
     ]
    }
   },
   "cell_type": "markdown",
   "metadata": {
    "slideshow": {
     "slide_type": "slide"
    }
   },
   "source": [
    "# Teoría de Colas\n",
    "\n",
    "Una **cola o línea de espera** está formada por peticiones de servicios presentadas por clientes a una estación o servidor. Si el servicio solicitado no está inmediatamente disponible, la petición de servicio entra en cola, abandonando el sistema una vez atendido o antes por diversas razones (no espera, cola de tamaño finito, etc). Mientras una petición está esperando, pueden llegar otras. Un sistema de colas se caracteriza por:\n",
    "\n",
    "* Proceso de entrada\n",
    "* Mecanismo de servicio\n",
    "* Disciplina de la cola\n",
    "* Capacidad del servicio\n",
    "\n",
    "![Mm1_queue.svg](attachment:Mm1_queue.svg)"
   ]
  },
  {
   "cell_type": "markdown",
   "metadata": {
    "slideshow": {
     "slide_type": "slide"
    }
   },
   "source": [
    "### Proceso de entrada\n",
    "\n",
    "Se refiere a la caracterización probabilística del proceso estocástico que modela la llegada de las peticiones de servicio a lo largo del tiempo. Se caracteriza con:\n",
    "\n",
    "* Secuencia de **instantes de llegada**: $t_1, t_2 \\ldots t_n \\quad t_1 < t_2 < \\ldots < t_n$\n",
    "* Secuencia de **tiempos entre llegadas**: $\\tau_1 = \\tau_2 - \\tau_1 , \\tau_2 = \\tau_3 - \\tau_2 , \\ldots \\tau_{n} = t_{n+1}-t_n$\n",
    "\n",
    "Es habitual que los instantes de llegada se modelen con un **Proceso Puntual de Poisson**, de modo que el **número de llegadas** $N(t)$ hasta el instante $t$, considerando $N(0)=0$, es un proceso estocástico que en cada instante $t$ tiene una función de masa de probabilidad de Poisson (recordar lo visto en el Bloque II), con tasa de llegada $\\lambda$ peticiones por segundo: \n",
    "\n",
    "$$P(N(t) = n) \\equiv p_N(n; t) = e^{-(\\lambda t)}\\frac{(\\lambda t)^n}{n!}$$\n",
    "\n",
    "El valor medio y la varianza del proceso en cada instante $t$ son:\n",
    "\n",
    "$$E(N(t)) = Var(N(t))= \\lambda t$$"
   ]
  },
  {
   "cell_type": "markdown",
   "metadata": {
    "slideshow": {
     "slide_type": "subslide"
    }
   },
   "source": [
    "Por definición del proceso puntual de Poisson, en el que las llegadas son independientes, **la secuencia de tiempos entre llegadas también es independiente**, por lo que la caracterización de un tiempo marginal de llegadas permite obtener la conjunta multiplicando las marginales, todas idénticas. Por otro lado, como se vio en el Bloque II, cuando los instantes de llegadas se modelan con un Proceso Puntual de Poisson con tasa $\\lambda$, el tiempo transcurrido entre dos llegadas sucesivas tiene una función de densidad exponencial con idéntica tasa: \n",
    "\n",
    "$$\n",
    "f_\\tau(\\tau) = \\lambda e^{-\\lambda \\tau}u(\\tau)\n",
    "$$ \n",
    "\n",
    "Su media es $E(\\tau)=\\frac{1}{\\lambda}$ y varianza $Var(\\tau) = \\frac{1}{\\lambda^2}$. Recordemos que la distribución exponencial **no tiene memoria**, esto es, $f_\\tau(\\tau + \\tau_0 | \\tau > \\tau_0) = f_\\tau(\\tau)$. Dicho de otra manera, si tras $\\tau_0$ segundos nos tenemos una llegada, la función de densidad de probabilidad se mantiene invariante.\n",
    "\n",
    "\n",
    "Es fácil entender que, en estas condiciones, el número de llegadas acumuladas hasta un instante $t$ es una **cadena de Markov**, pues sólo depende de las acumuladas hasta el instante de la llegada anterior y no de toda la historia pasada.\n",
    "\n",
    "La caracterización probabilística del proceso de entrada puede **generalizarse**, por ejemplo, manteniendo la suposición de que los tiempos entre llegadas son independientes, pero que siguen una distribución distinta de la exponencial. En tal caso se pierde la propiedad *sin memoria* y el número de llegadas acumuladas <u>ya no puede modelarse con una cadena de Markov</u>. "
   ]
  },
  {
   "cell_type": "markdown",
   "metadata": {
    "slideshow": {
     "slide_type": "slide"
    }
   },
   "source": [
    "### Mecanismo de Servicio\n",
    "\n",
    "Se refiere a la caracterización probabilística del proceso estocástico que modela el tiempo que el servidor tarda en atender cada petición peticiones. Se caracteriza con la **secuencia de tiempos de servcio**: $s_1 , s_2 , \\ldots s_n$. Es lógico pensar que **la secuencia de tiempos de servicio es independiente**. Los modelos más sencillos y habituales son:\n",
    "\n",
    "* Duración del tiempo de serticio constante: $s_n T_s$\n",
    "* Exponencial con parámetro $\\mu$. Como sabemos, esta distribución no tiene memoria y, en este caso, el número de peticiones atendidas hasta el instante $t$ se modela como una cadena de Markov.\n",
    "* istribución Erlang, que generaliza la exponencial\n",
    "\n",
    "#### Notación de los procesos de entrada y de servicio\n",
    "\n",
    "* M: Poisson o exponencial )Markov o sin memoria)\n",
    "* D: Determinista\n",
    "* En: Erlang\n",
    "* G: distribución arbitraria\n",
    "* GI: distribución arbitraria, pero con secuencia de tiempos de espera o servicio independiente"
   ]
  },
  {
   "cell_type": "markdown",
   "metadata": {
    "slideshow": {
     "slide_type": "slide"
    }
   },
   "source": [
    "### Disciplina de la cola\n",
    "\n",
    "Especifica la regla que gestiona la cola, la permanencia o salida de la misma y la preferencia para atender las peticiones. \n",
    "\n",
    "* Permanencia en cola: **wait** (espera hasta ser servido), **balking** (negarse a hacer cola), **renage** (hacer cola solo un tiempo e irse si no es atendido), **jockey** (saltar entre colas) \n",
    "* Orden en atención: La más habitual es **FIFO** (First In First Out), siendo otras **LIFO** (Last In First Out), **Processor Sharing** (compartición del sevidor por igual), **Priority**, **Shortest Job First**, etc\n",
    "\n",
    "### Capacidad del servicio\n",
    "\n",
    "* Número de canales (servidores) que proporcionan servicio con idénticas o diferentes tasas\n",
    "* Capacidad de la cola, que puede ser infinita o finita, en este caso con una longitud máxima que si se supera provoca la pérdida de las nuevas llegadas de peticiones\n",
    "\n",
    "La **intensidad de tráfico**, $\\rho$, es el ratio entre la tasa media de llegadas de peticiones, $\\lambda$ y de peticiones servidas $\\mu$: $\\rho = \\frac{\\lambda}{\\mu}$"
   ]
  },
  {
   "cell_type": "markdown",
   "metadata": {
    "slideshow": {
     "slide_type": "slide"
    }
   },
   "source": [
    "### Caracterización de la cola\n",
    "\n",
    "Dadoslos paráteros anteriores, definitorios del sistema de colas, la caracterización procura obtener:\n",
    "\n",
    "* **Número de peticiones en el sistema**, considerando tanto en espera en la cola como siendo atendidas por los servidores\n",
    "* **Tiempos de espera de las peticiones**, tanto en la cola, como en el servidor, como total\n",
    "\n",
    "La caracterización de sistemas de colas Markovianos hace uso de los denominados **procesos de nacimiento y muerte**. La llegada (sin salida del sistema) es un proceso puro de nacimiento, mientras que la salida (sin nuevas entradas) lo es de muerte. Cada uno tiene sus propias tasas que, además, en general pueden variar a lo largo del tiempo. Ambos procesos pueden equilibrarse, dando lugar a un funcionamiento estacionario del sistema, que es el que tien mayor interés práctico. \n",
    "\n",
    "El **Teorema de Little** permite relacionar los parámetros principales en el <u>estado estacionario</u>. Sean $\\lambda$ la tasa media de llegada de peticiones, $L = E(N(t))$ el número medio de peticiones en el sistema (tanto en cola como en los servidores) y $W=W_q + W_s$ el tiempo medio de las peticiones en el sistema, sumando en cola (q) y en el servidor (s). Se cumple: $L = \\lambda W$  "
   ]
  },
  {
   "cell_type": "markdown",
   "metadata": {
    "slideshow": {
     "slide_type": "subslide"
    }
   },
   "source": [
    "#### Notación de Kendall\n",
    "\n",
    "Un sistema de colas se especifica mediante tres parámetros, $\\alpha / \\beta / N_1$ al que puede añadirse un cuarto $N_2$:\n",
    "\n",
    "* $\\alpha$: Modelo probabilístico de las llegadas, conforme a la notación vista antes\n",
    "* $\\beta$: Modelos probabilístico de los tiempos de servicio, conforme a la misma notación\n",
    "* $N_1$: Número de canales o servidores\n",
    "* $N_2$: Si la cola no tiene capacidad infinita, capacidad máxima de la misma\n",
    "\n",
    "Por ejemplo un sistema $M/M/1$ se refiere al caso más sencillo, de llegdas y servicios markovianos con un único servidor. Sin embargo, $M/M/s$ denotaría $s$ servidores mientras que, por ejemplo, $M/M/1/q$ se refiere al sistema $M/M/1$ anterior, pero limitando la cola a $q$ peticiones. Pueden plantearse otros modelos, por ejemplo, $GI/En/r/q$ es un sistema con una distribución genérica en los tiempos entre llegadas (aunque independientes), con una distribución Erlang en los tiempos de serivicio, con $r$ servidores y una cola con espacio para $q$ peticiones en espera."
   ]
  }
 ],
 "metadata": {
  "celltoolbar": "Slideshow",
  "kernelspec": {
   "display_name": "Python 3",
   "language": "python",
   "name": "python3"
  },
  "language_info": {
   "codemirror_mode": {
    "name": "ipython",
    "version": 3
   },
   "file_extension": ".py",
   "mimetype": "text/x-python",
   "name": "python",
   "nbconvert_exporter": "python",
   "pygments_lexer": "ipython3",
   "version": "3.7.2"
  }
 },
 "nbformat": 4,
 "nbformat_minor": 2
}
