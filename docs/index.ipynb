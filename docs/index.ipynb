{
 "cells": [
  {
   "cell_type": "markdown",
   "metadata": {
    "slideshow": {
     "slide_type": "slide"
    }
   },
   "source": [
    "# Estadística y Procesos Estocásticos (EPE)"
   ]
  },
  {
   "cell_type": "markdown",
   "metadata": {
    "slideshow": {
     "slide_type": "fragment"
    }
   },
   "source": [
    "Estadística y Procesos Estocásticos (EPE) es una asignatura de formación matemática básica, que se estudia en el **segundo semestre del primer curso** del *Grado de Ingeniera en Tecnologías de la Telecomunicación*, en la Escuela de Ingeniería de Telecomunicación y Electrónica (EITE) de la Universidad de Las Palmas de Gran Canaria (ULPGC). Esta asignatura también se cursa en el **primer semestre del segundo curso** del Doble Grado en Dirección y Administración de Empresas y de Ingeniería en Tecnologías de la Telecomunicación, en la misma Escuela. El presente sitio web almacena un repositorio con los contenidos informáticos necesarios para seguir la asignatura."
   ]
  },
  {
   "cell_type": "markdown",
   "metadata": {
    "slideshow": {
     "slide_type": "fragment"
    }
   },
   "source": [
    "En esta asignatura se explora el concepto de *variabilidad aleatoria* y la forma en que puede modelarse en los distintos contextos que surgen en el ámbito de las telecomunicaciones. "
   ]
  },
  {
   "cell_type": "markdown",
   "metadata": {
    "slideshow": {
     "slide_type": "slide"
    }
   },
   "source": [
    "## Contenidos\n",
    "\n",
    "* Espacios de Probabilidad. \n",
    "* Variables aleatorias. Simulación de variables aleatorias. \n",
    "* Vectores aleatorios. Simulación de vectores aleatorios. \n",
    "* Introducción a los procesos estocásticos. \n",
    "* Recorridos aleatorios. \n",
    "* Simulación de procesos. \n",
    "* Procesos de Markov. \n",
    "* Cadenas homogéneas de Markov. \n",
    "* Simulación de cadenas de Markov. \n",
    "* Sistemas de colas. \n",
    "* Procesos de nacimiento y muerte. \n",
    "* Simulaciones de sistemas M/M/m. \n",
    "* Procesos estacionarios. Simulación de procesos estacionarios. Análisis espectral. Problemas de filtrado. \n",
    "* Estimación de procesos estacionarios. Ideas sobre la consistencia de la estimación."
   ]
  },
  {
   "cell_type": "markdown",
   "metadata": {
    "slideshow": {
     "slide_type": "subslide"
    }
   },
   "source": [
    "Los contenidos se exponen en clases teóricas y se demuestran en clases prácticas en el aula, y con proyectos de laboratorio. Los estudiantes deben contribuir activamente tanto en las clases prácticas en el aula como en las sesiones de laboratorio. Se hace un uso intensivo de software informático basado en Python, mediante el entorno Anaconda / Jupyter notebooks, que facilita un acceso cómodo e intuitivo al conjunto de paquetes de computación científica SciPy, cuyo conocimiento resultará de suma utilidad al alumnado, no solo en esta asignatura sino también en el futuro por su prestigio en la ciencia de datos actual en todo el mundo. Los estudiantes han de completar tanto mediante su trabajo no presencial como en las clases de laboratorio pequeños proyectos demostrativos sobre tal entorno.\n",
    "\n",
    "<br/>\n",
    "<footer>\n",
    "    <a href=https://github.com/jruizalz/EPE-ULPGC target=\"_blank\">Acceder a los notebooks de la asignatura en GitHub</a><br/>\n",
    "    <a href=\"#/\">Volver al principio</a>\n",
    "</footer>"
   ]
  },
  {
   "cell_type": "markdown",
   "metadata": {
    "slideshow": {
     "slide_type": "slide"
    }
   },
   "source": [
    "## Temario\n",
    "\n",
    "Los contenidos de la asignatura se estructuran en dos bloques. El primer bloque, de diez semanas de duración, finaliza en la semana 10 con un examen liberatorio de dos horas. El segundo bloque, de seis horas de duración, finaliza en la semana 16 con dos horas de tutorías conforme al siguiente temario y programa. Las claves que se utilizan en la planificación que sigue son las siguientes:\n",
    "\n",
    "* CLT: horas Clase Teoría, \n",
    "* CPA: horas Clase Problemas Aula, \n",
    "* LAB: horas Laboratorio, \n",
    "* Tut: horas de clase tutorizada, \n",
    "* Eva: horas Evaluación Continua\n",
    "\n",
    "**Trabajo total presencial: 60 horas = 34 CLT + 14 CPA + 8 LAB + 2 Tut + 2 Eva**"
   ]
  },
  {
   "cell_type": "markdown",
   "metadata": {
    "slideshow": {
     "slide_type": "slide"
    }
   },
   "source": [
    "**Bloque temático I: Espacio de Probabilidad y Variable Aleatoria** ( 22 horas CLT -semanas 1 a 9-)\n",
    "\n",
    "1.<a href=1.AnalisisExploratorioDatos.slides.html target=\"_blank\">Estadística. Introducción al Análisis Exploratorio de Datos</a>. (4 horas CLT -semana 1-)<br/>\n",
    "\n",
    "2.Teoría de la Probabilidad (6 horas CLT -semanas 2, 3-)<br/> \n",
    "2.1 <a href=2.Probabilidad_Sucesos_new.slides.html target=\"_blank\">Probabilidad y Álgebra de Sucesos.</a><br/> \n",
    "2.2  <a href=3.ProbabilidadCondicionada_Independencia_Verosimilitud.slides.html target=\"_blank\">Probabilidad condicionada. Independencia de sucesos. Verosimilitud</a> <br/> \n",
    "2.3 <a href=4.ProbabilidadTotal_Bayes.slides.html target=\"_blank\">Teorema de la Probabilidad Total. Teorema de Bayes y probabilidad a posteriori</a><br/> \n",
    "2.4 <a href=5.Decisores_ML_MAP.slides.html target=\"_blank\">Decisores de máxima verosimilitud (ML). Decisores máximo a posteriori (MAP)</a><br/> \n",
    "2.5 <a href=6.Experimentos_Compuestos_Bernoulli.slides.html target=\"_blank\">Experimentos compuestos. Pruebas de Bernoulli</a>"
   ]
  },
  {
   "cell_type": "markdown",
   "metadata": {
    "slideshow": {
     "slide_type": "subslide"
    }
   },
   "source": [
    "3.Variable Aleatoria (6 horas CLT -semanas 4, 5, 6-)<br/> \n",
    "3.1 <a href=II.0.IntroVariableAleatoria.slides.html target=\"_blank\">Introducción al concepto de variable aleatoria</a><br/> \n",
    "3.2 <a href=II.1.VariableAleatoriaDiscreta.slides.html target=\"_blank\">Variable aleatoria discreta. Funciones de masa de probabilidad. Caracterización. Momentos. Transformaciones</a><br/> \n",
    "3.3 <a href=II.2.DistribucionesDiscretasHabituales.slides.html target=\"_blank\">Distribuciones de masa de probabilidad habituales</a><br/> \n",
    "3.4 <a href=II.3.VariableAleatoriaContinua.slides.html target=\"_blank\">Variable aleatoria continua. Funciones de densidad y distribución de probabilidad. Caracterización. Momentos</a><br/> \n",
    "3.5 <a href=II.4.DistribucionesContinuasHabituales.slides.html target=\"_blank\">Variable aleatoria Gaussiana. Otras variables aleatorias continuas habituales. revisada</a><br/>\n",
    "\n",
    "4.Varias Variables Aleatorias (6 horas CLT -semanas 7, 8, 9-)\n",
    "4.1 <a href=III.1.VariableAleatoriaConjunta.slides.html target=\"_blank\">Variable aleatoria conjunta. Dos variables aleatorias. Caracterización conjunta de vectores aleatorios bidimensionales</a><br/> \n",
    "4.2 <a href=III.2.GaussianaBidimensional.slides.html target=\"_blank\">Distribución Gaussiana bidimensional</a><br/> \n",
    "4.3 <a href=III.3.VariableAleatoriaMultidimensional.slides.html target=\"_blank\">Variable aleatoria multidimensional. Caracterización conjunta de vectores aleatorios n-dimensionales</a><br/> \n",
    "\n",
    "Semana 10: evaluación parcial liberatoria (2 horas)"
   ]
  },
  {
   "cell_type": "markdown",
   "metadata": {
    "slideshow": {
     "slide_type": "slide"
    }
   },
   "source": [
    "**Bloque temático II: Secuencias y procesos aleatorios** (12 horas CLT -semanas 11 a 16-)\n",
    "\n",
    "5.Secuencias y procesos estocásticos. Caracterización de segundo orden. Secuencias y procesos Gaussianos. (4 horas CLT -semanas 11, 12-): Ver contenidos introducidos al principio de variable aleatoria conjunta\n",
    "  \n",
    "6.<a href=III.4.CadenasDeMarkov.slides.html target=\"_blank\">Cadenas de Markov. Procesos puntuales. El proceso homogéneo de Poisson</a> (2 horas CLT -semana 13-)<br/> \n",
    "\n",
    "7.<a href= III.5.TeoriaDeColas.slides.html target=\"_blank\">Procesos de nacimiento y muerte. Sistemas de colas: Sistemas M/M/1 y M/M/m.</a> (2 horas CLT -semana 14-)<br/> \n",
    "\n",
    "8.Introducción al tratamiento estadístico de señales (4 horas CLT, 2 horas HTU -semanas 15, 16-)<br/> \n",
    "8.1 Estacionariedad. Ergodicidad. Estimación de parámetros: Ver contenidos introducidos al principio de variable aleatoria conjunta\n",
    "8.2 Señal en ruido. Filtrado temporal. Regresión y estimación. Clasificación y detección.<br/> \n",
    "8.3 Introducción a la caracterización espectral de secuencias y procesos estocásticos. Filtros frecuenciales.<br/> "
   ]
  },
  {
   "cell_type": "markdown",
   "metadata": {
    "slideshow": {
     "slide_type": "slide"
    }
   },
   "source": [
    "## Evaluación\n",
    "\n",
    "### Evaluación continua\n",
    "\n",
    "* Pruebas escritas al final de cada bloque temático (50%): Todas las respuestas tienen que estar motivadas. **No se admitirán respuestas que no estén debidamente razonadas**. Cada Prueba:\n",
    "  * Preguntas teóricas cortas: 4 puntos\n",
    "  * Dos casos y/o problemas de respuesta larga: 6 puntos\n",
    "  * Debe obtenerse al menos 4 en cada prueba para liberarla y promediar.\n",
    "    * Bloque I (30%)\n",
    "    * Bloque II (20%)\n",
    "* Ejercicios de autoevaluación, asistencia y participación en clase (10%). **La asistencia a clase es obligatoria**.\n",
    "* Entrega de dos trabajos en grupo y/o examen práctico de laboratorio, uno por cada bloque temático (15% cada uno).\n",
    "  * Debe obtenerse al menos un 4 en cada trabajo para liberarlo y promediar.\n",
    "* Elaboración de las prácticas de laboratorio con los mismos grupos de trabajo y/o examen práctico de laboratorio (10%). **La asistencia al laboratorio es obligatoria**\n",
    "  * Debe obtenerse al menos un 4 para liberar el laboratorio y promediar\n",
    "* Las partes no liberadas deben repetirse para la evaluación final."
   ]
  },
  {
   "cell_type": "markdown",
   "metadata": {
    "slideshow": {
     "slide_type": "subslide"
    }
   },
   "source": [
    "### Convocatoria ordinaria y extraordinaria\n",
    "\n",
    "* Se guardan las partes liberadas de la evaluación continua (siempre que se haya llegado a 4) para promediar\n",
    "* Los estudiantes habrán de hacer el examen escrito, solo de las partes no liberadas. En conjunto, habrán de llegar al menos a un 4 para poder promediar. \n",
    "* En la convocatoria ordinaria: \n",
    "  * los grupos deben rehacer y presentar los trabajos no liberados y/o examen práctico de laboratorio, según les indique el profesor\n",
    "  * igualmente, deben hacer con el laboratorio\n",
    "* En la convocatoria extraordinaria\n",
    "  * Los trabajos y el laboratorio no liberados deberán rehacerse **de forma individual**  y/o ralizar un examen examen práctico de laboratorio, según les indique el profesor"
   ]
  },
  {
   "cell_type": "markdown",
   "metadata": {
    "slideshow": {
     "slide_type": "subslide"
    }
   },
   "source": [
    "### Convocatoria especial\n",
    "\n",
    "* Se hará un único examen escrito, con un formato semejante al de las convocatorias ordinaria y extraordinaria.\n",
    "* Podrán preguntarse elementos propios de las prácticas en el aula y en el laboratorio, dentro de los bloques temáticos correspondientes.\n",
    "* No se tendrán en consideración partes que pudieran haberse superado con anterioridad, debiendo examinarse de la asignatura completa"
   ]
  }
 ],
 "metadata": {
  "celltoolbar": "Slideshow",
  "kernelspec": {
   "display_name": "Python 3",
   "language": "python",
   "name": "python3"
  },
  "language_info": {
   "codemirror_mode": {
    "name": "ipython",
    "version": 3
   },
   "file_extension": ".py",
   "mimetype": "text/x-python",
   "name": "python",
   "nbconvert_exporter": "python",
   "pygments_lexer": "ipython3",
   "version": "3.7.3"
  }
 },
 "nbformat": 4,
 "nbformat_minor": 2
}
