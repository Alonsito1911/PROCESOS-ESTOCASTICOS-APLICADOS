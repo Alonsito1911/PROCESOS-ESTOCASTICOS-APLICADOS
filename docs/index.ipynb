{
 "cells": [
  {
   "cell_type": "markdown",
   "metadata": {
    "slideshow": {
     "slide_type": "slide"
    }
   },
   "source": [
    "# Estadística y Procesos Estocásticos (EPE)"
   ]
  },
  {
   "cell_type": "markdown",
   "metadata": {
    "slideshow": {
     "slide_type": "fragment"
    }
   },
   "source": [
    "Estadística y Procesos Estocásticos (EPE) es una asignatura de formación matemática básica, que se estudia en el **segundo semestre del primer curso** del *Grado de Ingeniera en Tecnologías de la Telecomunicación*, en la Escuela de Ingeniería de Telecomunicación y Electrónica (EITE) de la Universidad de Las Palmas de Gran Canaria (ULPGC). Esta asignatura también se cursa en el **primer semestre del segundo curso** del Doble Grado en Dirección y Administración de Empresas y de Ingeniería en Tecnologías de la Telecomunicación, en la misma Escuela. El presente sitio web almacena un repositorio con los contenidos informáticos necesarios para seguir la asignatura."
   ]
  },
  {
   "cell_type": "markdown",
   "metadata": {
    "slideshow": {
     "slide_type": "fragment"
    }
   },
   "source": [
    "En esta asignatura se explora el concepto de *variabilidad aleatoria* y la forma en que puede modelarse en los distintos contextos que surgen en el ámbito de las telecomunicaciones. "
   ]
  },
  {
   "cell_type": "markdown",
   "metadata": {
    "slideshow": {
     "slide_type": "slide"
    }
   },
   "source": [
    "## Contenidos\n",
    "\n",
    "* Espacios de Probabilidad. \n",
    "* Variables aleatorias. Simulación de variables aleatorias. \n",
    "* Vectores aleatorios. Simulación de vectores aleatorios. \n",
    "* Introducción a los procesos estocásticos. \n",
    "* Recorridos aleatorios. \n",
    "* Simulación de procesos. \n",
    "* Procesos de Markov. \n",
    "* Cadenas homogéneas de Markov. \n",
    "* Simulación de cadenas de Markov. \n",
    "* Sistemas de colas. \n",
    "* Procesos de nacimiento y muerte. \n",
    "* Simulaciones de sistemas M/M/m. \n",
    "* Procesos estacionarios. Simulación de procesos estacionarios. Análisis espectral. Problemas de filtrado. \n",
    "* Estimación de procesos estacionarios. Ideas sobre la consistencia de la estimación."
   ]
  },
  {
   "cell_type": "markdown",
   "metadata": {
    "slideshow": {
     "slide_type": "subslide"
    }
   },
   "source": [
    "Los contenidos se exponen en clases teóricas y se demuestran en clases prácticas en el aula, y con proyectos de laboratorio. Los estudiantes deben contribuir activamente tanto en las clases prácticas en el aula como en las sesiones de laboratorio. Se hace un uso intensivo de software informático basado en Python, mediante el entorno Anaconda / Jupyter notebooks, que facilita un acceso cómodo e intuitivo al conjunto de paquetes de computación científica SciPy, cuyo conocimiento resultará de suma utilidad al alumnado, no solo en esta asignatura sino también en el futuro por su prestigio en la ciencia de datos actual en todo el mundo. Los estudiantes han de completar tanto mediante su trabajo no presencial como en las clases de laboratorio pequeños proyectos demostrativos sobre tal entorno.\n",
    "\n",
    "<br/>\n",
    "<footer>\n",
    "    <a href=https://github.com/jruizalz/EPE-ULPGC target=\"_blank\">Acceder a los notebooks de la asignatura en GitHub</a><br/>\n",
    "    <a href=\"#/\">Volver al principio</a>\n",
    "</footer>"
   ]
  },
  {
   "cell_type": "markdown",
   "metadata": {
    "slideshow": {
     "slide_type": "slide"
    }
   },
   "source": [
    "## Temario\n",
    "\n",
    "Los contenidos de la asignatura se estructuran en tres bloques de cinco semanas de duración, conforme al siguiente temario y programa. Las claves que se utilizan son las siguientes:\n",
    "\n",
    "* CLT: horas Clase Teoría, \n",
    "* CPA: horas Clase Problemas Aula, \n",
    "* LAB: horas Laboratorio, \n",
    "* Tut: horas de clase tutorizada, \n",
    "* Eva: horas Evaluación Continua\n",
    "\n",
    "**Trabajo total presencial: 60 horas = 30 CLT + 14 CPA + 8 LAB + 2 Tut + 6 Eva**"
   ]
  },
  {
   "cell_type": "markdown",
   "metadata": {
    "slideshow": {
     "slide_type": "slide"
    }
   },
   "source": [
    "**Bloque temático I: Espacio de Probabilidad** (semanas 1 a cinco)\n",
    "\n",
    "1. <a href=1.AnalisisExploratorioDatos.slides.html target=\"_blank\">Estadística. Introducción al Análisis Exploratorio de Datos</a>. (4 CLT, 1 CPA, 1 LAB)<br/>\n",
    "2. <a href=2.Probabilidad_Sucesos.slides.html target=\"_blank\">Probabilidad y Álgebra de Sucesos</a>.(2 CLT, 1 CPA)<br/>\n",
    "3. <a href=3.Probabilidad_Condicionada.slides.html target=\"_blank\">Probabilidad condicionada. Independencia de sucesos. Verosimilitud</a>. (1 CLT, 0.5 CPA, 0.25 LAB) \n",
    "4. <a href=4.Probabilidad_Total_Bayes_MAP.slides.html target=\"_blank\">Teorema de la Probabilidad Total. Teorema de Bayes y probabilidad a posteriori</a>. (1 CLT, 0.5 CPA, 0.25 LAB)\n",
    "5. Decisores de máxima verosimilitud (ML). Decisores máximo a posteriori (ML) (1 CLT, 0.5 CPA, 0.25 LAB)\n",
    "6. <a href=6.Experimentos_Compuestos_Bernoulli.slides.html target=\"_blank\">Experimentos compuestos. Pruebas de Bernoulli</a>. (1 CLT, 0.5 CPA, 0.25 LAB)"
   ]
  },
  {
   "cell_type": "markdown",
   "metadata": {
    "slideshow": {
     "slide_type": "fragment"
    }
   },
   "source": [
    "* La segunda semana habrá una clase tutorizada de introducción a Python.\n",
    "* La quinta semana finaliza con una evaluación de dos horas, dentro de la evaluacion continua\n",
    "* Totales trabajo presencial: 20 horas = 10 CLT + 4 CPA + 2 LAB + 2 Tut + 2 Eva"
   ]
  },
  {
   "cell_type": "markdown",
   "metadata": {
    "slideshow": {
     "slide_type": "subslide"
    }
   },
   "source": [
    "| **Semanas**   | **CLT** | **CPA** | **LAB** | **Tut** | **Eva** | **TOT** |\n",
    "|-----------|-----|-----|-----|-----|-----|-----|\n",
    "| Semana 1  |  4  |  0  |  0  |  0  |  0  |  **4**  |\n",
    "| Semana 2  |  2  |  0  |  0  |  2  |  0  |  **4**  |\n",
    "| Semana 3  |  2  |  2  |  0  |  0  |  0  |  **4**  |\n",
    "| Semana 4  |  2  |  1  |  1  |  0  |  0  |  **4**  |\n",
    "| Semana 5  |  0  |  1  |  1  |  0  |  2  |  **4**  |\n",
    "|  **TOT hrs**  | **10**  |  **4**  |  **2**  |  **2**  |  **2**  | **20**  |"
   ]
  },
  {
   "cell_type": "markdown",
   "metadata": {
    "slideshow": {
     "slide_type": "fragment"
    }
   },
   "source": [
    "<footer>\n",
    "    <a href=https://github.com/jruizalz/EPE-ULPGC/tree/master/Bloque_1 target=\"_blank\">Acceder a los notebooks del Bloque I en GitHub</a><br/>\n",
    "    <a href=\"#/\">Volver al principio</a>\n",
    "</footer>"
   ]
  },
  {
   "cell_type": "markdown",
   "metadata": {
    "slideshow": {
     "slide_type": "slide"
    }
   },
   "source": [
    "**Bloque temático II: Variable aleatoria** (semanas 6 a diez)\n",
    "\n",
    "0. <a href=0.IntroVariableAleatoria.slides.html target=\"_blank\">Introducción al Concepto de Variable Aleatoria</a>. \n",
    "1. <a href=1.VariableAleatoriaDiscreta.slides.html target=\"_blank\">Variable aleatoria discreta. Funciones de masa de probabilidad. Caracterización</a> (1 CLT)\n",
    "2. <a href=2.DistribucionesDiscretasHabituales.slides.html target=\"_blank\">Distribuciones de probabilidad habituales</a>.  (1 CLT, 1 LAB)\n",
    "3. <a href=3.VariableAleatoriaContinua.slides.html target=\"_blank\">Variable aleatoria continua. Funciones de densidad y distribución de probabilidad. Caracterización</a>.  (1.5 CLT, 1 CPA)\n",
    "4. Variable aleatoria Gaussiana. Otras variables aleatorias continuas habituales. (1.5 CLT, 1 CPA, 1 LAB)\n",
    "5. Transformación de variables aleatorias (1 CLT, 1 CPA)\n",
    "6. Variable aleatoria bidimensional. Caracterización conjunta de vectores aleatorios bidimensionales (1.5 CLT, 1 CPA)\n",
    "7. Distribución Gaussiana bidimensional. Mezcla de Gaussianas. Clasificación y Estimación (1.5 CLT, 1 CPA, 1 LAB)\n",
    "8. Variable aleatoria multidimensional. Caracterización conjunta de vectores aleatorios n-dimensionales (0.5 CLT)\n",
    "9. Distribución Gaussiana multidimensional. Mezcla de Gaussianas. Clasificación y Estimación (0.5 CLT)"
   ]
  },
  {
   "cell_type": "markdown",
   "metadata": {
    "slideshow": {
     "slide_type": "fragment"
    }
   },
   "source": [
    "* La décima semana finaliza con una evaluación de dos horas, dentro de la evaluacion continua\n",
    "* Totales trabajo presencial: 20 horas = 10 CLT + 5 CPA + 3 LAB + 2 Eva"
   ]
  },
  {
   "cell_type": "markdown",
   "metadata": {
    "slideshow": {
     "slide_type": "subslide"
    }
   },
   "source": [
    "| **Semanas**   | **CLT** | **CPA** | **LAB** | **Tut** | **Eva** | **TOT** |\n",
    "|-----------|-----|-----|-----|-----|-----|-----|\n",
    "| Semana 6  |  4  |  0  |  0  |  0  |  0  |  **4**  |\n",
    "| Semana 7  |  2  |  2  |  0  |  0  |  0  |  **4**  |\n",
    "| Semana 8  |  2  |  1  |  1  |  0  |  0  |  **4**  |\n",
    "| Semana 9  |  2  |  1  |  1  |  0  |  0  |  **4**  |\n",
    "| Semana 10 |  0  |  1  |  1  |  0  |  2  |  **4**  |\n",
    "|  **TOT hrs**  | **10**  |  **5**  |  **3**  |  **0**  |  **2**  | **20**  |"
   ]
  },
  {
   "cell_type": "markdown",
   "metadata": {
    "slideshow": {
     "slide_type": "fragment"
    }
   },
   "source": [
    "<footer>\n",
    "    <a href=https://github.com/jruizalz/EPE-ULPGC/tree/master/Bloque_2 target=\"_blank\">Acceder a los notebooks del Bloque II en GitHub</a><br/>\n",
    "    <a href=\"#/\">Volver al principio</a>\n",
    "</footer>"
   ]
  },
  {
   "cell_type": "markdown",
   "metadata": {
    "slideshow": {
     "slide_type": "slide"
    }
   },
   "source": [
    "**Bloque temático III: Secuencias y procesos aleatorios** (semanas 11 a 15)\n",
    "\n",
    "1. Secuencias y procesos estocásticos. Caracterización de segundo orden. Secuencias y procesos Gaussianos. (2 CLT, 1 CPA)\n",
    "2. Estacionariedad. Ergodicidad. Estimación de parámetros. (1 CLT)\n",
    "3. Señal en ruido. Filtrado temporal. Regresión y estimación. Clasificación y detección. (3 CLT, 2 CPA, 2 LAB)\n",
    "4. Introducción a la caracterización espectral de secuencias y procesos estocásticos. Filtros frecuenciales. (1 CLT).\n",
    "5. Condición de Markov. Cadenas de Markov. Procesos puntuales. El proceso homogéneo de Poisson. (1 CLT, 1 CPA)\n",
    "6. Procesos de nacimiento y muerte. Sistemas de colas: Sistemas M/M/1 y M/M/m. (2 CLT, 1 CPA, 1 LAB)"
   ]
  },
  {
   "cell_type": "markdown",
   "metadata": {
    "slideshow": {
     "slide_type": "fragment"
    }
   },
   "source": [
    "* La décimo quinta semana finaliza con una evaluación de dos horas, dentro de la evaluacion continua\n",
    "* Totales trabajo presencial: 20 horas = 10 CLT + 5 CPA + 3 LAB + 2 Eva"
   ]
  },
  {
   "cell_type": "markdown",
   "metadata": {
    "slideshow": {
     "slide_type": "subslide"
    }
   },
   "source": [
    "| **Semanas**   | **CLT** | **CPA** | **LAB** | **Tut** | **Eva** | **TOT** |\n",
    "|-----------|-----|-----|-----|-----|-----|-----|\n",
    "| Semana 11 |  4  |  0  |  0  |  0  |  0  |  **4**  |\n",
    "| Semana 12 |  2  |  2  |  0  |  0  |  0  |  **4**  |\n",
    "| Semana 13 |  2  |  1  |  1  |  0  |  0  |  **4**  |\n",
    "| Semana 15 |  2  |  1  |  1  |  0  |  0  |  **4**  |\n",
    "| Semana 15 |  0  |  1  |  1  |  0  |  2  |  **4**  |\n",
    "|  **TOT hrs**  | **10**  |  **5**  |  **3**  |  **0**  |  **2**  | **20**  |\n"
   ]
  },
  {
   "cell_type": "markdown",
   "metadata": {
    "slideshow": {
     "slide_type": "fragment"
    }
   },
   "source": [
    "<footer>\n",
    "    <a href=https://github.com/jruizalz/EPE-ULPGC/tree/master/Bloque_3 target=\"_blank\">Acceder a los notebooks del Bloque III en GitHub</a><br/>\n",
    "    <a href=\"#/\">Volver al principio</a>\n",
    "</footer>"
   ]
  }
 ],
 "metadata": {
  "celltoolbar": "Slideshow",
  "kernelspec": {
   "display_name": "Python 3",
   "language": "python",
   "name": "python3"
  },
  "language_info": {
   "codemirror_mode": {
    "name": "ipython",
    "version": 3
   },
   "file_extension": ".py",
   "mimetype": "text/x-python",
   "name": "python",
   "nbconvert_exporter": "python",
   "pygments_lexer": "ipython3",
   "version": "3.6.6"
  }
 },
 "nbformat": 4,
 "nbformat_minor": 2
}
