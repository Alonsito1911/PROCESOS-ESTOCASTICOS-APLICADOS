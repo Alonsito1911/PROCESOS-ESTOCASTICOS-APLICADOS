{
 "cells": [
  {
   "cell_type": "markdown",
   "metadata": {
    "slideshow": {
     "slide_type": "slide"
    }
   },
   "source": [
    "# Estadística y Procesos Estocásticos (EPE)"
   ]
  },
  {
   "cell_type": "markdown",
   "metadata": {
    "slideshow": {
     "slide_type": "fragment"
    }
   },
   "source": [
    "Estadística y Procesos Estocásticos (EPE) es una asignatura de formación matemática básica, que se estudia en el **segundo semestre del primer curso** del *Grado de Ingeniera en Tecnologías de la Telecomunicación*, en la Escuela de Ingeniería de Telecomunicación y Electrónica (EITE) de la Universidad de Las Palmas de Gran Canaria (ULPGC). Esta asignatura también se cursa en el **primer semestre del segundo curso** del Doble Grado en Dirección y Administración de Empresas y de Ingeniería en Tecnologías de la Telecomunicación, en la misma Escuela. El presente sitio web almacena un repositorio con los contenidos informáticos necesarios para seguir la asignatura."
   ]
  },
  {
   "cell_type": "markdown",
   "metadata": {
    "slideshow": {
     "slide_type": "fragment"
    }
   },
   "source": [
    "En esta asignatura se explora el concepto de *variabilidad aleatoria* y la forma en que puede modelarse en los distintos contextos que surgen en el ámbito de las telecomunicaciones. "
   ]
  },
  {
   "cell_type": "markdown",
   "metadata": {
    "slideshow": {
     "slide_type": "slide"
    }
   },
   "source": [
    "## Contenidos\n",
    "\n",
    "* Espacios de Probabilidad. \n",
    "* Variables aleatorias. Simulación de variables aleatorias. \n",
    "* Vectores aleatorios. Simulación de vectores aleatorios. \n",
    "* Introducción a los procesos estocásticos. \n",
    "* Recorridos aleatorios. \n",
    "* Simulación de procesos. \n",
    "* Procesos de Markov. \n",
    "* Cadenas homogéneas de Markov. \n",
    "* Simulación de cadenas de Markov. \n",
    "* Sistemas de colas. \n",
    "* Procesos de nacimiento y muerte. \n",
    "* Simulaciones de sistemas M/M/m. \n",
    "* Procesos estacionarios. Simulación de procesos estacionarios. Análisis espectral. Problemas de filtrado. \n",
    "* Estimación de procesos estacionarios. Ideas sobre la consistencia de la estimación."
   ]
  },
  {
   "cell_type": "markdown",
   "metadata": {
    "slideshow": {
     "slide_type": "subslide"
    }
   },
   "source": [
    "Los contenidos se exponen en clases teóricas y se demuestran en clases prácticas en el aula, y con proyectos de laboratorio. Los estudiantes deben contribuir activamente tanto en las clases prácticas en el aula como en las sesiones de laboratorio. Se hace un uso intensivo de software informático basado en Python, mediante el entorno Anaconda / Jupyter notebooks, que facilita un acceso cómodo e intuitivo al conjunto de paquetes de computación científica SciPy, cuyo conocimiento resultará de suma utilidad al alumnado, no solo en esta asignatura sino también en el futuro por su prestigio en la ciencia de datos actual en todo el mundo. Los estudiantes han de completar tanto mediante su trabajo no presencial como en las clases de laboratorio pequeños proyectos demostrativos sobre tal entorno.\n",
    "\n",
    "<br/>\n",
    "<footer>\n",
    "    <a href=https://github.com/jruizalz/EPE-ULPGC target=\"_blank\">Acceder a los notebooks de la asignatura en GitHub</a><br/>\n",
    "    <a href=\"#/\">Volver al principio</a>\n",
    "</footer>"
   ]
  },
  {
   "cell_type": "markdown",
   "metadata": {
    "slideshow": {
     "slide_type": "slide"
    }
   },
   "source": [
    "## Temario\n",
    "\n",
    "Los contenidos de la asignatura se estructuran en tres bloques de cinco semanas de duración, conforme al siguiente temario y programa. Las claves que se utilizan son las siguientes:\n",
    "\n",
    "* CLT: horas Clase Teoría, \n",
    "* CPA: horas Clase Problemas Aula, \n",
    "* LAB: horas Laboratorio, \n",
    "* Tut: horas de clase tutorizada, \n",
    "* Eva: horas Evaluación Continua\n",
    "\n",
    "**Trabajo total presencial: 60 horas = 30 CLT + 14 CPA + 8 LAB + 2 Tut + 6 Eva**"
   ]
  },
  {
   "cell_type": "markdown",
   "metadata": {
    "slideshow": {
     "slide_type": "slide"
    }
   },
   "source": [
    "**Bloque temático I: Espacio de Probabilidad** (semanas 1 a cinco)\n",
    "\n",
    "1. <a href=1.AnalisisExploratorioDatos.slides.html target=\"_blank\">Estadística. Introducción al Análisis Exploratorio de Datos</a>. (4 CLT, 1 CPA, 1 LAB)<br/>\n",
    "2. <a href=2.Probabilidad_Sucesos.slides.html target=\"_blank\">Probabilidad y Álgebra de Sucesos</a>.(2 CLT, 1 CPA)<br/>\n",
    "  * <a href=2.Probabilidad_Sucesos_new.slides.html target=\"_blank\">Nueva versión revisada</a>\n",
    "3. <a href=3.Probabilidad_Condicionada.slides.html target=\"_blank\">Probabilidad condicionada. Independencia de sucesos. Verosimilitud</a>. (1 CLT, 0.5 CPA, 0.25 LAB) \n",
    "  * <a href=3.ProbabilidadCondicionada_Independencia_Verosimilitud.slides.html target=\"_blank\">Nueva versión revisada</a>\n",
    "4. <a href=4.Probabilidad_Total_Bayes_MAP.slides.html target=\"_blank\">Teorema de la Probabilidad Total. Teorema de Bayes y probabilidad a posteriori</a>. (1 CLT, 0.5 CPA, 0.25 LAB)\n",
    "  * <a href=4.ProbabilidadTotal_Bayes.slides.html target=\"_blank\">Nueva versión revisada</a>\n",
    "5. <a href=5.Decisores_ML_MAP.slides.html target=\"_blank\">Decisores de máxima verosimilitud (ML). Decisores máximo a posteriori (MAP)</a>. (1 CLT, 0.5 CPA, 0.25 LAB)\n",
    "6. <a href=6.Experimentos_Compuestos_Bernoulli.slides.html target=\"_blank\">Experimentos compuestos. Pruebas de Bernoulli</a>. (1 CLT, 0.5 CPA, 0.25 LAB)"
   ]
  },
  {
   "cell_type": "markdown",
   "metadata": {
    "slideshow": {
     "slide_type": "fragment"
    }
   },
   "source": [
    "* La segunda semana habrá una clase tutorizada de introducción a Python.\n",
    "* La quinta semana finaliza con una evaluación de dos horas, dentro de la evaluacion continua\n",
    "* Totales trabajo presencial: 20 horas = 10 CLT + 4 CPA + 2 LAB + 2 Tut + 2 Eva"
   ]
  },
  {
   "cell_type": "markdown",
   "metadata": {
    "slideshow": {
     "slide_type": "subslide"
    }
   },
   "source": [
    "| **Semanas**   | **CLT** | **CPA** | **LAB** | **Tut** | **Eva** | **TOT** |\n",
    "|-----------|-----|-----|-----|-----|-----|-----|\n",
    "| Semana 1  |  2  |  0  |  0  |  0  |  0  |  **2**  |\n",
    "| Semana 2  |  4  |  0  |  0  |  2  |  0  |  **6**  |\n",
    "| Semana 3  |  2  |  2  |  0  |  0  |  0  |  **4**  |\n",
    "| Semana 4  |  2  |  1  |  1  |  0  |  0  |  **4**  |\n",
    "| Semana 5  |  0  |  1  |  1  |  0  |  2  |  **4**  |\n",
    "|  **TOT hrs**  | **10**  |  **4**  |  **2**  |  **2**  |  **2**  | **20**  |"
   ]
  },
  {
   "cell_type": "markdown",
   "metadata": {
    "slideshow": {
     "slide_type": "fragment"
    }
   },
   "source": [
    "<footer>\n",
    "    <a href=https://github.com/jruizalz/EPE-ULPGC/tree/master/Bloque_1 target=\"_blank\">Acceder a los notebooks del Bloque I en GitHub</a><br/>\n",
    "    <a href=\"#/\">Volver al principio</a>\n",
    "</footer>"
   ]
  },
  {
   "cell_type": "markdown",
   "metadata": {
    "slideshow": {
     "slide_type": "slide"
    }
   },
   "source": [
    "**Bloque temático II: Variable aleatoria** (semanas 6 a diez)\n",
    "\n",
    "0. <a href=0.IntroVariableAleatoria.slides.html target=\"_blank\">Introducción al Concepto de Variable Aleatoria</a>. \n",
    "  * <a href=II.0.IntroVariableAleatoria.slides.html target=\"_blank\">Nueva versión revisada</a>\n",
    "1. <a href=1.VariableAleatoriaDiscreta.slides.html target=\"_blank\">Variable aleatoria discreta. Funciones de masa de probabilidad. Caracterización</a> (1 CLT)\n",
    "  * <a href=II.1.VariableAleatoriaDiscreta.slides.html target=\"_blank\">Nueva versión revisada</a>\n",
    "2. <a href=2.DistribucionesDiscretasHabituales.slides.html target=\"_blank\">Distribuciones de probabilidad habituales</a>.  (1 CLT, 1 LAB)\n",
    "  * <a href=II.2.DistribucionesDiscretasHabituales.slides.html target=\"_blank\">Nueva versión revisada</a>\n",
    "3. <a href=3.VariableAleatoriaContinua.slides.html target=\"_blank\">Variable aleatoria continua. Funciones de densidad y distribución de probabilidad. Caracterización</a>.  (1.5 CLT, 1 CPA)\n",
    "  * <a href=II.3.VariableAleatoriaContinua.slides.html target=\"_blank\">Nueva versión revisada</a>\n",
    "4. <a href=4.DistribucionesContinuasHabituales.slides.html target=\"_blank\">Variable aleatoria Gaussiana. Otras variables aleatorias continuas habituales</a>. (1.5 CLT, 1 CPA, 1 LAB)\n",
    "  * <a href=II.4.DistribucionesContinuasHabituales.slides.html target=\"_blank\">Nueva versión revisada</a>\n",
    "5. Transformación de variables aleatorias (1 CLT, 1 CPA): se incluye en los temas II.1 y II.3"
   ]
  },
  {
   "cell_type": "markdown",
   "metadata": {
    "slideshow": {
     "slide_type": "fragment"
    }
   },
   "source": [
    "* La décima semana finaliza con una evaluación de dos horas, dentro de la evaluacion continua\n",
    "* Totales trabajo presencial: 20 horas = 10 CLT + 5 CPA + 3 LAB + 2 Eva"
   ]
  },
  {
   "cell_type": "markdown",
   "metadata": {
    "slideshow": {
     "slide_type": "subslide"
    }
   },
   "source": [
    "| **Semanas**   | **CLT** | **CPA** | **LAB** | **Tut** | **Eva** | **TOT** |\n",
    "|-----------|-----|-----|-----|-----|-----|-----|\n",
    "| Semana 6  |  4  |  0  |  0  |  0  |  0  |  **4**  |\n",
    "| Semana 7  |  2  |  2  |  0  |  0  |  0  |  **4**  |\n",
    "| Semana 8  |  2  |  1  |  1  |  0  |  0  |  **4**  |\n",
    "| Semana 9  |  2  |  1  |  1  |  0  |  0  |  **4**  |\n",
    "| Semana 10 |  0  |  1  |  1  |  0  |  2  |  **4**  |\n",
    "|  **TOT hrs**  | **10**  |  **5**  |  **3**  |  **0**  |  **2**  | **20**  |"
   ]
  },
  {
   "cell_type": "markdown",
   "metadata": {
    "slideshow": {
     "slide_type": "fragment"
    }
   },
   "source": [
    "<footer>\n",
    "    <a href=https://github.com/jruizalz/EPE-ULPGC/tree/master/Bloque_2 target=\"_blank\">Acceder a los notebooks del Bloque II en GitHub</a><br/>\n",
    "    <a href=\"#/\">Volver al principio</a>\n",
    "</footer>"
   ]
  },
  {
   "cell_type": "markdown",
   "metadata": {
    "slideshow": {
     "slide_type": "slide"
    }
   },
   "source": [
    "6. <a href=III.1.VariableAleatoriaConjunta.slides.html target=\"_blank\">Variable aleatoria bidimensional. Caracterización conjunta de vectores aleatorios bidimensionales</a> (1.5 CLT, 1 CPA)\n",
    "7. Distribución Gaussiana bidimensional. Mezcla de Gaussianas. Clasificación y Estimación (1.5 CLT, 1 CPA, 1 LAB)\n",
    "8. Variable aleatoria multidimensional. Caracterización conjunta de vectores aleatorios n-dimensionales (0.5 CLT)\n",
    "9. Distribución Gaussiana multidimensional. Mezcla de Gaussianas. Clasificación y Estimación (0.5 CLT)\n",
    "\n",
    "**Bloque temático III: Secuencias y procesos aleatorios** (semanas 11 a 15)\n",
    "\n",
    "1. Secuencias y procesos estocásticos. Caracterización de segundo orden. Secuencias y procesos Gaussianos. (2 CLT, 1 CPA)\n",
    "2. Estacionariedad. Ergodicidad. Estimación de parámetros. (1 CLT)\n",
    "3. Señal en ruido. Filtrado temporal. Regresión y estimación. Clasificación y detección. (3 CLT, 2 CPA, 2 LAB)\n",
    "4. Introducción a la caracterización espectral de secuencias y procesos estocásticos. Filtros frecuenciales. (1 CLT).\n",
    "5. Condición de Markov. Cadenas de Markov. Procesos puntuales. El proceso homogéneo de Poisson. (1 CLT, 1 CPA)\n",
    "6. Procesos de nacimiento y muerte. Sistemas de colas: Sistemas M/M/1 y M/M/m. (2 CLT, 1 CPA, 1 LAB)"
   ]
  },
  {
   "cell_type": "markdown",
   "metadata": {
    "slideshow": {
     "slide_type": "fragment"
    }
   },
   "source": [
    "* La décimo quinta semana finaliza con una evaluación de dos horas, dentro de la evaluacion continua\n",
    "* Totales trabajo presencial: 20 horas = 10 CLT + 5 CPA + 3 LAB + 2 Eva"
   ]
  },
  {
   "cell_type": "markdown",
   "metadata": {
    "slideshow": {
     "slide_type": "subslide"
    }
   },
   "source": [
    "| **Semanas**   | **CLT** | **CPA** | **LAB** | **Tut** | **Eva** | **TOT** |\n",
    "|-----------|-----|-----|-----|-----|-----|-----|\n",
    "| Semana 11 |  4  |  0  |  0  |  0  |  0  |  **4**  |\n",
    "| Semana 12 |  2  |  2  |  0  |  0  |  0  |  **4**  |\n",
    "| Semana 13 |  2  |  1  |  1  |  0  |  0  |  **4**  |\n",
    "| Semana 15 |  2  |  1  |  1  |  0  |  0  |  **4**  |\n",
    "| Semana 15 |  0  |  1  |  1  |  0  |  2  |  **4**  |\n",
    "|  **TOT hrs**  | **10**  |  **5**  |  **3**  |  **0**  |  **2**  | **20**  |\n"
   ]
  },
  {
   "cell_type": "markdown",
   "metadata": {
    "slideshow": {
     "slide_type": "fragment"
    }
   },
   "source": [
    "<footer>\n",
    "    <a href=https://github.com/jruizalz/EPE-ULPGC/tree/master/Bloque_3 target=\"_blank\">Acceder a los notebooks del Bloque III en GitHub</a><br/>\n",
    "    <a href=\"#/\">Volver al principio</a>\n",
    "</footer>"
   ]
  },
  {
   "cell_type": "markdown",
   "metadata": {
    "slideshow": {
     "slide_type": "slide"
    }
   },
   "source": [
    "## Evaluación\n",
    "\n",
    "### Evaluación continua\n",
    "\n",
    "* Pruebas escritas al final de cada bloque temático (50%): Todas las respuestas tienen que estar motivadas. **No se admitirán respuestas que no estén debidamente razonadas**. Cada Prueba:\n",
    "  * Preguntas teóricas cortas: 4 puntos\n",
    "  * Dos casos y/o problemas de respuesta larga: 6 puntos\n",
    "    * Bloque I (15%)\n",
    "    * Bloque II (15%)\n",
    "    * Bloque III (20%)\n",
    "  * Debe obtenerse al menos 3 en cada prueba para liberarla y promediar.\n",
    "* Ejercicios de autoevaluación, asistencia y participación en clase (10%). **La asistencia a clase es obligatoria**.\n",
    "* Entrega de tres trabajos en grupo, uno por cada bloque temático (10% cada uno).\n",
    "  * Debe obtenerse al menos un 3 en cada trabajo para liberarlo y promediar.\n",
    "* Elaboración de las prácticas de laboratorio con los mismos grupos de trabajo (10%). **La sistencia al laboratorio es obligatoria**\n",
    "  * Debe obtenerse al menos un 3 para liberar el laboratorio y promediar\n",
    "* Las partes no liberadas deben repetirse para la evaluación final."
   ]
  },
  {
   "cell_type": "markdown",
   "metadata": {
    "slideshow": {
     "slide_type": "subslide"
    }
   },
   "source": [
    "### Convocatoria ordinaria y extraordinaria\n",
    "\n",
    "* Se guardan las partes liberadas de la evaluación continua (siempre que se haya llegado a 3) para promediar\n",
    "* Los estudiantes habrán de hacer el examen escrito, solo de las partes no liberadas. En conjunto, habrán de llegar al menos a un 3 (en total, no de cada parte) para poder promediar. \n",
    "* En la convocatoria ordinaria: \n",
    "  * los grupos pueden rehacer y presentar los trabajos no liberados\n",
    "  * igualmente, pueden hacer con el laboratorio, acordando con el profesorado el régimen de elaboración de las prácticas no liberadas\n",
    "* En la convocatoria extraordinaria\n",
    "  * Los trabajos y el laboratorio no liberados deberán rehacerse **de forma individual**.\n",
    "  * Se acordará en cada caso con el profesorado el contenido de los trabajos y del laboratorio que no se hayan liberado."
   ]
  },
  {
   "cell_type": "markdown",
   "metadata": {
    "slideshow": {
     "slide_type": "subslide"
    }
   },
   "source": [
    "### Convocatoria especial\n",
    "\n",
    "* Se hará un único examen escrito, con un formato semejante al de las convocatorias ordinaria y extraordinaria.\n",
    "* Podrán preguntarse elementos propios de las prácticas en el aula y en el laboratorio, dentro de los bloques temáticos correspondientes.\n",
    "* No se tendrán en consideración partes que pudieran haberse superado con anterioridad, debiendo examinarse de la asignatura completa"
   ]
  }
 ],
 "metadata": {
  "celltoolbar": "Slideshow",
  "kernelspec": {
   "display_name": "Python 3",
   "language": "python",
   "name": "python3"
  },
  "language_info": {
   "codemirror_mode": {
    "name": "ipython",
    "version": 3
   },
   "file_extension": ".py",
   "mimetype": "text/x-python",
   "name": "python",
   "nbconvert_exporter": "python",
   "pygments_lexer": "ipython3",
   "version": "3.7.2"
  }
 },
 "nbformat": 4,
 "nbformat_minor": 2
}
