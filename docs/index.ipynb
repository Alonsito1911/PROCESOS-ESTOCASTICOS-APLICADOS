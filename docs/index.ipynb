{
 "cells": [
  {
   "cell_type": "markdown",
   "metadata": {
    "slideshow": {
     "slide_type": "slide"
    }
   },
   "source": [
    "# Estadística y Procesos Estocásticos (EPE)"
   ]
  },
  {
   "cell_type": "markdown",
   "metadata": {
    "slideshow": {
     "slide_type": "fragment"
    }
   },
   "source": [
    "Estadística y Procesos Estocásticos (EPE) es una asignatura de formación matemática básica, que se estudia en el **segundo semestre del primer curso** del *Grado de Ingeniera en Tecnologías de la Telecomunicación*, en la Escuela de Ingeniería de Telecomunicación y Electrónica (EITE) de la Universidad de Las Palmas de Gran Canaria (ULPGC). Esta asignatura también se cursa en el **primer semestre del segundo curso** del Doble Grado en Dirección y Administración de Empresas y de Ingeniería en Tecnologías de la Telecomunicación, en la misma Escuela. El presente sitio web almacena un repositorio con los contenidos informáticos necesarios para seguir la asignatura."
   ]
  },
  {
   "cell_type": "markdown",
   "metadata": {
    "slideshow": {
     "slide_type": "fragment"
    }
   },
   "source": [
    "En esta asignatura se explora el concepto de *variabilidad aleatoria* y la forma en que puede modelarse en los distintos contextos que surgen en el ámbito de las telecomunicaciones. Esta variabilidad se manifiesta en los dominios del tiempo y la frecuencia en el estudio de los sistemas de colas y el tratamiento de la señal. "
   ]
  },
  {
   "cell_type": "markdown",
   "metadata": {
    "slideshow": {
     "slide_type": "slide"
    }
   },
   "source": [
    "## Contenidos\n",
    "\n",
    "* Espacios de Probabilidad. \n",
    "* Variables aleatorias. Simulación de variables aleatorias. \n",
    "* Vectores aleatorios. Simulación de vectores aleatorios. \n",
    "* Introducción a los procesos estocásticos. \n",
    "* Recorridos aleatorios. \n",
    "* Simulación de procesos. \n",
    "* Procesos de Markov. \n",
    "* Cadenas homogéneas de Markov. \n",
    "* Simulación de cadenas de Markov. \n",
    "* Sistemas de colas. \n",
    "* Procesos de nacimiento y muerte. \n",
    "* Simulaciones de sistemas M/M/m. \n",
    "* Procesos estacionarios. Simulación de procesos estacionarios. Análisis espectral. Problemas de filtrado. \n",
    "* Estimación de procesos estacionarios. Ideas sobre la consistencia de la estimación."
   ]
  },
  {
   "cell_type": "markdown",
   "metadata": {
    "slideshow": {
     "slide_type": "subslide"
    }
   },
   "source": [
    "Los contenidos se exponen en clases teóricas y se demuestran en clases prácticas en el aula, y con proyectos de laboratorio. Los estudiantes deben contribuir activamente tanto en las clases prácticas en el aula como en las sesiones de laboratorio. Se hace un uso intensivo de software informático basado en Python, mediante el entorno Anaconda / Jupyter notebooks, que facilita un acceso cómodo e intuitivo al conjunto de paquetes de computación científica SciPy, cuyo conocimiento resultará de suma utilidad al alumnado, no solo en esta asignatura sino también en el futuro por su prestigio en la ciencia de datos actual en todo el mundo. Los estudiantes han de completar tanto mediante su trabajo no presencial como en las clases de laboratorio pequeños proyectos demostrativos sobre tal entorno.\n",
    "\n",
    "<br/>\n",
    "<footer>\n",
    "    <a href=https://github.com/jruizalz/EPE-ULPGC target=\"_blank\">Acceder a los notebooks de la asignatura en GitHub</a><br/>\n",
    "    <a href=\"#/\">Volver al principio</a>\n",
    "</footer>"
   ]
  },
  {
   "cell_type": "markdown",
   "metadata": {
    "slideshow": {
     "slide_type": "slide"
    }
   },
   "source": [
    "## Temario\n",
    "\n",
    "Los contenidos de la asignatura se estructuran en tres bloques de cinco semanas de duración, conforme al siguiente temario.\n"
   ]
  },
  {
   "cell_type": "markdown",
   "metadata": {
    "slideshow": {
     "slide_type": "fragment"
    }
   },
   "source": [
    "**Bloque temático I: Espacio de Probabilidad**\n",
    "1. [Estadística. Introducción al Análisis Exploratorio de Datos](1.AnalisisExploratorioDatos.slides.html).\n",
    "2. Probabilidad y Álgebra de Sucesos.\n",
    "3. Probabilidad condicionada. Independencia de sucesos. Verosimilitud \n",
    "4. Teorema de la Probabilidad Total. Teorema de Bayes y probabilidad a posteriori\n",
    "5. Decisores de máxima verosimilitud (ML). Decisores máximo a posteriori (ML) \n",
    "6. Experimentos compuestos. Pruebas de Bernoulli\n",
    "\n",
    "<footer>\n",
    "    <a href=https://github.com/jruizalz/EPE-ULPGC/tree/master/Bloque_1 target=\"_blank\">Acceder a los notebooks del Bloque I en GitHub</a><br/>\n",
    "    <a href=\"#/\">Volver al principio</a>\n",
    "</footer>"
   ]
  },
  {
   "cell_type": "markdown",
   "metadata": {
    "slideshow": {
     "slide_type": "subslide"
    }
   },
   "source": [
    "**Bloque temático II: Variable aleatoria**\n",
    "1. Variable aleatoria discreta. Funciones de masa de probabilidad. Caracterización\n",
    "2. Distribuciones de probabilidad habituales\n",
    "3. Variable aleatoria continua. Funciones de densidad y distribución de probabilidad. Caracterización\n",
    "4. Variable aleatoria Gaussiana. Otras variables aleatorias continuas habituales.\n",
    "5. Transformación de variables aleatorias\n",
    "6. Variable aleatoria bidimensional. Caracterización conjunta de vectores aleatorios bidimensionales\n",
    "7. Distribución Gaussiana bidimensional. Mezcla de Gaussianas. Clasificación y Estimación\n",
    "8. Variable aleatoria multidimensional. Caracterización conjunta de vectores aleatorios n-dimensionales\n",
    "9. Distribución Gaussiana multidimensional. Mezcla de Gaussianas. Clasificación y Estimación"
   ]
  },
  {
   "cell_type": "markdown",
   "metadata": {
    "slideshow": {
     "slide_type": "subslide"
    }
   },
   "source": [
    "**Bloque temático III: Secuencias y procesos aleatorios**\n",
    "1. Secuencias y procesos estocásticos. Caracterización de segundo orden. Secuencias y procesos Gaussianos.\n",
    "2. Estacionariedad. Ergodicidad. Estimación de parámetros. \n",
    "3. Señal en ruido. Filtrado temporal. Regresión y estimación. Clasificación y detección.\n",
    "4. Introducción a la caracterización espectral de secuencias y procesos estocásticos. Filtros frecuenciales.\n",
    "5. Condición de Markov. Cadenas de Markov. Procesos puntuales. El proceso homogéneo de Poisson\n",
    "6. Procesos de nacimiento y muerte. Sistemas de colas: Sistemas M/M/1 y M/M/m\n",
    "\n",
    "<footer>\n",
    "    <a href=https://github.com/jruizalz/EPE-ULPGC target=\"_blank\">Acceder a los notebooks de la asignatura en GitHub</a><br/>\n",
    "    <a href=\"#/\">Volver al principio</a>\n",
    "</footer>"
   ]
  }
 ],
 "metadata": {
  "celltoolbar": "Slideshow",
  "kernelspec": {
   "display_name": "Python 3",
   "language": "python",
   "name": "python3"
  },
  "language_info": {
   "codemirror_mode": {
    "name": "ipython",
    "version": 3
   },
   "file_extension": ".py",
   "mimetype": "text/x-python",
   "name": "python",
   "nbconvert_exporter": "python",
   "pygments_lexer": "ipython3",
   "version": "3.6.6"
  }
 },
 "nbformat": 4,
 "nbformat_minor": 2
}
